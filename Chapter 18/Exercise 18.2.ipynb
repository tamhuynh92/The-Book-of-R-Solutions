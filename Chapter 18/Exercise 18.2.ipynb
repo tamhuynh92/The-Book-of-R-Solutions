{
 "cells": [
  {
   "cell_type": "markdown",
   "metadata": {
    "collapsed": true
   },
   "source": [
    "*** In the package MASS you’ll find the data set anorexia, which contains data on pre- and post-treatment weights (in pounds) of 72 young women suffering from the disease, obtained from Hand et al. (1994). One group of women is the control group (in other words, no intervention), and the other two groups are the cognitive behavioral program and family support intervention program groups. Load the library and ensure you can access the data frame and understand its contents. Let µd denote the mean difference in weight, computed as (post-weight − pre-weight).*** \n",
    "\n",
    "***  a. Regardless of which treatment group the participants fall into, conduct and conclude an appropriate hypothesis test with α = 0.05 for the entire set of weights for the following hypotheses: *** \n",
    "\n",
    "H0 : µd = 0\n",
    "\n",
    "HA : µd > 0\n"
   ]
  },
  {
   "cell_type": "code",
   "execution_count": 10,
   "metadata": {},
   "outputs": [
    {
     "data": {
      "text/html": [
       "<table>\n",
       "<thead><tr><th scope=col>Treat</th><th scope=col>Prewt</th><th scope=col>Postwt</th></tr></thead>\n",
       "<tbody>\n",
       "\t<tr><td>Cont</td><td>80.7</td><td>80.2</td></tr>\n",
       "\t<tr><td>Cont</td><td>89.4</td><td>80.1</td></tr>\n",
       "</tbody>\n",
       "</table>\n"
      ],
      "text/latex": [
       "\\begin{tabular}{r|lll}\n",
       " Treat & Prewt & Postwt\\\\\n",
       "\\hline\n",
       "\t Cont & 80.7 & 80.2\\\\\n",
       "\t Cont & 89.4 & 80.1\\\\\n",
       "\\end{tabular}\n"
      ],
      "text/markdown": [
       "\n",
       "Treat | Prewt | Postwt | \n",
       "|---|---|\n",
       "| Cont | 80.7 | 80.2 | \n",
       "| Cont | 89.4 | 80.1 | \n",
       "\n",
       "\n"
      ],
      "text/plain": [
       "  Treat Prewt Postwt\n",
       "1 Cont  80.7  80.2  \n",
       "2 Cont  89.4  80.1  "
      ]
     },
     "metadata": {},
     "output_type": "display_data"
    },
    {
     "data": {
      "text/html": [
       "<ol class=list-inline>\n",
       "\t<li>'CBT'</li>\n",
       "\t<li>'Cont'</li>\n",
       "\t<li>'FT'</li>\n",
       "</ol>\n"
      ],
      "text/latex": [
       "\\begin{enumerate*}\n",
       "\\item 'CBT'\n",
       "\\item 'Cont'\n",
       "\\item 'FT'\n",
       "\\end{enumerate*}\n"
      ],
      "text/markdown": [
       "1. 'CBT'\n",
       "2. 'Cont'\n",
       "3. 'FT'\n",
       "\n",
       "\n"
      ],
      "text/plain": [
       "[1] \"CBT\"  \"Cont\" \"FT\"  "
      ]
     },
     "metadata": {},
     "output_type": "display_data"
    },
    {
     "data": {
      "text/html": [
       "37.706048513302"
      ],
      "text/latex": [
       "37.706048513302"
      ],
      "text/markdown": [
       "37.706048513302"
      ],
      "text/plain": [
       "[1] 37.70605"
      ]
     },
     "metadata": {},
     "output_type": "display_data"
    }
   ],
   "source": [
    "library(\"MASS\")\n",
    "anorexia[1:2,]\n",
    "n <- nrow(anorexia)\n",
    "\n",
    "(sd(anorexia$Postwt))^2 - (sd(anorexia$Prewt))^2"
   ]
  },
  {
   "cell_type": "markdown",
   "metadata": {},
   "source": [
    "Since the different in variance is different than 0. So we use unpaired/independent sample"
   ]
  },
  {
   "cell_type": "code",
   "execution_count": 18,
   "metadata": {},
   "outputs": [
    {
     "data": {
      "text/plain": [
       "\n",
       "\tWelch Two Sample t-test\n",
       "\n",
       "data:  anorexia$Postwt and anorexia$Prewt\n",
       "t = 2.4528, df = 121.36, p-value = 0.007798\n",
       "alternative hypothesis: true difference in means is greater than 0\n",
       "95 percent confidence interval:\n",
       " 0.8961579       Inf\n",
       "sample estimates:\n",
       "mean of x mean of y \n",
       " 85.17222  82.40833 \n"
      ]
     },
     "metadata": {},
     "output_type": "display_data"
    }
   ],
   "source": [
    "t.test(x=anorexia$Postwt, y=anorexia$Prewt, alternative = \"greater\", conf.level = .95)"
   ]
  },
  {
   "cell_type": "markdown",
   "metadata": {},
   "source": [
    "Since p-value is << 0.05, hence we can reject Ho."
   ]
  },
  {
   "cell_type": "markdown",
   "metadata": {},
   "source": [
    "\n",
    "***  b. Next, conduct three separate hypothesis tests using the same defined hypotheses, based on which treatment group the participants fall into. What do you notice? ***\n",
    "\n",
    "\n"
   ]
  },
  {
   "cell_type": "code",
   "execution_count": 31,
   "metadata": {},
   "outputs": [
    {
     "name": "stdout",
     "output_type": "stream",
     "text": [
      "Unpaired/Independent Samples: Unpooled Variances"
     ]
    },
    {
     "data": {
      "text/plain": [
       "\n",
       "\tWelch Two Sample t-test\n",
       "\n",
       "data:  anorexia$Postwt and anorexia$Prewt\n",
       "t = 2.4528, df = 121.36, p-value = 0.007798\n",
       "alternative hypothesis: true difference in means is greater than 0\n",
       "95 percent confidence interval:\n",
       " 0.8961579       Inf\n",
       "sample estimates:\n",
       "mean of x mean of y \n",
       " 85.17222  82.40833 \n"
      ]
     },
     "metadata": {},
     "output_type": "display_data"
    },
    {
     "name": "stdout",
     "output_type": "stream",
     "text": [
      "==========================================================================\n",
      "Unpaired/Independent Samples: Pooled Variance"
     ]
    },
    {
     "data": {
      "text/plain": [
       "\n",
       "\tTwo Sample t-test\n",
       "\n",
       "data:  anorexia$Postwt and anorexia$Prewt\n",
       "t = 2.4528, df = 142, p-value = 0.007693\n",
       "alternative hypothesis: true difference in means is greater than 0\n",
       "95 percent confidence interval:\n",
       " 0.8982443       Inf\n",
       "sample estimates:\n",
       "mean of x mean of y \n",
       " 85.17222  82.40833 \n"
      ]
     },
     "metadata": {},
     "output_type": "display_data"
    },
    {
     "name": "stdout",
     "output_type": "stream",
     "text": [
      "==========================================================================\n",
      "Paired/Dependent Samples"
     ]
    },
    {
     "data": {
      "text/plain": [
       "\n",
       "\tPaired t-test\n",
       "\n",
       "data:  anorexia$Postwt and anorexia$Prewt\n",
       "t = 2.9376, df = 71, p-value = 0.002229\n",
       "alternative hypothesis: true difference in means is greater than 0\n",
       "95 percent confidence interval:\n",
       " 1.195825      Inf\n",
       "sample estimates:\n",
       "mean of the differences \n",
       "               2.763889 \n"
      ]
     },
     "metadata": {},
     "output_type": "display_data"
    }
   ],
   "source": [
    "cat(\"Unpaired/Independent Samples: Unpooled Variances\" )\n",
    "t.test(x=anorexia$Postwt, y=anorexia$Prewt, alternative = \"greater\", conf.level = .95)\n",
    "\n",
    "cat(\"==========================================================================\\n\")\n",
    "cat(\"Unpaired/Independent Samples: Pooled Variance\")\n",
    "t.test(x=anorexia$Postwt, y=anorexia$Prewt, alternative = \"greater\", conf.level = .95, var.equal  = TRUE)\n",
    "\n",
    "cat(\"==========================================================================\\n\")\n",
    "cat(\"Paired/Dependent Samples\")\n",
    "t.test(x=anorexia$Postwt,y=anorexia$Prewt,alternative=\"greater\",conf.level=0.95, paired=TRUE)\n"
   ]
  },
  {
   "cell_type": "markdown",
   "metadata": {},
   "source": [
    "All of the p-value are less than the significant level. Hence we can conclude that the true difference in means is greater than 0"
   ]
  },
  {
   "cell_type": "markdown",
   "metadata": {},
   "source": [
    "*** Another ready-to-use data set in R is PlantGrowth (Dobson, 1983), which records a continuous measure of the yields of a certain plant, looking at the potential effect of two supplements administered during growth to increase the yield when compared to a control group with no supplement.*** \n",
    "\n",
    "***  c. Set up hypotheses to test whether the mean yield for the control group is less than the mean yield from a plant given either of the treatments. Determine whether this test should proceed using a pooled estimate of the variance or whether Welch’s t-test would be more appropriate. *** \n",
    "\n",
    "***  d. Conduct the test and make a conclusion (assuming normality of the raw observations).*** \n"
   ]
  },
  {
   "cell_type": "code",
   "execution_count": 13,
   "metadata": {},
   "outputs": [
    {
     "data": {
      "text/html": [
       "<table>\n",
       "<thead><tr><th scope=col>weight</th><th scope=col>group</th></tr></thead>\n",
       "<tbody>\n",
       "\t<tr><td>4.17</td><td>ctrl</td></tr>\n",
       "\t<tr><td>5.58</td><td>ctrl</td></tr>\n",
       "</tbody>\n",
       "</table>\n"
      ],
      "text/latex": [
       "\\begin{tabular}{r|ll}\n",
       " weight & group\\\\\n",
       "\\hline\n",
       "\t 4.17 & ctrl\\\\\n",
       "\t 5.58 & ctrl\\\\\n",
       "\\end{tabular}\n"
      ],
      "text/markdown": [
       "\n",
       "weight | group | \n",
       "|---|---|\n",
       "| 4.17 | ctrl | \n",
       "| 5.58 | ctrl | \n",
       "\n",
       "\n"
      ],
      "text/plain": [
       "  weight group\n",
       "1 4.17   ctrl \n",
       "2 5.58   ctrl "
      ]
     },
     "metadata": {},
     "output_type": "display_data"
    },
    {
     "name": "stdout",
     "output_type": "stream",
     "text": [
      "Variance\n"
     ]
    },
    {
     "data": {
      "text/html": [
       "<dl class=dl-horizontal>\n",
       "\t<dt>ctrl</dt>\n",
       "\t\t<dd>0.339995555555556</dd>\n",
       "\t<dt>trt1</dt>\n",
       "\t\t<dd>0.629921111111111</dd>\n",
       "\t<dt>trt2</dt>\n",
       "\t\t<dd>0.195871111111111</dd>\n",
       "</dl>\n"
      ],
      "text/plain": [
       "     ctrl      trt1      trt2 \n",
       "0.3399956 0.6299211 0.1958711 "
      ]
     },
     "metadata": {},
     "output_type": "display_data"
    },
    {
     "name": "stdout",
     "output_type": "stream",
     "text": [
      "Mean\n"
     ]
    },
    {
     "data": {
      "text/html": [
       "<dl class=dl-horizontal>\n",
       "\t<dt>ctrl</dt>\n",
       "\t\t<dd>5.032</dd>\n",
       "\t<dt>trt1</dt>\n",
       "\t\t<dd>4.661</dd>\n",
       "\t<dt>trt2</dt>\n",
       "\t\t<dd>5.526</dd>\n",
       "</dl>\n"
      ],
      "text/plain": [
       " ctrl  trt1  trt2 \n",
       "5.032 4.661 5.526 "
      ]
     },
     "metadata": {},
     "output_type": "display_data"
    },
    {
     "name": "stdout",
     "output_type": "stream",
     "text": [
      "Since the variance in three groups are not equal. We should use Unpaired/Independent Samples: Unpooled Variances\n",
      "Crtl vs. Trt1 \n"
     ]
    },
    {
     "data": {
      "text/plain": [
       "\n",
       "\tWelch Two Sample t-test\n",
       "\n",
       "data:  PlantGrowth$weight[PlantGrowth$group == \"ctrl\"] and PlantGrowth$weight[PlantGrowth$group == \"trt1\"]\n",
       "t = 1.1913, df = 16.524, p-value = 0.8748\n",
       "alternative hypothesis: true difference in means is less than 0\n",
       "95 percent confidence interval:\n",
       "      -Inf 0.9136743\n",
       "sample estimates:\n",
       "mean of x mean of y \n",
       "    5.032     4.661 \n"
      ]
     },
     "metadata": {},
     "output_type": "display_data"
    },
    {
     "name": "stdout",
     "output_type": "stream",
     "text": [
      "\n",
      "\n",
      "Crtl vs. Trt2 \n"
     ]
    },
    {
     "data": {
      "text/plain": [
       "\n",
       "\tWelch Two Sample t-test\n",
       "\n",
       "data:  PlantGrowth$weight[PlantGrowth$group == \"ctrl\"] and PlantGrowth$weight[PlantGrowth$group == \"trt2\"]\n",
       "t = -2.134, df = 16.786, p-value = 0.02395\n",
       "alternative hypothesis: true difference in means is less than 0\n",
       "95 percent confidence interval:\n",
       "        -Inf -0.09100612\n",
       "sample estimates:\n",
       "mean of x mean of y \n",
       "    5.032     5.526 \n"
      ]
     },
     "metadata": {},
     "output_type": "display_data"
    }
   ],
   "source": [
    "PlantGrowth[1:2,]\n",
    "cat(\"Variance\\n\")\n",
    "tapply(PlantGrowth$weight, INDEX = PlantGrowth$group, FUN = var)\n",
    "cat(\"Mean\\n\")\n",
    "tapply(PlantGrowth$weight, INDEX = PlantGrowth$group, FUN = mean)\n",
    "\n",
    "\n",
    "cat(\"Since the variance in three groups are not equal. We should use Unpaired/Independent Samples: Unpooled Variances\\n\")\n",
    "#Ho:  ctrl- trt =0 \n",
    "#Ha: ctrl - trt < 0\n",
    "\n",
    "\n",
    "cat(\"Crtl vs. Trt1 \\n\")\n",
    "t.test(x=PlantGrowth$weight[PlantGrowth$group == \"ctrl\"]\n",
    "       , y=PlantGrowth$weight[PlantGrowth$group == \"trt1\"], alternative = \"less\", conf.level = .95)\n",
    "\n",
    "cat(\"\\n\\nCrtl vs. Trt2 \\n\")\n",
    "t.test(x=PlantGrowth$weight[PlantGrowth$group == \"ctrl\"]\n",
    "       , y=PlantGrowth$weight[PlantGrowth$group == \"trt2\"], alternative = \"less\", conf.level = .95)"
   ]
  },
  {
   "cell_type": "markdown",
   "metadata": {},
   "source": [
    "***For ctrl vs. Trt1: ***\n",
    "\n",
    "The p-value = 0.8748. We cannot reject Ho. So the mean yield for the control group is not less than the mean yield from a plant given in  the treatments 1.\n",
    "\n",
    "*** For ctrl vs. Trt2: ***\n",
    "\n",
    "The p-value = 0.02395. We can reject Ho. So the mean yield for the control group is less than the mean yield from a plant given in  the treatments 2. "
   ]
  },
  {
   "cell_type": "markdown",
   "metadata": {},
   "source": [
    "*** As discussed, there is a rule of thumb for deciding whether to use a pooled estimate of the variance in an unpaired t-test. ***\n",
    "\n",
    "*** e. Your task is to write a wrapper function that calls t.test after deciding whether it should be executed with var.equal=FALSE according to the rule of thumb. Use the following guidelines:*** \n",
    "* Your function should take four defined arguments: x and y with no defaults, to be treated in the same way as the same arguments in t.test; and var.equal and paired, with defaults that are the same as the defaults of t.test.\n",
    "* An ellipsis (Section 9.2.5) should be included to represent any additional arguments to be passed to t.test.\n",
    "* Upon execution, the function should determine whether paired=FALSE.\n",
    "    - If paired is TRUE, then there is no need to proceed with the check of a pooled variance.\n",
    "    - If paired is FALSE, then the function should determinethe value for var.equal automatically by using the rule of thumb.\n",
    "* If the value of var.equal was set automatically, you can assume it will override any value of this argument initially supplied by the user.\n",
    "* Then, call t.test appropriately.\n",
    "\n"
   ]
  },
  {
   "cell_type": "code",
   "execution_count": 26,
   "metadata": {
    "collapsed": true
   },
   "outputs": [],
   "source": [
    "wrapper <- function(x,y, var.equal = FALSE , paired = FALSE,...) {\n",
    "    if(paired == TRUE) {\n",
    "        t.test(x,y, paired = TRUE,var.equal = FALSE, ...)\n",
    "    } \n",
    "    else {\n",
    "        if(var.equal == FALSE) {\n",
    "            t.test(x,y,paired = FALSE, var.equal = FALSE,...)\n",
    "        } \n",
    "        else {\n",
    "            t.test(x,y,paired = FALSE, var.equal = TRUE,...)\n",
    "        }\n",
    "    }\n",
    "}"
   ]
  },
  {
   "cell_type": "markdown",
   "metadata": {},
   "source": [
    "*** f. Try your new function on all three examples in the text of Section 18.2.2, ensuring you reach identical results. ***"
   ]
  },
  {
   "cell_type": "code",
   "execution_count": 23,
   "metadata": {
    "collapsed": true
   },
   "outputs": [],
   "source": [
    "snacks <- c(87.7,80.01,77.28,78.76,81.52,74.2,80.71,79.5,77.87,81.94,80.7,82.32,75.78,80.19,83.91,79.4,77.52,77.62,\n",
    "            81.4,74.89,82.95, 73.59,77.92,77.18,79.83,81.23,79.28,78.44,79.01,80.47,76.23,\n",
    "            78.89,77.14,69.94,78.54,79.7,82.45,77.29,75.52,77.21,75.99, 81.94,80.41,77.7)\n",
    "\n",
    "snacks2 <- c(80.22,79.73,81.1,78.76,82.03,81.66,80.97,81.32,80.12,78.98, 79.21,81.48,79.86,81.06,77.96,80.73,\n",
    "             80.34,80.01,81.82,79.3,79.08,79.47,78.98,80.87,82.24,77.22,80.03,79.2,80.95,79.17,81)"
   ]
  },
  {
   "cell_type": "code",
   "execution_count": 30,
   "metadata": {},
   "outputs": [
    {
     "data": {
      "text/plain": [
       "\n",
       "\tWelch Two Sample t-test\n",
       "\n",
       "data:  x and y\n",
       "t = 2.4455, df = 60.091, p-value = 0.008706\n",
       "alternative hypothesis: true difference in means is greater than 0\n",
       "90 percent confidence interval:\n",
       " 0.5859714       Inf\n",
       "sample estimates:\n",
       "mean of x mean of y \n",
       " 80.15710  78.91068 \n"
      ]
     },
     "metadata": {},
     "output_type": "display_data"
    }
   ],
   "source": [
    "wrapper(x=snacks2, y=snacks, alternative = \"greater\", conf.level = 0.9)"
   ]
  },
  {
   "cell_type": "code",
   "execution_count": 31,
   "metadata": {},
   "outputs": [
    {
     "data": {
      "text/plain": [
       "\n",
       "\tTwo Sample t-test\n",
       "\n",
       "data:  x and y\n",
       "t = -0.93758, df = 30, p-value = 0.3559\n",
       "alternative hypothesis: true difference in means is not equal to 0\n",
       "95 percent confidence interval:\n",
       " -19.016393   7.049727\n",
       "sample estimates:\n",
       "mean of x mean of y \n",
       " 92.66667  98.65000 \n"
      ]
     },
     "metadata": {},
     "output_type": "display_data"
    }
   ],
   "source": [
    "men <- c(102,87,101,96,107,101,91,85,108,67,85,82)\n",
    "women <- c(73,81,111,109,143,95,92,120,93,89,119,79,90,126,62,92,77,106, 105,111)\n",
    "wrapper(x=men, y=women, alternative = \"two.sided\", conf.level = 0.95, var.equal = TRUE)"
   ]
  },
  {
   "cell_type": "code",
   "execution_count": 32,
   "metadata": {},
   "outputs": [
    {
     "data": {
      "text/plain": [
       "\n",
       "\tPaired t-test\n",
       "\n",
       "data:  x and y\n",
       "t = -4.8011, df = 15, p-value = 0.0001167\n",
       "alternative hypothesis: true difference in means is less than 0\n",
       "95 percent confidence interval:\n",
       "      -Inf -4.721833\n",
       "sample estimates:\n",
       "mean of the differences \n",
       "                -7.4375 \n"
      ]
     },
     "metadata": {},
     "output_type": "display_data"
    }
   ],
   "source": [
    "rate.before <- c(52,66,89,87,89,72,66,65,49,62,70,52,75,63,65,61)\n",
    "rate.after <- c(51,66,71,73,70,68,60,51,40,57,65,53,64,56,60,59)\n",
    "wrapper(x=rate.after,y=rate.before,alternative=\"less\",conf.level=0.95, paired=TRUE)\n"
   ]
  },
  {
   "cell_type": "code",
   "execution_count": null,
   "metadata": {
    "collapsed": true
   },
   "outputs": [],
   "source": []
  }
 ],
 "metadata": {
  "kernelspec": {
   "display_name": "R",
   "language": "R",
   "name": "r"
  },
  "language_info": {
   "codemirror_mode": "r",
   "file_extension": ".r",
   "mimetype": "text/x-r-source",
   "name": "R",
   "pygments_lexer": "r",
   "version": "3.3.0"
  }
 },
 "nbformat": 4,
 "nbformat_minor": 2
}
