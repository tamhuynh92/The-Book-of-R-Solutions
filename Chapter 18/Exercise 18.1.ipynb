{
 "cells": [
  {
   "cell_type": "markdown",
   "metadata": {},
   "source": [
    "*** a. Adult domestic cats of a certain breed are said to have an average weight of 3.5 kilograms. A feline enthusiast disagrees and collects a sample of 73 weights of cats of this breed. From her sample, she calculates a mean of 3.97 kilograms and a standard deviation of 2.21 kilograms. Perform a hypothesis test to test her claim that the true mean weight µ is not 3.5 kilograms by setting up the appropriate hypothesis, carrying out the analysis, and interpreting the p-value (assume the significance level is α = 0.05). ***\n",
    "\n",
    "\n"
   ]
  },
  {
   "cell_type": "code",
   "execution_count": 8,
   "metadata": {},
   "outputs": [
    {
     "name": "stdout",
     "output_type": "stream",
     "text": [
      "p-value:  0.07337077"
     ]
    }
   ],
   "source": [
    "n <- 73\n",
    "mu <- 3.5\n",
    "cat.mean <- 3.97\n",
    "cat.sd <- 2.21\n",
    "cat.se <- cat.sd/sqrt(n)\n",
    "cat.T <- (cat.mean - mu)/cat.se\n",
    "#Calculate p-value for 2 sides t-test\n",
    "cat(\"p-value: \",2*(1 - pt(cat.T, df=n-1)))"
   ]
  },
  {
   "cell_type": "markdown",
   "metadata": {},
   "source": [
    "Since p-value is > α; hence, we can not reject Ho. There is no different "
   ]
  },
  {
   "cell_type": "markdown",
   "metadata": {},
   "source": [
    "*** b. Suppose it was previously believed that the mean magnitude of seismic events off the coast of Fiji is 4.3 on the Richter scale. Use the data in the mag variable of the ready-to-use quakes data set, providing 1,000 sampled seismic events in that area, to test the claim that the true mean magnitude is in fact greater than 4.3. Set up appropriate hypotheses, use t.test (conduct the test at a significance level of α = 0.01), and draw a conclusion. ***\n"
   ]
  },
  {
   "cell_type": "code",
   "execution_count": 15,
   "metadata": {},
   "outputs": [
    {
     "data": {
      "text/plain": [
       "\n",
       "\tOne Sample t-test\n",
       "\n",
       "data:  quakes$mag\n",
       "t = 25.155, df = 999, p-value < 2.2e-16\n",
       "alternative hypothesis: true mean is greater than 4.3\n",
       "95 percent confidence interval:\n",
       " 4.59943     Inf\n",
       "sample estimates:\n",
       "mean of x \n",
       "   4.6204 \n"
      ]
     },
     "metadata": {},
     "output_type": "display_data"
    }
   ],
   "source": [
    "# Ho: u = 4.3\n",
    "# Ha: u > 4.3\n",
    "\n",
    "t.test(quakes$mag, mu=4.3, alternative=\"greater\")"
   ]
  },
  {
   "cell_type": "markdown",
   "metadata": {},
   "source": [
    "Since p-value << 0.01. So we reject Ho. "
   ]
  },
  {
   "cell_type": "markdown",
   "metadata": {},
   "source": [
    "***c. Manually compute a two-sided confidence interval for the true mean of (b).***\n"
   ]
  },
  {
   "cell_type": "code",
   "execution_count": 24,
   "metadata": {},
   "outputs": [
    {
     "data": {
      "text/html": [
       "<ol class=list-inline>\n",
       "\t<li>4.59943038334465</li>\n",
       "\t<li>4.64136961665535</li>\n",
       "</ol>\n"
      ],
      "text/latex": [
       "\\begin{enumerate*}\n",
       "\\item 4.59943038334465\n",
       "\\item 4.64136961665535\n",
       "\\end{enumerate*}\n"
      ],
      "text/markdown": [
       "1. 4.59943038334465\n",
       "2. 4.64136961665535\n",
       "\n",
       "\n"
      ],
      "text/plain": [
       "[1] 4.59943 4.64137"
      ]
     },
     "metadata": {},
     "output_type": "display_data"
    }
   ],
   "source": [
    "quakes.mean <- mean(quakes$mag)\n",
    "quakes.sd <- sd(quakes$mag)\n",
    "quakes.se <- quakes.sd/sqrt(1000)\n",
    "quakes.mean + c(-1,1)*qt(0.95, 1000-1)*quakes.se\n"
   ]
  },
  {
   "cell_type": "code",
   "execution_count": null,
   "metadata": {},
   "outputs": [],
   "source": []
  },
  {
   "cell_type": "code",
   "execution_count": null,
   "metadata": {
    "collapsed": true
   },
   "outputs": [],
   "source": []
  }
 ],
 "metadata": {
  "kernelspec": {
   "display_name": "R",
   "language": "R",
   "name": "ir"
  },
  "language_info": {
   "codemirror_mode": "r",
   "file_extension": ".r",
   "mimetype": "text/x-r-source",
   "name": "R",
   "pygments_lexer": "r",
   "version": "3.4.1"
  }
 },
 "nbformat": 4,
 "nbformat_minor": 2
}
