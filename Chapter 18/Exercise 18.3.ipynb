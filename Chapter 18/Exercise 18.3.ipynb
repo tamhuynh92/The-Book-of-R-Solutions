{
 "cells": [
  {
   "cell_type": "markdown",
   "metadata": {},
   "source": [
    "*** An advertisement for a skin cream claims nine out of ten women who use it would recommend it to a friend. A skeptical salesperson in a department store believes the true proportion of women users who’d recommend it, π, is much smaller than 0.9. She follows up with 89 ,random customers who had purchased the skin cream and asks if they would recommend it to others, to which 71 answer yes. ***"
   ]
  },
  {
   "cell_type": "markdown",
   "metadata": {},
   "source": [
    "*** a. Set up an appropriate pair of hypotheses for this test and determine whether it will be valid to carry out using the normal distribution ***"
   ]
  },
  {
   "cell_type": "code",
   "execution_count": 1,
   "metadata": {},
   "outputs": [
    {
     "data": {
      "text/html": [
       "71"
      ],
      "text/latex": [
       "71"
      ],
      "text/markdown": [
       "71"
      ],
      "text/plain": [
       "[1] 71"
      ]
     },
     "metadata": {},
     "output_type": "display_data"
    },
    {
     "data": {
      "text/html": [
       "18"
      ],
      "text/latex": [
       "18"
      ],
      "text/markdown": [
       "18"
      ],
      "text/plain": [
       "[1] 18"
      ]
     },
     "metadata": {},
     "output_type": "display_data"
    }
   ],
   "source": [
    "n <- 89\n",
    "p.hat <- 71/89\n",
    "n*p.hat\n",
    "n*(1-p.hat)"
   ]
  },
  {
   "cell_type": "markdown",
   "metadata": {},
   "source": [
    "Since n*p.hat and n*(1-p.hat) are larger than 5, so it is valid to carry out using the normal distribution"
   ]
  },
  {
   "cell_type": "markdown",
   "metadata": {},
   "source": [
    "*** b. Compute the test statistic and the p-value and state your conclusion\n",
    "for the test using a significance level of α = 0.1. ***"
   ]
  },
  {
   "cell_type": "code",
   "execution_count": 8,
   "metadata": {},
   "outputs": [
    {
     "data": {
      "text/plain": [
       "\n",
       "\t1-sample proportions test without continuity correction\n",
       "\n",
       "data:  71 out of 89, null probability 0.9\n",
       "X-squared = 10.338, df = 1, p-value = 0.0006515\n",
       "alternative hypothesis: true p is less than 0.9\n",
       "95 percent confidence interval:\n",
       " 0.0000000 0.8585183\n",
       "sample estimates:\n",
       "        p \n",
       "0.7977528 \n"
      ]
     },
     "metadata": {},
     "output_type": "display_data"
    }
   ],
   "source": [
    "# Ho: pi = 0.9\n",
    "# Ha: pi < 0.9\n",
    "\n",
    "prop.test(x = 71, n = 89, p = 0.9, alternative = \"less\", correct = FALSE )"
   ]
  },
  {
   "cell_type": "markdown",
   "metadata": {},
   "source": [
    "Since p-value << 0. We can reject Ho. We can conclude that the true proportion of women users who'd recommend the product is less than 90%"
   ]
  },
  {
   "cell_type": "markdown",
   "metadata": {},
   "source": [
    "*** c. Using your estimated sample proportion, construct a two-sided 90 percent confidence interval for the true proportion of women who would recommend the skin cream. ***\n"
   ]
  },
  {
   "cell_type": "code",
   "execution_count": 9,
   "metadata": {},
   "outputs": [
    {
     "data": {
      "text/html": [
       "<ol class=list-inline>\n",
       "\t<li>0.743187514624671</li>\n",
       "\t<li>0.852318103352857</li>\n",
       "</ol>\n"
      ],
      "text/latex": [
       "\\begin{enumerate*}\n",
       "\\item 0.743187514624671\n",
       "\\item 0.852318103352857\n",
       "\\end{enumerate*}\n"
      ],
      "text/markdown": [
       "1. 0.743187514624671\n",
       "2. 0.852318103352857\n",
       "\n",
       "\n"
      ],
      "text/plain": [
       "[1] 0.7431875 0.8523181"
      ]
     },
     "metadata": {},
     "output_type": "display_data"
    }
   ],
   "source": [
    "p.hat + c(-1,1)*qnorm(0.90)*sqrt(p.hat*(1-p.hat)/89)"
   ]
  },
  {
   "cell_type": "markdown",
   "metadata": {},
   "source": [
    "*** The political leaders of a particular country are curious as to the proportion of citizens in two of its states that support the decriminalization of marijuana. A small pilot survey taken by officials reveals that 97 out of 445 randomly sampled voting-age citizens residing in state 1 support the decriminalization and that 90 out of 419 votingage citizens residing in state 2 support the same notion. ***\n",
    "\n",
    "*** d. Letting π1 denote the true proportion of citizens in support of decriminalization in state 1, and π2 the same measure in state 2, conduct and conclude a hypothesis test under a significance level of α = 0.05 with reference to the following hypotheses: ***\n",
    "\n",
    "H0 : π2 − π1 = 0\n",
    "\n",
    "HA : π2 − π1 != 0\n",
    "\n"
   ]
  },
  {
   "cell_type": "code",
   "execution_count": 10,
   "metadata": {},
   "outputs": [
    {
     "data": {
      "text/plain": [
       "\n",
       "\t2-sample test for equality of proportions without continuity\n",
       "\tcorrection\n",
       "\n",
       "data:  c(90, 97) out of c(419, 445)\n",
       "X-squared = 0.012871, df = 1, p-value = 0.9097\n",
       "alternative hypothesis: two.sided\n",
       "95 percent confidence interval:\n",
       " -0.05811507  0.05175429\n",
       "sample estimates:\n",
       "   prop 1    prop 2 \n",
       "0.2147971 0.2179775 \n"
      ]
     },
     "metadata": {},
     "output_type": "display_data"
    }
   ],
   "source": [
    "prop.test(x=c(90,97), n = c(419,445), alternative = \"two.sided\", correct = FALSE)"
   ]
  },
  {
   "cell_type": "markdown",
   "metadata": {},
   "source": [
    "Since p-value > significant level. We cannot reject Ho"
   ]
  },
  {
   "cell_type": "markdown",
   "metadata": {},
   "source": [
    "*** e. Compute and interpret a corresponding CI.***\n"
   ]
  },
  {
   "cell_type": "code",
   "execution_count": 14,
   "metadata": {},
   "outputs": [
    {
     "data": {
      "text/html": [
       "<ol class=list-inline>\n",
       "\t<li>-0.0492830271427616</li>\n",
       "\t<li>0.0429222430393587</li>\n",
       "</ol>\n"
      ],
      "text/latex": [
       "\\begin{enumerate*}\n",
       "\\item -0.0492830271427616\n",
       "\\item 0.0429222430393587\n",
       "\\end{enumerate*}\n"
      ],
      "text/markdown": [
       "1. -0.0492830271427616\n",
       "2. 0.0429222430393587\n",
       "\n",
       "\n"
      ],
      "text/plain": [
       "[1] -0.04928303  0.04292224"
      ]
     },
     "metadata": {},
     "output_type": "display_data"
    }
   ],
   "source": [
    "p.hat1 <- 97/445\n",
    "p.hat2 <- 90/419\n",
    "n1 <- 445\n",
    "n2 <- 419\n",
    "(p.hat2-p.hat1) + c(-1,1)*qnorm(0.95)*sqrt(p.hat1*(1-p.hat1)/n1+p.hat2*(1-p.hat2)/n2)\n"
   ]
  },
  {
   "cell_type": "markdown",
   "metadata": {
    "collapsed": true
   },
   "source": []
  },
  {
   "cell_type": "code",
   "execution_count": null,
   "metadata": {
    "collapsed": true
   },
   "outputs": [],
   "source": []
  }
 ],
 "metadata": {
  "kernelspec": {
   "display_name": "R",
   "language": "R",
   "name": "r"
  },
  "language_info": {
   "codemirror_mode": "r",
   "file_extension": ".r",
   "mimetype": "text/x-r-source",
   "name": "R",
   "pygments_lexer": "r",
   "version": "3.3.0"
  }
 },
 "nbformat": 4,
 "nbformat_minor": 2
}
