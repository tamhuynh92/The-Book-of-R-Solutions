{
 "cells": [
  {
   "cell_type": "markdown",
   "metadata": {},
   "source": [
    "*** A teacher wants to test all of the 10th-grade students at his school to gauge their basic mathematical understanding, but the photocopier breaks after making only six copies of the test. With no other choice he chooses six students at random to take the test. Their results, recorded as a score out of 65, have a sample mean of 41.1. The standard deviation of the marks of this test is known to be 11.3 ***"
   ]
  },
  {
   "cell_type": "markdown",
   "metadata": {},
   "source": [
    "*** a. Find the standard error associated with the mean test score ***"
   ]
  },
  {
   "cell_type": "code",
   "execution_count": 2,
   "metadata": {},
   "outputs": [
    {
     "data": {
      "text/html": [
       "4.61320568224165"
      ],
      "text/latex": [
       "4.61320568224165"
      ],
      "text/markdown": [
       "4.61320568224165"
      ],
      "text/plain": [
       "[1] 4.613206"
      ]
     },
     "metadata": {},
     "output_type": "display_data"
    }
   ],
   "source": [
    "mu  <- 41.1\n",
    "sd <- 11.3\n",
    "n <- 6\n",
    "standard.error <- sd/sqrt(n)\n",
    "standard.error"
   ]
  },
  {
   "cell_type": "markdown",
   "metadata": {},
   "source": [
    "*** b. Assuming the scores themselves are normally distributed, evaluate the probability that the mean score lies between 45 and 55 if the teacher took another sample of the same size. ***"
   ]
  },
  {
   "cell_type": "code",
   "execution_count": 3,
   "metadata": {},
   "outputs": [
    {
     "data": {
      "text/html": [
       "0.197651004625822"
      ],
      "text/latex": [
       "0.197651004625822"
      ],
      "text/markdown": [
       "0.197651004625822"
      ],
      "text/plain": [
       "[1] 0.197651"
      ]
     },
     "metadata": {},
     "output_type": "display_data"
    }
   ],
   "source": [
    "#P(45<=x<=55)\n",
    "pnorm(55, mu, standard.error) - pnorm(45, mu, standard.error) "
   ]
  },
  {
   "cell_type": "markdown",
   "metadata": {},
   "source": [
    "*** c.A student who gets less than half the questions correct receives a failing grade (F). Find the probability that the average score is an F based on another sample of the same size ***"
   ]
  },
  {
   "cell_type": "code",
   "execution_count": 4,
   "metadata": {},
   "outputs": [
    {
     "data": {
      "text/html": [
       "0.0311458688805883"
      ],
      "text/latex": [
       "0.0311458688805883"
      ],
      "text/markdown": [
       "0.0311458688805883"
      ],
      "text/plain": [
       "[1] 0.03114587"
      ]
     },
     "metadata": {},
     "output_type": "display_data"
    }
   ],
   "source": [
    "#P(65/2)\n",
    "pnorm(65/2, mu, standard.error)"
   ]
  },
  {
   "cell_type": "markdown",
   "metadata": {},
   "source": [
    "*** A marketing company wants to find out which of two energy drinks teenagers prefer—drink A or drink B. It surveys 140 teens, and the results indicate that only 35 percent prefer drink A. ***\n"
   ]
  },
  {
   "cell_type": "markdown",
   "metadata": {},
   "source": [
    "*** d. Use a quick check to decide whether it is valid to use the normal distribution to represent the sampling distribution of this proportion.***"
   ]
  },
  {
   "cell_type": "code",
   "execution_count": 11,
   "metadata": {},
   "outputs": [
    {
     "data": {
      "text/html": [
       "0.0403112887414927"
      ],
      "text/latex": [
       "0.0403112887414927"
      ],
      "text/markdown": [
       "0.0403112887414927"
      ],
      "text/plain": [
       "[1] 0.04031129"
      ]
     },
     "metadata": {},
     "output_type": "display_data"
    },
    {
     "data": {
      "text/html": [
       "49"
      ],
      "text/latex": [
       "49"
      ],
      "text/markdown": [
       "49"
      ],
      "text/plain": [
       "[1] 49"
      ]
     },
     "metadata": {},
     "output_type": "display_data"
    },
    {
     "data": {
      "text/html": [
       "91"
      ],
      "text/latex": [
       "91"
      ],
      "text/markdown": [
       "91"
      ],
      "text/plain": [
       "[1] 91"
      ]
     },
     "metadata": {},
     "output_type": "display_data"
    }
   ],
   "source": [
    "p.hat <- 0.35\n",
    "n <- 140\n",
    "stderr = sqrt(p.hat*(1-p.hat)/n)\n",
    "stderr\n",
    "n*p.hat\n",
    "n*(1-p.hat)"
   ]
  },
  {
   "cell_type": "markdown",
   "metadata": {},
   "source": [
    "Since n*p and n*(1-p) are larger than 5. Then it is valid to use the normal distribution"
   ]
  },
  {
   "cell_type": "markdown",
   "metadata": {},
   "source": [
    "***e. What is the probability that in another sample of the same size, the proportion of teenagers who prefer drink A is greater than 0.4? ***"
   ]
  },
  {
   "cell_type": "code",
   "execution_count": 12,
   "metadata": {},
   "outputs": [
    {
     "data": {
      "text/html": [
       "0.107423473702824"
      ],
      "text/latex": [
       "0.107423473702824"
      ],
      "text/markdown": [
       "0.107423473702824"
      ],
      "text/plain": [
       "[1] 0.1074235"
      ]
     },
     "metadata": {},
     "output_type": "display_data"
    }
   ],
   "source": [
    "1 - pnorm(0.4, mean=p.hat, sd = stderr)"
   ]
  },
  {
   "cell_type": "markdown",
   "metadata": {},
   "source": [
    "*** f. Find the two values of this sampling distribution that identify the central 80 percent of values of the proportion of interest. ***"
   ]
  },
  {
   "cell_type": "code",
   "execution_count": 14,
   "metadata": {},
   "outputs": [
    {
     "data": {
      "text/html": [],
      "text/latex": [],
      "text/markdown": [],
      "text/plain": [
       "numeric(0)"
      ]
     },
     "metadata": {},
     "output_type": "display_data"
    }
   ],
   "source": []
  },
  {
   "cell_type": "markdown",
   "metadata": {
    "collapsed": true
   },
   "source": [
    "*** In Section 16.2.4, the time between cars passing an individual’s location was modeled using an exponential distribution. Say that on the other side of town, her friend is curious about a similar problem. Standing outside her house, she records 63 individual times between cars passing. These sampled times have a mean of x ¯ = 37.8 seconds with a standard deviation of s = 34.51 seconds. ***"
   ]
  },
  {
   "cell_type": "markdown",
   "metadata": {},
   "source": [
    "*** g. The friend inspects a histogram of her raw measurements and notices that her raw data are heavily right-skewed. Briefly identify and describe the nature of the sampling distribution with respect to the sample mean and calculate the appropriate standard error. ***"
   ]
  },
  {
   "cell_type": "code",
   "execution_count": 1,
   "metadata": {},
   "outputs": [
    {
     "data": {
      "text/html": [
       "4.34785132118281"
      ],
      "text/latex": [
       "4.34785132118281"
      ],
      "text/markdown": [
       "4.34785132118281"
      ],
      "text/plain": [
       "[1] 4.347851"
      ]
     },
     "metadata": {},
     "output_type": "display_data"
    }
   ],
   "source": [
    "n <- 63\n",
    "mu <- 37.8\n",
    "sd <- 34.51\n",
    "sd.err <- sd/sqrt(n)\n",
    "sd.err"
   ]
  },
  {
   "cell_type": "markdown",
   "metadata": {},
   "source": [
    "*** Using the standard error from (g) and the appropriate probability distribution, calculate the probability that in another sample of the same size, the sample mean time between cars passing is as follows: ***\n",
    "\n",
    "***i. More than 40 seconds ***\n",
    "\n",
    "***ii. Less than half a minute***\n",
    "\n",
    "***iii. Between the given sample mean and 40 seconds ***"
   ]
  },
  {
   "cell_type": "code",
   "execution_count": 3,
   "metadata": {},
   "outputs": [
    {
     "data": {
      "text/html": [
       "0.306429355643119"
      ],
      "text/latex": [
       "0.306429355643119"
      ],
      "text/markdown": [
       "0.306429355643119"
      ],
      "text/plain": [
       "[1] 0.3064294"
      ]
     },
     "metadata": {},
     "output_type": "display_data"
    }
   ],
   "source": [
    "#More Then 40 second:\n",
    "1 - pnorm(40,mu, sd.err)"
   ]
  },
  {
   "cell_type": "code",
   "execution_count": 4,
   "metadata": {},
   "outputs": [
    {
     "data": {
      "text/html": [
       "0.0364074153709567"
      ],
      "text/latex": [
       "0.0364074153709567"
      ],
      "text/markdown": [
       "0.0364074153709567"
      ],
      "text/plain": [
       "[1] 0.03640742"
      ]
     },
     "metadata": {},
     "output_type": "display_data"
    }
   ],
   "source": [
    "# Less than Half a minute\n",
    "pnorm(30,mu,sd.err)"
   ]
  },
  {
   "cell_type": "code",
   "execution_count": 5,
   "metadata": {},
   "outputs": [
    {
     "data": {
      "text/html": [
       "0.193570644356881"
      ],
      "text/latex": [
       "0.193570644356881"
      ],
      "text/markdown": [
       "0.193570644356881"
      ],
      "text/plain": [
       "[1] 0.1935706"
      ]
     },
     "metadata": {},
     "output_type": "display_data"
    }
   ],
   "source": [
    "#Between the given sample mean and 40 seconds\n",
    "pnorm(40,mu,sd.err) - pnorm(mu,mu,sd.err)"
   ]
  },
  {
   "cell_type": "code",
   "execution_count": null,
   "metadata": {
    "collapsed": true
   },
   "outputs": [],
   "source": []
  }
 ],
 "metadata": {
  "kernelspec": {
   "display_name": "R",
   "language": "R",
   "name": "ir"
  },
  "language_info": {
   "codemirror_mode": "r",
   "file_extension": ".r",
   "mimetype": "text/x-r-source",
   "name": "R",
   "pygments_lexer": "r",
   "version": "3.4.1"
  }
 },
 "nbformat": 4,
 "nbformat_minor": 2
}
