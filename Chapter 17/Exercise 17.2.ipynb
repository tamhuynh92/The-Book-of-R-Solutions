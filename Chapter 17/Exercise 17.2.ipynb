{
 "cells": [
  {
   "cell_type": "markdown",
   "metadata": {},
   "source": [
    "*** A casual runner records the average time it takes him to sprint 100 meters. He completes the dash 34 times under identical conditions and finds that the mean of these is 14.22 seconds. Assume that he knows the standard deviation of his runs is σX = 2.9 seconds.***"
   ]
  },
  {
   "cell_type": "markdown",
   "metadata": {},
   "source": [
    "*** a. Construct and interpret a 90 percent confidence interval for the true mean time. ***"
   ]
  },
  {
   "cell_type": "code",
   "execution_count": 3,
   "metadata": {},
   "outputs": [
    {
     "data": {
      "text/html": [
       "<ol class=list-inline>\n",
       "\t<li>13.5826255871936</li>\n",
       "\t<li>14.8573744128064</li>\n",
       "</ol>\n"
      ],
      "text/latex": [
       "\\begin{enumerate*}\n",
       "\\item 13.5826255871936\n",
       "\\item 14.8573744128064\n",
       "\\end{enumerate*}\n"
      ],
      "text/markdown": [
       "1. 13.5826255871936\n",
       "2. 14.8573744128064\n",
       "\n",
       "\n"
      ],
      "text/plain": [
       "[1] 13.58263 14.85737"
      ]
     },
     "metadata": {},
     "output_type": "display_data"
    }
   ],
   "source": [
    "time.mean <- 14.22\n",
    "time.sd <- 2.9\n",
    "n <- 34\n",
    "time.se <- time.sd/sqrt(n)\n",
    "time.mean + c(-1,1)*qnorm(p=0.9)*time.se"
   ]
  },
  {
   "cell_type": "markdown",
   "metadata": {},
   "source": [
    "We are 90% confident that the true mean of the time it takes the runner to sprint 100 meters is somewhere between 13.582 and 14.857 seconds. "
   ]
  },
  {
   "cell_type": "markdown",
   "metadata": {},
   "source": [
    "*** b. Repeat (a), but this time, assume that the standard deviation is not known and that s = 2.9 is estimated from the sample. How, if at all, does this change the interval? ***"
   ]
  },
  {
   "cell_type": "code",
   "execution_count": 4,
   "metadata": {},
   "outputs": [
    {
     "data": {
      "text/html": [
       "<ol class=list-inline>\n",
       "\t<li>13.5696023069132</li>\n",
       "\t<li>14.8703976930868</li>\n",
       "</ol>\n"
      ],
      "text/latex": [
       "\\begin{enumerate*}\n",
       "\\item 13.5696023069132\n",
       "\\item 14.8703976930868\n",
       "\\end{enumerate*}\n"
      ],
      "text/markdown": [
       "1. 13.5696023069132\n",
       "2. 14.8703976930868\n",
       "\n",
       "\n"
      ],
      "text/plain": [
       "[1] 13.5696 14.8704"
      ]
     },
     "metadata": {},
     "output_type": "display_data"
    }
   ],
   "source": [
    "time.mean <- 14.22\n",
    "time.sd <- 2.9\n",
    "n <- 34\n",
    "time.se <- time.sd/sqrt(n)\n",
    "time.mean + c(-1,1)*qt(p=0.9, df = n -1)*time.se"
   ]
  },
  {
   "cell_type": "markdown",
   "metadata": {},
   "source": [
    "We are 90% confident that the true mean of the time it takes the runner to sprint 100 meters is somewhere between 13.569 and 14.870 seconds. "
   ]
  },
  {
   "cell_type": "markdown",
   "metadata": {},
   "source": [
    "#### *** In a particular country, the true proportion of citizens who are left handed or ambidextrous is unknown. A random sample of 400 people is taken, and each individual is asked to identify with one of three options: right-handed only, left-handed only, or ambidextrous. The results show that 37 selected left-handed and 11 selected ambidextrous ***"
   ]
  },
  {
   "cell_type": "markdown",
   "metadata": {},
   "source": [
    "*** c. Calculate and interpret a 99 percent CI for the true proportion of left-handed-only citizens ***"
   ]
  },
  {
   "cell_type": "code",
   "execution_count": 6,
   "metadata": {},
   "outputs": [
    {
     "data": {
      "text/html": [
       "<ol class=list-inline>\n",
       "\t<li>0.313841461204044</li>\n",
       "\t<li>0.426158538795956</li>\n",
       "</ol>\n"
      ],
      "text/latex": [
       "\\begin{enumerate*}\n",
       "\\item 0.313841461204044\n",
       "\\item 0.426158538795956\n",
       "\\end{enumerate*}\n"
      ],
      "text/markdown": [
       "1. 0.313841461204044\n",
       "2. 0.426158538795956\n",
       "\n",
       "\n"
      ],
      "text/plain": [
       "[1] 0.3138415 0.4261585"
      ]
     },
     "metadata": {},
     "output_type": "display_data"
    }
   ],
   "source": [
    "p.hat <- .37\n",
    "n <- 400\n",
    "sd.error <- sqrt(p.hat*(1-p.hat)/n)\n",
    "p.hat + c(-1,1)*qnorm(0.99)*sd.error"
   ]
  },
  {
   "cell_type": "markdown",
   "metadata": {},
   "source": [
    "*** d. Calculate and interpret a 99 percent CI for the true proportion of citizens who are either left-handed or ambidextrous. ***"
   ]
  },
  {
   "cell_type": "code",
   "execution_count": 7,
   "metadata": {},
   "outputs": [
    {
     "data": {
      "text/html": [
       "<ol class=list-inline>\n",
       "\t<li>0.421887848732146</li>\n",
       "\t<li>0.538112151267854</li>\n",
       "</ol>\n"
      ],
      "text/latex": [
       "\\begin{enumerate*}\n",
       "\\item 0.421887848732146\n",
       "\\item 0.538112151267854\n",
       "\\end{enumerate*}\n"
      ],
      "text/markdown": [
       "1. 0.421887848732146\n",
       "2. 0.538112151267854\n",
       "\n",
       "\n"
      ],
      "text/plain": [
       "[1] 0.4218878 0.5381122"
      ]
     },
     "metadata": {},
     "output_type": "display_data"
    }
   ],
   "source": [
    "p.hat <- 0.37 + 0.11\n",
    "n <- 400\n",
    "p.se <- sqrt(p.hat*(1-p.hat)/n)\n",
    "p.hat + c(-1,1)*qnorm(0.99)*p.se"
   ]
  },
  {
   "cell_type": "markdown",
   "metadata": {},
   "source": []
  },
  {
   "cell_type": "markdown",
   "metadata": {},
   "source": []
  },
  {
   "cell_type": "code",
   "execution_count": null,
   "metadata": {},
   "outputs": [],
   "source": []
  },
  {
   "cell_type": "code",
   "execution_count": null,
   "metadata": {
    "collapsed": true
   },
   "outputs": [],
   "source": []
  }
 ],
 "metadata": {
  "kernelspec": {
   "display_name": "R",
   "language": "R",
   "name": "ir"
  },
  "language_info": {
   "codemirror_mode": "r",
   "file_extension": ".r",
   "mimetype": "text/x-r-source",
   "name": "R",
   "pygments_lexer": "r",
   "version": "3.4.1"
  }
 },
 "nbformat": 4,
 "nbformat_minor": 2
}
