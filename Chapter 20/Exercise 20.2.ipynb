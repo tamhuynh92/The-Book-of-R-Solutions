{
 "cells": [
  {
   "cell_type": "markdown",
   "metadata": {},
   "source": [
    "Continue using the survey data frame from the package MASS for the\n",
    "next few exercises. <br>\n",
    "__a.__ The survey data set has a variable named Exer, a factor with k = 3\n",
    "levels describing the amount of physical exercise time each\n",
    "student gets: none, some, or frequent. Obtain a count of the\n",
    "number of students in each category and produce side-by-side\n",
    "boxplots of student height split by exercise."
   ]
  },
  {
   "cell_type": "code",
   "execution_count": 14,
   "metadata": {},
   "outputs": [
    {
     "data": {
      "text/html": [
       "<ol class=list-inline>\n",
       "\t<li>'Sex'</li>\n",
       "\t<li>'Wr.Hnd'</li>\n",
       "\t<li>'NW.Hnd'</li>\n",
       "\t<li>'W.Hnd'</li>\n",
       "\t<li>'Fold'</li>\n",
       "\t<li>'Pulse'</li>\n",
       "\t<li>'Clap'</li>\n",
       "\t<li>'Exer'</li>\n",
       "\t<li>'Smoke'</li>\n",
       "\t<li>'Height'</li>\n",
       "\t<li>'M.I'</li>\n",
       "\t<li>'Age'</li>\n",
       "</ol>\n"
      ],
      "text/latex": [
       "\\begin{enumerate*}\n",
       "\\item 'Sex'\n",
       "\\item 'Wr.Hnd'\n",
       "\\item 'NW.Hnd'\n",
       "\\item 'W.Hnd'\n",
       "\\item 'Fold'\n",
       "\\item 'Pulse'\n",
       "\\item 'Clap'\n",
       "\\item 'Exer'\n",
       "\\item 'Smoke'\n",
       "\\item 'Height'\n",
       "\\item 'M.I'\n",
       "\\item 'Age'\n",
       "\\end{enumerate*}\n"
      ],
      "text/markdown": [
       "1. 'Sex'\n",
       "2. 'Wr.Hnd'\n",
       "3. 'NW.Hnd'\n",
       "4. 'W.Hnd'\n",
       "5. 'Fold'\n",
       "6. 'Pulse'\n",
       "7. 'Clap'\n",
       "8. 'Exer'\n",
       "9. 'Smoke'\n",
       "10. 'Height'\n",
       "11. 'M.I'\n",
       "12. 'Age'\n",
       "\n",
       "\n"
      ],
      "text/plain": [
       " [1] \"Sex\"    \"Wr.Hnd\" \"NW.Hnd\" \"W.Hnd\"  \"Fold\"   \"Pulse\"  \"Clap\"   \"Exer\"  \n",
       " [9] \"Smoke\"  \"Height\" \"M.I\"    \"Age\"   "
      ]
     },
     "metadata": {},
     "output_type": "display_data"
    }
   ],
   "source": [
    "library(\"MASS\")\n",
    "names(survey)"
   ]
  },
  {
   "cell_type": "code",
   "execution_count": 15,
   "metadata": {},
   "outputs": [
    {
     "data": {
      "text/plain": [
       "\n",
       "Freq None Some \n",
       " 115   24   98 "
      ]
     },
     "metadata": {},
     "output_type": "display_data"
    }
   ],
   "source": [
    "table(survey$Exer)"
   ]
  },
  {
   "cell_type": "code",
   "execution_count": 16,
   "metadata": {},
   "outputs": [
    {
     "data": {
      "image/png": "[encoded data removed]",
      "text/plain": [
       "plot without title"
      ]
     },
     "metadata": {},
     "output_type": "display_data"
    }
   ],
   "source": [
    "boxplot(Height ~ Exer, data = survey)"
   ]
  },
  {
   "cell_type": "markdown",
   "metadata": {},
   "source": [
    "__b.__ Assuming independence of the observations and normality as\n",
    "usual, fit a linear regression model with height as the response\n",
    "variable and exercise as the explanatory variable (dummy\n",
    "coding). What’s the default reference level of the predictor?\n",
    "Produce a model summary."
   ]
  },
  {
   "cell_type": "code",
   "execution_count": 6,
   "metadata": {},
   "outputs": [
    {
     "data": {
      "text/html": [
       "<ol class=list-inline>\n",
       "\t<li>'Freq'</li>\n",
       "\t<li>'None'</li>\n",
       "\t<li>'Some'</li>\n",
       "</ol>\n"
      ],
      "text/latex": [
       "\\begin{enumerate*}\n",
       "\\item 'Freq'\n",
       "\\item 'None'\n",
       "\\item 'Some'\n",
       "\\end{enumerate*}\n"
      ],
      "text/markdown": [
       "1. 'Freq'\n",
       "2. 'None'\n",
       "3. 'Some'\n",
       "\n",
       "\n"
      ],
      "text/plain": [
       "[1] \"Freq\" \"None\" \"Some\""
      ]
     },
     "metadata": {},
     "output_type": "display_data"
    }
   ],
   "source": [
    "levels(survey$Exer)"
   ]
  },
  {
   "cell_type": "code",
   "execution_count": 7,
   "metadata": {},
   "outputs": [
    {
     "data": {
      "text/plain": [
       "\n",
       "Call:\n",
       "lm(formula = Height ~ Exer, data = survey)\n",
       "\n",
       "Residuals:\n",
       "    Min      1Q  Median      3Q     Max \n",
       "-24.607  -6.397  -1.607   6.103  25.393 \n",
       "\n",
       "Coefficients:\n",
       "            Estimate Std. Error t value Pr(>|t|)    \n",
       "(Intercept) 174.6067     0.9396 185.836  < 2e-16 ***\n",
       "ExerNone     -5.5787     2.3489  -2.375  0.01847 *  \n",
       "ExerSome     -4.2098     1.4094  -2.987  0.00316 ** \n",
       "---\n",
       "Signif. codes:  0 '***' 0.001 '**' 0.01 '*' 0.05 '.' 0.1 ' ' 1\n",
       "\n",
       "Residual standard error: 9.628 on 206 degrees of freedom\n",
       "  (28 observations deleted due to missingness)\n",
       "Multiple R-squared:  0.05333,\tAdjusted R-squared:  0.04414 \n",
       "F-statistic: 5.802 on 2 and 206 DF,  p-value: 0.003536\n"
      ]
     },
     "metadata": {},
     "output_type": "display_data"
    }
   ],
   "source": [
    "exer.fit = lm(Height ~ Exer, data = survey)\n",
    "summary(exer.fit)"
   ]
  },
  {
   "cell_type": "code",
   "execution_count": 8,
   "metadata": {},
   "outputs": [
    {
     "data": {
      "text/html": [
       "<ol class=list-inline>\n",
       "\t<li>Freq</li>\n",
       "\t<li>None</li>\n",
       "\t<li>Some</li>\n",
       "</ol>\n"
      ],
      "text/latex": [
       "\\begin{enumerate*}\n",
       "\\item Freq\n",
       "\\item None\n",
       "\\item Some\n",
       "\\end{enumerate*}\n"
      ],
      "text/markdown": [
       "1. Freq\n",
       "2. None\n",
       "3. Some\n",
       "\n",
       "\n"
      ],
      "text/plain": [
       "[1] Freq None Some\n",
       "Levels: Freq None Some"
      ]
     },
     "metadata": {},
     "output_type": "display_data"
    }
   ],
   "source": [
    "one.of.each <- factor(levels(survey$Exer))\n",
    "one.of.each"
   ]
  },
  {
   "cell_type": "code",
   "execution_count": 9,
   "metadata": {},
   "outputs": [
    {
     "data": {
      "text/html": [
       "<table>\n",
       "<thead><tr><th></th><th scope=col>fit</th><th scope=col>lwr</th><th scope=col>upr</th></tr></thead>\n",
       "<tbody>\n",
       "\t<tr><th scope=row>1</th><td>174.6067</td><td>172.7543</td><td>176.4591</td></tr>\n",
       "\t<tr><th scope=row>2</th><td>169.0280</td><td>164.7836</td><td>173.2724</td></tr>\n",
       "\t<tr><th scope=row>3</th><td>170.3969</td><td>168.3258</td><td>172.4680</td></tr>\n",
       "</tbody>\n",
       "</table>\n"
      ],
      "text/latex": [
       "\\begin{tabular}{r|lll}\n",
       "  & fit & lwr & upr\\\\\n",
       "\\hline\n",
       "\t1 & 174.6067 & 172.7543 & 176.4591\\\\\n",
       "\t2 & 169.0280 & 164.7836 & 173.2724\\\\\n",
       "\t3 & 170.3969 & 168.3258 & 172.4680\\\\\n",
       "\\end{tabular}\n"
      ],
      "text/markdown": [
       "\n",
       "| <!--/--> | fit | lwr | upr | \n",
       "|---|---|---|\n",
       "| 1 | 174.6067 | 172.7543 | 176.4591 | \n",
       "| 2 | 169.0280 | 164.7836 | 173.2724 | \n",
       "| 3 | 170.3969 | 168.3258 | 172.4680 | \n",
       "\n",
       "\n"
      ],
      "text/plain": [
       "  fit      lwr      upr     \n",
       "1 174.6067 172.7543 176.4591\n",
       "2 169.0280 164.7836 173.2724\n",
       "3 170.3969 168.3258 172.4680"
      ]
     },
     "metadata": {},
     "output_type": "display_data"
    }
   ],
   "source": [
    "predict(exer.fit,newdata=data.frame(Exer=one.of.each), interval=\"confidence\",level=0.95)"
   ]
  },
  {
   "cell_type": "markdown",
   "metadata": {},
   "source": [
    "__c.__ Draw a conclusion based on the fitted model from (b)—does it\n",
    "appear that exercise frequency has any impact on mean height?\n",
    "What is the nature of the estimated effect?"
   ]
  },
  {
   "cell_type": "markdown",
   "metadata": {},
   "source": [
    "Seems to be due to be p-value: 0.003536"
   ]
  },
  {
   "cell_type": "markdown",
   "metadata": {},
   "source": [
    "__d.__ Predict the mean heights of one individual in each of the three\n",
    "exercise categories, accompanied by 95 percent prediction\n",
    "intervals"
   ]
  },
  {
   "cell_type": "code",
   "execution_count": 21,
   "metadata": {},
   "outputs": [
    {
     "data": {
      "text/html": [
       "<table>\n",
       "<thead><tr><th></th><th scope=col>fit</th><th scope=col>lwr</th><th scope=col>upr</th></tr></thead>\n",
       "<tbody>\n",
       "\t<tr><th scope=row>1</th><td>174.6067</td><td>155.5349</td><td>193.6784</td></tr>\n",
       "\t<tr><th scope=row>2</th><td>169.0280</td><td>149.5777</td><td>188.4783</td></tr>\n",
       "\t<tr><th scope=row>3</th><td>170.3969</td><td>151.3027</td><td>189.4911</td></tr>\n",
       "</tbody>\n",
       "</table>\n"
      ],
      "text/latex": [
       "\\begin{tabular}{r|lll}\n",
       "  & fit & lwr & upr\\\\\n",
       "\\hline\n",
       "\t1 & 174.6067 & 155.5349 & 193.6784\\\\\n",
       "\t2 & 169.0280 & 149.5777 & 188.4783\\\\\n",
       "\t3 & 170.3969 & 151.3027 & 189.4911\\\\\n",
       "\\end{tabular}\n"
      ],
      "text/markdown": [
       "\n",
       "| <!--/--> | fit | lwr | upr | \n",
       "|---|---|---|\n",
       "| 1 | 174.6067 | 155.5349 | 193.6784 | \n",
       "| 2 | 169.0280 | 149.5777 | 188.4783 | \n",
       "| 3 | 170.3969 | 151.3027 | 189.4911 | \n",
       "\n",
       "\n"
      ],
      "text/plain": [
       "  fit      lwr      upr     \n",
       "1 174.6067 155.5349 193.6784\n",
       "2 169.0280 149.5777 188.4783\n",
       "3 170.3969 151.3027 189.4911"
      ]
     },
     "metadata": {},
     "output_type": "display_data"
    }
   ],
   "source": [
    "predict(exer.fit, newdata=data.frame(Exer=one.of.each) , interval = \"predict\", level = .95 )"
   ]
  },
  {
   "cell_type": "markdown",
   "metadata": {},
   "source": [
    "__e.__ Do you arrive at the same result and interpretation for the\n",
    "height-by-exercise model if you construct an ANOVA table\n",
    "using aov?"
   ]
  },
  {
   "cell_type": "code",
   "execution_count": 28,
   "metadata": {},
   "outputs": [
    {
     "data": {
      "text/plain": [
       "             Df Sum Sq Mean Sq F value  Pr(>F)   \n",
       "Exer          2   1076   537.8   5.802 0.00354 **\n",
       "Residuals   206  19095    92.7                   \n",
       "---\n",
       "Signif. codes:  0 '***' 0.001 '**' 0.01 '*' 0.05 '.' 0.1 ' ' 1\n",
       "28 observations deleted due to missingness"
      ]
     },
     "metadata": {},
     "output_type": "display_data"
    }
   ],
   "source": [
    "summary(aov(Height~Exer, data = survey))"
   ]
  },
  {
   "cell_type": "markdown",
   "metadata": {},
   "source": [
    "Yes,  the same result and interpretation for the height-by-exercise model if you construct an ANOVA table using aov"
   ]
  },
  {
   "cell_type": "markdown",
   "metadata": {},
   "source": [
    "__Now, turn back to the ready-to-use mtcars data set. One of the variables in this data frame is qsec, described as the time in seconds it takes to race a quarter mile; another is gear, the number of forward gears (cars in this data set have either 3, 4, or 5 gears) __"
   ]
  },
  {
   "cell_type": "markdown",
   "metadata": {},
   "source": [
    "__g.__ Using the vectors straight from the data frame, fit a simple linear\n",
    "regression model with qsec as the response variable and gear as\n",
    "the explanatory variable and interpret the model summary."
   ]
  },
  {
   "cell_type": "code",
   "execution_count": 32,
   "metadata": {},
   "outputs": [
    {
     "data": {
      "text/html": [
       "<table>\n",
       "<thead><tr><th></th><th scope=col>mpg</th><th scope=col>cyl</th><th scope=col>disp</th><th scope=col>hp</th><th scope=col>drat</th><th scope=col>wt</th><th scope=col>qsec</th><th scope=col>vs</th><th scope=col>am</th><th scope=col>gear</th><th scope=col>carb</th></tr></thead>\n",
       "<tbody>\n",
       "\t<tr><th scope=row>Mazda RX4</th><td>21   </td><td>6    </td><td>160  </td><td>110  </td><td>3.9  </td><td>2.62 </td><td>16.46</td><td>0    </td><td>1    </td><td>4    </td><td>4    </td></tr>\n",
       "</tbody>\n",
       "</table>\n"
      ],
      "text/latex": [
       "\\begin{tabular}{r|lllllllllll}\n",
       "  & mpg & cyl & disp & hp & drat & wt & qsec & vs & am & gear & carb\\\\\n",
       "\\hline\n",
       "\tMazda RX4 & 21    & 6     & 160   & 110   & 3.9   & 2.62  & 16.46 & 0     & 1     & 4     & 4    \\\\\n",
       "\\end{tabular}\n"
      ],
      "text/markdown": [
       "\n",
       "| <!--/--> | mpg | cyl | disp | hp | drat | wt | qsec | vs | am | gear | carb | \n",
       "|---|\n",
       "| Mazda RX4 | 21    | 6     | 160   | 110   | 3.9   | 2.62  | 16.46 | 0     | 1     | 4     | 4     | \n",
       "\n",
       "\n"
      ],
      "text/plain": [
       "          mpg cyl disp hp  drat wt   qsec  vs am gear carb\n",
       "Mazda RX4 21  6   160  110 3.9  2.62 16.46 0  1  4    4   "
      ]
     },
     "metadata": {},
     "output_type": "display_data"
    }
   ],
   "source": [
    "mtcars[1,]"
   ]
  },
  {
   "cell_type": "code",
   "execution_count": 37,
   "metadata": {},
   "outputs": [
    {
     "data": {
      "text/plain": [
       "\n",
       "Call:\n",
       "lm(formula = qsec ~ gear, data = mtcars)\n",
       "\n",
       "Residuals:\n",
       "    Min      1Q  Median      3Q     Max \n",
       "-2.7929 -1.1604 -0.3278  1.2122  5.2122 \n",
       "\n",
       "Coefficients:\n",
       "            Estimate Std. Error t value Pr(>|t|)    \n",
       "(Intercept)  19.7482     1.6239  12.161    4e-13 ***\n",
       "gear         -0.5151     0.4321  -1.192    0.243    \n",
       "---\n",
       "Signif. codes:  0 '***' 0.001 '**' 0.01 '*' 0.05 '.' 0.1 ' ' 1\n",
       "\n",
       "Residual standard error: 1.775 on 30 degrees of freedom\n",
       "Multiple R-squared:  0.04523,\tAdjusted R-squared:  0.01341 \n",
       "F-statistic: 1.421 on 1 and 30 DF,  p-value: 0.2425\n"
      ]
     },
     "metadata": {},
     "output_type": "display_data"
    },
    {
     "data": {
      "image/png": "[encoded data removed]",
      "text/plain": [
       "plot without title"
      ]
     },
     "metadata": {},
     "output_type": "display_data"
    }
   ],
   "source": [
    "plot(qsec ~ gear, data = mtcars)\n",
    "carfit <- lm(qsec ~ gear, data = mtcars)\n",
    "abline(carfit, col = \"red\")\n",
    "summary(carfit)"
   ]
  },
  {
   "cell_type": "markdown",
   "metadata": {},
   "source": [
    "__h.__ Explicitly convert gear to a factor vector and refit the model.\n",
    "Compare the model summary with that from (g). What do\n",
    "you find?"
   ]
  },
  {
   "cell_type": "code",
   "execution_count": 38,
   "metadata": {},
   "outputs": [
    {
     "data": {
      "text/plain": [
       "\n",
       "Call:\n",
       "lm(formula = qsec ~ factor(gear), data = mtcars)\n",
       "\n",
       "Residuals:\n",
       "    Min      1Q  Median      3Q     Max \n",
       "-2.5050 -0.6667 -0.2060  0.6125  3.9350 \n",
       "\n",
       "Coefficients:\n",
       "              Estimate Std. Error t value Pr(>|t|)    \n",
       "(Intercept)    17.6920     0.3691  47.928  < 2e-16 ***\n",
       "factor(gear)4   1.2730     0.5537   2.299  0.02890 *  \n",
       "factor(gear)5  -2.0520     0.7383  -2.779  0.00946 ** \n",
       "---\n",
       "Signif. codes:  0 '***' 0.001 '**' 0.01 '*' 0.05 '.' 0.1 ' ' 1\n",
       "\n",
       "Residual standard error: 1.43 on 29 degrees of freedom\n",
       "Multiple R-squared:  0.4012,\tAdjusted R-squared:  0.3599 \n",
       "F-statistic: 9.715 on 2 and 29 DF,  p-value: 0.0005897\n"
      ]
     },
     "metadata": {},
     "output_type": "display_data"
    }
   ],
   "source": [
    "carfit <- lm(qsec ~ factor(gear), data = mtcars)\n",
    "summary(carfit)"
   ]
  },
  {
   "cell_type": "code",
   "execution_count": null,
   "metadata": {},
   "outputs": [],
   "source": []
  }
 ],
 "metadata": {
  "kernelspec": {
   "display_name": "R",
   "language": "R",
   "name": "ir"
  },
  "language_info": {
   "codemirror_mode": "r",
   "file_extension": ".r",
   "mimetype": "text/x-r-source",
   "name": "R",
   "pygments_lexer": "r",
   "version": "3.4.3"
  }
 },
 "nbformat": 4,
 "nbformat_minor": 2
}
