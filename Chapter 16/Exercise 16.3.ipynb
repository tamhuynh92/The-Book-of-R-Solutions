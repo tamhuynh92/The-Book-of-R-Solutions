{
 "cells": [
  {
   "cell_type": "markdown",
   "metadata": {
    "collapsed": true
   },
   "source": [
    "*** You visit a national park and are informed that the height of a certain species of tree found in the forest is uniformly distributed between 3 and 70 feet.***\n"
   ]
  },
  {
   "cell_type": "markdown",
   "metadata": {},
   "source": [
    "*** a. What is the probability you encounter a tree shorter than 5.5 feet? ***\n"
   ]
  },
  {
   "cell_type": "code",
   "execution_count": 4,
   "metadata": {},
   "outputs": [
    {
     "data": {
      "text/html": [
       "0.0373134328358209"
      ],
      "text/latex": [
       "0.0373134328358209"
      ],
      "text/markdown": [
       "0.0373134328358209"
      ],
      "text/plain": [
       "[1] 0.03731343"
      ]
     },
     "metadata": {},
     "output_type": "display_data"
    }
   ],
   "source": [
    "#P(X<5.5)\n",
    "punif(5.5,min=3,max=70)"
   ]
  },
  {
   "cell_type": "markdown",
   "metadata": {},
   "source": [
    "*** b. For this probability density function, what is the height that marks the cutoff point of the tallest 15 percent of trees? ***\n"
   ]
  },
  {
   "cell_type": "code",
   "execution_count": 6,
   "metadata": {},
   "outputs": [
    {
     "data": {
      "text/html": [
       "59.95"
      ],
      "text/latex": [
       "59.95"
      ],
      "text/markdown": [
       "59.95"
      ],
      "text/plain": [
       "[1] 59.95"
      ]
     },
     "metadata": {},
     "output_type": "display_data"
    }
   ],
   "source": [
    "qunif(p=(1-0.15), min=3, max = 70)"
   ]
  },
  {
   "cell_type": "markdown",
   "metadata": {},
   "source": [
    "*** c. Evaluate the mean and standard deviation of the tree height distribution. ***\n"
   ]
  },
  {
   "cell_type": "code",
   "execution_count": 9,
   "metadata": {},
   "outputs": [
    {
     "name": "stdout",
     "output_type": "stream",
     "text": [
      "Mean: 36.5\n",
      "St.dev: 374.0833"
     ]
    }
   ],
   "source": [
    "cat(\"Mean:\", (3+70)/2)\n",
    "cat(\"\\nSt.dev:\", (70-3)^2/12)"
   ]
  },
  {
   "cell_type": "markdown",
   "metadata": {},
   "source": [
    "*** d. Using (c), confirm that the chance that you encounter a tree with a height that is within half a standard deviation (that is, below or above) of the mean height is roughly 28.9 percent. ***\n"
   ]
  },
  {
   "cell_type": "code",
   "execution_count": 12,
   "metadata": {},
   "outputs": [
    {
     "data": {
      "text/html": [
       "0.578"
      ],
      "text/latex": [
       "0.578"
      ],
      "text/markdown": [
       "0.578"
      ],
      "text/plain": [
       "[1] 0.578"
      ]
     },
     "metadata": {},
     "output_type": "display_data"
    }
   ],
   "source": [
    "\n",
    "upper <- qunif(p=.789, min=3,max = 70)\n",
    "lower <- qunif(p=.211, min=3,max =70)\n",
    "\n",
    "punif(q=upper, min = 3, max = 70) - punif(q=lower,min=3,max=70)"
   ]
  },
  {
   "cell_type": "markdown",
   "metadata": {},
   "source": [
    "*** e. At what height is the density function itself? Show it in a plot. ***\n"
   ]
  },
  {
   "cell_type": "code",
   "execution_count": null,
   "metadata": {
    "collapsed": true
   },
   "outputs": [],
   "source": []
  },
  {
   "cell_type": "markdown",
   "metadata": {},
   "source": [
    "*** f. Simulate 10 observed tree heights. Based on these data, usequantile (refer to Section 13.2.3) to estimate the answer you arrived at in (b). Repeat your simulation, this time generating 1,000 variates, and estimate (b) again. Do this a handful of times, taking a mental note of your two estimates each time. Overall, what do you notice of your two estimates (one based on 10 variates at a time and the other based on 1,000) with respect to the “true” value in (b)? ***"
   ]
  },
  {
   "cell_type": "code",
   "execution_count": 20,
   "metadata": {
    "scrolled": true
   },
   "outputs": [
    {
     "data": {
      "text/html": [
       "<strong>85%:</strong> 58.561"
      ],
      "text/latex": [
       "\\textbf{85\\textbackslash{}\\%:} 58.561"
      ],
      "text/markdown": [
       "**85%:** 58.561"
      ],
      "text/plain": [
       "   85% \n",
       "58.561 "
      ]
     },
     "metadata": {},
     "output_type": "display_data"
    },
    {
     "data": {
      "text/html": [
       "<strong>85%:</strong> 58.6707"
      ],
      "text/latex": [
       "\\textbf{85\\textbackslash{}\\%:} 58.6707"
      ],
      "text/markdown": [
       "**85%:** 58.6707"
      ],
      "text/plain": [
       "    85% \n",
       "58.6707 "
      ]
     },
     "metadata": {},
     "output_type": "display_data"
    }
   ],
   "source": [
    "simulate10 <- runif(10,3,70)\n",
    "simulate1000 <- runif(1000,3,70)\n",
    "round(quantile(simulate10, .85),4)\n",
    "round(quantile(simulate1000, .85),4)\n"
   ]
  },
  {
   "cell_type": "markdown",
   "metadata": {},
   "source": []
  }
 ],
 "metadata": {
  "kernelspec": {
   "display_name": "R",
   "language": "R",
   "name": "r"
  },
  "language_info": {
   "codemirror_mode": "r",
   "file_extension": ".r",
   "mimetype": "text/x-r-source",
   "name": "R",
   "pygments_lexer": "r",
   "version": "3.3.0"
  }
 },
 "nbformat": 4,
 "nbformat_minor": 2
}
