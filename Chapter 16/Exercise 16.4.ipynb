{
 "cells": [
  {
   "cell_type": "markdown",
   "metadata": {},
   "source": [
    "*** 1. A tutor knows that the length of time taken to complete a certain statistics question by first-year undergraduate students, X, is normally distributed with a mean of 17 minutes and a standard deviation of 4.5 minutes. ***\n"
   ]
  },
  {
   "cell_type": "markdown",
   "metadata": {},
   "source": [
    "*** i. What is the probability a randomly selected undergraduate takes more than 20 minutes to complete the question? *** \n"
   ]
  },
  {
   "cell_type": "code",
   "execution_count": 8,
   "metadata": {},
   "outputs": [
    {
     "data": {
      "text/html": [
       "0.252492537546923"
      ],
      "text/latex": [
       "0.252492537546923"
      ],
      "text/markdown": [
       "0.252492537546923"
      ],
      "text/plain": [
       "[1] 0.2524925"
      ]
     },
     "metadata": {},
     "output_type": "display_data"
    }
   ],
   "source": [
    "1 - pnorm(20, mean=17,sd=4.5)"
   ]
  },
  {
   "cell_type": "markdown",
   "metadata": {},
   "source": [
    "*** ii. What’s the chance that a student takes between 5 and 10 minutes to finish the question?*** \n"
   ]
  },
  {
   "cell_type": "code",
   "execution_count": 4,
   "metadata": {},
   "outputs": [
    {
     "data": {
      "text/html": [
       "0.0560765265351821"
      ],
      "text/latex": [
       "0.0560765265351821"
      ],
      "text/markdown": [
       "0.0560765265351821"
      ],
      "text/plain": [
       "[1] 0.05607653"
      ]
     },
     "metadata": {},
     "output_type": "display_data"
    }
   ],
   "source": [
    "pnorm(10,mean=17,sd=4.5) - pnorm(5,mean=17,sd=4.5)"
   ]
  },
  {
   "cell_type": "markdown",
   "metadata": {},
   "source": [
    "***  iii. Find the time that marks off the slowest 10 percent of students.*** \n"
   ]
  },
  {
   "cell_type": "code",
   "execution_count": 5,
   "metadata": {},
   "outputs": [
    {
     "data": {
      "text/html": [
       "11.2330179550493"
      ],
      "text/latex": [
       "11.2330179550493"
      ],
      "text/markdown": [
       "11.2330179550493"
      ],
      "text/plain": [
       "[1] 11.23302"
      ]
     },
     "metadata": {},
     "output_type": "display_data"
    }
   ],
   "source": [
    "qnorm(.10,mean=17,sd=4.5)"
   ]
  },
  {
   "cell_type": "markdown",
   "metadata": {},
   "source": [
    "***  iv. Plot the normal distribution of interest between ±4σ and shade in the probability area of (iii), the slowest 10 percent of students.*** \n"
   ]
  },
  {
   "cell_type": "code",
   "execution_count": 33,
   "metadata": {},
   "outputs": [
    {
     "data": {
      "image/png": "[encoded data removed]",
      "text/plain": [
       "Plot with title \"N(17,4.5) distribution\""
      ]
     },
     "metadata": {},
     "output_type": "display_data"
    }
   ],
   "source": [
    "mu <- 17\n",
    "sigma <- 4.5\n",
    "mu.minus.4sigma <- mu - 4*sigma\n",
    "mu.plus.4sigma <- mu + 4*sigma\n",
    "xvals <- seq(-3,38,length=300)\n",
    "fx <- dnorm(xvals,mean=mu, sd=sigma)\n",
    "plot(xvals,fx, type=\"l\", main = \"N(17,4.5) distribution\", xlab = \"x\", ylab = \"f(x)\", xlim = c(mu.minus.4sigma, mu.plus.4sigma))\n",
    "abline(h=0, col=\"gray\")\n",
    "abline(v=qnorm(.10,mean=17,sd=4.5), lty= 3:2)\n",
    "xvals.sub <- xvals[xvals<=qnorm(.10,mean=17,sd=4.5)]\n",
    "fx.sub <- fx[xvals<=qnorm(.10,mean=17,sd=4.5)]\n",
    "polygon(rbind(c(mu.minus.4sigma,0), cbind(xvals.sub,fx.sub), c(qnorm(.10,mean=17,sd=4.5),0)), col = \"gray\", border = NA)\n"
   ]
  },
  {
   "cell_type": "markdown",
   "metadata": {},
   "source": [
    "***  v. Generate a realization of times based on a class of 10 students completing the question.*** "
   ]
  },
  {
   "cell_type": "code",
   "execution_count": 34,
   "metadata": {},
   "outputs": [
    {
     "data": {
      "text/html": [
       "<ol class=list-inline>\n",
       "\t<li>15.3963832601044</li>\n",
       "\t<li>15.2810383630732</li>\n",
       "\t<li>18.5723679138822</li>\n",
       "\t<li>26.4873711720955</li>\n",
       "\t<li>20.9623080712937</li>\n",
       "\t<li>17.3934956014756</li>\n",
       "\t<li>12.709988815055</li>\n",
       "\t<li>16.8093048994318</li>\n",
       "\t<li>20.1008690810542</li>\n",
       "\t<li>15.4500016800458</li>\n",
       "</ol>\n"
      ],
      "text/latex": [
       "\\begin{enumerate*}\n",
       "\\item 15.3963832601044\n",
       "\\item 15.2810383630732\n",
       "\\item 18.5723679138822\n",
       "\\item 26.4873711720955\n",
       "\\item 20.9623080712937\n",
       "\\item 17.3934956014756\n",
       "\\item 12.709988815055\n",
       "\\item 16.8093048994318\n",
       "\\item 20.1008690810542\n",
       "\\item 15.4500016800458\n",
       "\\end{enumerate*}\n"
      ],
      "text/markdown": [
       "1. 15.3963832601044\n",
       "2. 15.2810383630732\n",
       "3. 18.5723679138822\n",
       "4. 26.4873711720955\n",
       "5. 20.9623080712937\n",
       "6. 17.3934956014756\n",
       "7. 12.709988815055\n",
       "8. 16.8093048994318\n",
       "9. 20.1008690810542\n",
       "10. 15.4500016800458\n",
       "\n",
       "\n"
      ],
      "text/plain": [
       " [1] 15.39638 15.28104 18.57237 26.48737 20.96231 17.39350 12.70999 16.80930\n",
       " [9] 20.10087 15.45000"
      ]
     },
     "metadata": {},
     "output_type": "display_data"
    }
   ],
   "source": [
    "rnorm(n=10, mu, sigma)"
   ]
  },
  {
   "cell_type": "markdown",
   "metadata": {},
   "source": [
    "*** 2. A meticulous gardener is interested in the length of blades of grass on his lawn. He believes that blade length X follows a normal distribution centered on 10 mm with a variance of 2 mm. ***\n"
   ]
  },
  {
   "cell_type": "markdown",
   "metadata": {},
   "source": [
    "*** i. Find the probability that a blade of grass is between 9.5 and 11 mm long. *** \n"
   ]
  },
  {
   "cell_type": "code",
   "execution_count": 36,
   "metadata": {
    "scrolled": true
   },
   "outputs": [
    {
     "data": {
      "text/html": [
       "0.398413133990642"
      ],
      "text/latex": [
       "0.398413133990642"
      ],
      "text/markdown": [
       "0.398413133990642"
      ],
      "text/plain": [
       "[1] 0.3984131"
      ]
     },
     "metadata": {},
     "output_type": "display_data"
    }
   ],
   "source": [
    "mu <- 10\n",
    "sigma <- sqrt(2)\n",
    "pnorm(11, mu, sigma) - pnorm(9.5,mu,sigma)"
   ]
  },
  {
   "cell_type": "markdown",
   "metadata": {},
   "source": [
    "*** ii. What are the standardized values of 9.5 and 11 in the context of this distribution? Using the standardized values, confirmthat you can obtain the same probability you found in (i) with the standard normal density. *** \n"
   ]
  },
  {
   "cell_type": "code",
   "execution_count": 38,
   "metadata": {},
   "outputs": [
    {
     "data": {
      "text/html": [
       "0.398413133990642"
      ],
      "text/latex": [
       "0.398413133990642"
      ],
      "text/markdown": [
       "0.398413133990642"
      ],
      "text/plain": [
       "[1] 0.3984131"
      ]
     },
     "metadata": {},
     "output_type": "display_data"
    }
   ],
   "source": [
    "lower <- (9.5-mu)/sigma\n",
    "upper <- (11-mu)/sigma\n",
    "pnorm(upper,0,1) - pnorm(lower,0,1)"
   ]
  },
  {
   "cell_type": "markdown",
   "metadata": {},
   "source": [
    "***  iii. Below which value are the shortest 2.5 percent of blade lengths found? *** \n"
   ]
  },
  {
   "cell_type": "code",
   "execution_count": 37,
   "metadata": {},
   "outputs": [
    {
     "data": {
      "text/html": [
       "7.22819235130064"
      ],
      "text/latex": [
       "7.22819235130064"
      ],
      "text/markdown": [
       "7.22819235130064"
      ],
      "text/plain": [
       "[1] 7.228192"
      ]
     },
     "metadata": {},
     "output_type": "display_data"
    }
   ],
   "source": [
    "qnorm(2.5/100, mu, sigma)"
   ]
  },
  {
   "cell_type": "markdown",
   "metadata": {},
   "source": [
    "*** iv. Standardize your answer from (iii) *** "
   ]
  },
  {
   "cell_type": "code",
   "execution_count": 43,
   "metadata": {},
   "outputs": [
    {
     "data": {
      "text/html": [
       "7.22819235130064"
      ],
      "text/latex": [
       "7.22819235130064"
      ],
      "text/markdown": [
       "7.22819235130064"
      ],
      "text/plain": [
       "[1] 7.228192"
      ]
     },
     "metadata": {},
     "output_type": "display_data"
    }
   ],
   "source": [
    "z.value = qnorm(2.5/100,0,1)\n",
    "real.value = z.value * sigma + mu\n",
    "real.value"
   ]
  },
  {
   "cell_type": "code",
   "execution_count": null,
   "metadata": {
    "collapsed": true
   },
   "outputs": [],
   "source": []
  }
 ],
 "metadata": {
  "kernelspec": {
   "display_name": "R",
   "language": "R",
   "name": "r"
  },
  "language_info": {
   "codemirror_mode": "r",
   "file_extension": ".r",
   "mimetype": "text/x-r-source",
   "name": "R",
   "pygments_lexer": "r",
   "version": "3.3.0"
  }
 },
 "nbformat": 4,
 "nbformat_minor": 2
}
