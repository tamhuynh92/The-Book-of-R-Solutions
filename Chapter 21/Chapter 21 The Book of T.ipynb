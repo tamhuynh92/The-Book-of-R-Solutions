{
 "cells": [
  {
   "cell_type": "markdown",
   "metadata": {},
   "source": [
    "## 21.2 Theory"
   ]
  },
  {
   "cell_type": "code",
   "execution_count": 1,
   "metadata": {},
   "outputs": [
    {
     "data": {
      "text/html": [
       "<table>\n",
       "<thead><tr><th scope=col>y</th><th scope=col>x1</th><th scope=col>x2</th></tr></thead>\n",
       "<tbody>\n",
       "\t<tr><td> 1.55</td><td> 1.13</td><td>1    </td></tr>\n",
       "\t<tr><td> 0.42</td><td>-0.73</td><td>0    </td></tr>\n",
       "\t<tr><td> 1.29</td><td> 0.12</td><td>1    </td></tr>\n",
       "\t<tr><td> 0.73</td><td> 0.52</td><td>1    </td></tr>\n",
       "\t<tr><td> 0.76</td><td>-0.54</td><td>0    </td></tr>\n",
       "\t<tr><td>-1.09</td><td>-1.15</td><td>1    </td></tr>\n",
       "\t<tr><td> 1.41</td><td> 0.20</td><td>0    </td></tr>\n",
       "\t<tr><td>-0.32</td><td>-1.09</td><td>1    </td></tr>\n",
       "</tbody>\n",
       "</table>\n"
      ],
      "text/latex": [
       "\\begin{tabular}{r|lll}\n",
       " y & x1 & x2\\\\\n",
       "\\hline\n",
       "\t  1.55 &  1.13 & 1    \\\\\n",
       "\t  0.42 & -0.73 & 0    \\\\\n",
       "\t  1.29 &  0.12 & 1    \\\\\n",
       "\t  0.73 &  0.52 & 1    \\\\\n",
       "\t  0.76 & -0.54 & 0    \\\\\n",
       "\t -1.09 & -1.15 & 1    \\\\\n",
       "\t  1.41 &  0.20 & 0    \\\\\n",
       "\t -0.32 & -1.09 & 1    \\\\\n",
       "\\end{tabular}\n"
      ],
      "text/markdown": [
       "\n",
       "y | x1 | x2 | \n",
       "|---|---|---|---|---|---|---|---|\n",
       "|  1.55 |  1.13 | 1     | \n",
       "|  0.42 | -0.73 | 0     | \n",
       "|  1.29 |  0.12 | 1     | \n",
       "|  0.73 |  0.52 | 1     | \n",
       "|  0.76 | -0.54 | 0     | \n",
       "| -1.09 | -1.15 | 1     | \n",
       "|  1.41 |  0.20 | 0     | \n",
       "| -0.32 | -1.09 | 1     | \n",
       "\n",
       "\n"
      ],
      "text/plain": [
       "  y     x1    x2\n",
       "1  1.55  1.13 1 \n",
       "2  0.42 -0.73 0 \n",
       "3  1.29  0.12 1 \n",
       "4  0.73  0.52 1 \n",
       "5  0.76 -0.54 0 \n",
       "6 -1.09 -1.15 1 \n",
       "7  1.41  0.20 0 \n",
       "8 -0.32 -1.09 1 "
      ]
     },
     "metadata": {},
     "output_type": "display_data"
    }
   ],
   "source": [
    "demo.data <- data.frame(y=c(1.55,0.42,1.29,0.73,0.76,-1.09,1.41,-0.32),\n",
    "                        x1=c(1.13,-0.73,0.12,0.52,-0.54,-1.15,0.20,-1.09),\n",
    "                        x2=c(1,0,1,1,0,1,0,1))\n",
    "demo.data"
   ]
  },
  {
   "cell_type": "markdown",
   "metadata": {},
   "source": [
    "To get your point estimates in $$ β = [β0, β1, β2]^{⊤} $$ for the linear model,\n",
    "you first have to construct X and Y as required by (21.3)."
   ]
  },
  {
   "cell_type": "code",
   "execution_count": 5,
   "metadata": {},
   "outputs": [
    {
     "data": {
      "text/html": [
       "<table>\n",
       "<tbody>\n",
       "\t<tr><td> 1.55</td></tr>\n",
       "\t<tr><td> 0.42</td></tr>\n",
       "\t<tr><td> 1.29</td></tr>\n",
       "\t<tr><td> 0.73</td></tr>\n",
       "\t<tr><td> 0.76</td></tr>\n",
       "\t<tr><td>-1.09</td></tr>\n",
       "\t<tr><td> 1.41</td></tr>\n",
       "\t<tr><td>-0.32</td></tr>\n",
       "</tbody>\n",
       "</table>\n"
      ],
      "text/latex": [
       "\\begin{tabular}{l}\n",
       "\t  1.55\\\\\n",
       "\t  0.42\\\\\n",
       "\t  1.29\\\\\n",
       "\t  0.73\\\\\n",
       "\t  0.76\\\\\n",
       "\t -1.09\\\\\n",
       "\t  1.41\\\\\n",
       "\t -0.32\\\\\n",
       "\\end{tabular}\n"
      ],
      "text/markdown": [
       "\n",
       "|  1.55 | \n",
       "|  0.42 | \n",
       "|  1.29 | \n",
       "|  0.73 | \n",
       "|  0.76 | \n",
       "| -1.09 | \n",
       "|  1.41 | \n",
       "| -0.32 | \n",
       "\n",
       "\n"
      ],
      "text/plain": [
       "     [,1] \n",
       "[1,]  1.55\n",
       "[2,]  0.42\n",
       "[3,]  1.29\n",
       "[4,]  0.73\n",
       "[5,]  0.76\n",
       "[6,] -1.09\n",
       "[7,]  1.41\n",
       "[8,] -0.32"
      ]
     },
     "metadata": {},
     "output_type": "display_data"
    }
   ],
   "source": [
    "Y <- matrix(demo.data$y)\n",
    "Y\n",
    "n <- nrow(demo.data)\n"
   ]
  },
  {
   "cell_type": "code",
   "execution_count": 6,
   "metadata": {},
   "outputs": [
    {
     "data": {
      "text/html": [
       "<table>\n",
       "<tbody>\n",
       "\t<tr><td>1    </td><td> 1.13</td><td>1    </td></tr>\n",
       "\t<tr><td>1    </td><td>-0.73</td><td>0    </td></tr>\n",
       "\t<tr><td>1    </td><td> 0.12</td><td>1    </td></tr>\n",
       "\t<tr><td>1    </td><td> 0.52</td><td>1    </td></tr>\n",
       "\t<tr><td>1    </td><td>-0.54</td><td>0    </td></tr>\n",
       "\t<tr><td>1    </td><td>-1.15</td><td>1    </td></tr>\n",
       "\t<tr><td>1    </td><td> 0.20</td><td>0    </td></tr>\n",
       "\t<tr><td>1    </td><td>-1.09</td><td>1    </td></tr>\n",
       "</tbody>\n",
       "</table>\n"
      ],
      "text/latex": [
       "\\begin{tabular}{lll}\n",
       "\t 1     &  1.13 & 1    \\\\\n",
       "\t 1     & -0.73 & 0    \\\\\n",
       "\t 1     &  0.12 & 1    \\\\\n",
       "\t 1     &  0.52 & 1    \\\\\n",
       "\t 1     & -0.54 & 0    \\\\\n",
       "\t 1     & -1.15 & 1    \\\\\n",
       "\t 1     &  0.20 & 0    \\\\\n",
       "\t 1     & -1.09 & 1    \\\\\n",
       "\\end{tabular}\n"
      ],
      "text/markdown": [
       "\n",
       "| 1     |  1.13 | 1     | \n",
       "| 1     | -0.73 | 0     | \n",
       "| 1     |  0.12 | 1     | \n",
       "| 1     |  0.52 | 1     | \n",
       "| 1     | -0.54 | 0     | \n",
       "| 1     | -1.15 | 1     | \n",
       "| 1     |  0.20 | 0     | \n",
       "| 1     | -1.09 | 1     | \n",
       "\n",
       "\n"
      ],
      "text/plain": [
       "     [,1] [,2]  [,3]\n",
       "[1,] 1     1.13 1   \n",
       "[2,] 1    -0.73 0   \n",
       "[3,] 1     0.12 1   \n",
       "[4,] 1     0.52 1   \n",
       "[5,] 1    -0.54 0   \n",
       "[6,] 1    -1.15 1   \n",
       "[7,] 1     0.20 0   \n",
       "[8,] 1    -1.09 1   "
      ]
     },
     "metadata": {},
     "output_type": "display_data"
    }
   ],
   "source": [
    "X <- matrix(c(rep(1,n),demo.data$x1,demo.data$x2),nrow=n,ncol=3)\n",
    "X"
   ]
  },
  {
   "cell_type": "markdown",
   "metadata": {},
   "source": [
    "## 21.3 Implementing in R and Interpreting\n",
    "                "
   ]
  },
  {
   "cell_type": "markdown",
   "metadata": {},
   "source": [
    "### 21.3.1 Additional Predictors\n"
   ]
  },
  {
   "cell_type": "code",
   "execution_count": 14,
   "metadata": {},
   "outputs": [
    {
     "data": {
      "text/plain": [
       "\n",
       "Call:\n",
       "lm(formula = y ~ x1 + x2, data = demo.data)\n",
       "\n",
       "Coefficients:\n",
       "(Intercept)           x1           x2  \n",
       "      1.225        1.015       -0.698  \n"
      ]
     },
     "metadata": {},
     "output_type": "display_data"
    }
   ],
   "source": [
    "demo.fit <- lm(y~x1+x2,data=demo.data)\n",
    "demo.fit"
   ]
  },
  {
   "cell_type": "code",
   "execution_count": 16,
   "metadata": {},
   "outputs": [
    {
     "data": {
      "text/plain": [
       "\n",
       "Call:\n",
       "lm(formula = Height ~ Wr.Hnd + Sex, data = survey)\n",
       "\n",
       "Coefficients:\n",
       "(Intercept)       Wr.Hnd      SexMale  \n",
       "    137.687        1.594        9.490  \n"
      ]
     },
     "metadata": {},
     "output_type": "display_data"
    }
   ],
   "source": [
    "library(MASS)\n",
    "survmult <- lm(Height~Wr.Hnd+Sex,data=survey)\n",
    "survmult"
   ]
  },
  {
   "cell_type": "code",
   "execution_count": 17,
   "metadata": {},
   "outputs": [
    {
     "data": {
      "text/plain": [
       "\n",
       "Call:\n",
       "lm(formula = Height ~ Wr.Hnd + Sex, data = survey)\n",
       "\n",
       "Residuals:\n",
       "     Min       1Q   Median       3Q      Max \n",
       "-17.7479  -4.1830   0.7749   4.6665  21.9253 \n",
       "\n",
       "Coefficients:\n",
       "            Estimate Std. Error t value Pr(>|t|)    \n",
       "(Intercept) 137.6870     5.7131  24.100  < 2e-16 ***\n",
       "Wr.Hnd        1.5944     0.3229   4.937 1.64e-06 ***\n",
       "SexMale       9.4898     1.2287   7.724 5.00e-13 ***\n",
       "---\n",
       "Signif. codes:  0 '***' 0.001 '**' 0.01 '*' 0.05 '.' 0.1 ' ' 1\n",
       "\n",
       "Residual standard error: 6.987 on 204 degrees of freedom\n",
       "  (30 observations deleted due to missingness)\n",
       "Multiple R-squared:  0.5062,\tAdjusted R-squared:  0.5014 \n",
       "F-statistic: 104.6 on 2 and 204 DF,  p-value: < 2.2e-16\n"
      ]
     },
     "metadata": {},
     "output_type": "display_data"
    }
   ],
   "source": [
    " summary(survmult)"
   ]
  },
  {
   "cell_type": "code",
   "execution_count": 18,
   "metadata": {},
   "outputs": [
    {
     "data": {
      "text/plain": [
       "\n",
       "Call:\n",
       "lm(formula = Height ~ Wr.Hnd + Sex + Smoke, data = survey)\n",
       "\n",
       "Residuals:\n",
       "     Min       1Q   Median       3Q      Max \n",
       "-17.4869  -4.7617   0.7604   4.3691  22.1237 \n",
       "\n",
       "Coefficients:\n",
       "            Estimate Std. Error t value Pr(>|t|)    \n",
       "(Intercept) 137.4056     6.5444  20.996  < 2e-16 ***\n",
       "Wr.Hnd        1.6042     0.3301   4.860 2.36e-06 ***\n",
       "SexMale       9.3979     1.2452   7.547 1.51e-12 ***\n",
       "SmokeNever   -0.0442     2.3135  -0.019    0.985    \n",
       "SmokeOccas    1.5267     2.8694   0.532    0.595    \n",
       "SmokeRegul    0.9211     2.9290   0.314    0.753    \n",
       "---\n",
       "Signif. codes:  0 '***' 0.001 '**' 0.01 '*' 0.05 '.' 0.1 ' ' 1\n",
       "\n",
       "Residual standard error: 7.023 on 201 degrees of freedom\n",
       "  (30 observations deleted due to missingness)\n",
       "Multiple R-squared:  0.5085,\tAdjusted R-squared:  0.4962 \n",
       "F-statistic: 41.59 on 5 and 201 DF,  p-value: < 2.2e-16\n"
      ]
     },
     "metadata": {},
     "output_type": "display_data"
    }
   ],
   "source": [
    "survmult2 <- lm(Height~Wr.Hnd+Sex+Smoke,data=survey)\n",
    " summary(survmult2)"
   ]
  },
  {
   "cell_type": "markdown",
   "metadata": {},
   "source": [
    "### 21.3.2 Interpreting Marginal Effects\n",
    "\n",
    "### 21.3.3 Visualizing the Multiple Linear Model\n"
   ]
  },
  {
   "cell_type": "code",
   "execution_count": 19,
   "metadata": {},
   "outputs": [
    {
     "data": {
      "text/html": [
       "<dl class=dl-horizontal>\n",
       "\t<dt>(Intercept)</dt>\n",
       "\t\t<dd>137.686950521241</dd>\n",
       "\t<dt>Wr.Hnd</dt>\n",
       "\t\t<dd>1.5944456491924</dd>\n",
       "\t<dt>SexMale</dt>\n",
       "\t\t<dd>9.48981387553692</dd>\n",
       "</dl>\n"
      ],
      "text/latex": [
       "\\begin{description*}\n",
       "\\item[(Intercept)] 137.686950521241\n",
       "\\item[Wr.Hnd] 1.5944456491924\n",
       "\\item[SexMale] 9.48981387553692\n",
       "\\end{description*}\n"
      ],
      "text/markdown": [
       "(Intercept)\n",
       ":   137.686950521241Wr.Hnd\n",
       ":   1.5944456491924SexMale\n",
       ":   9.48981387553692\n",
       "\n"
      ],
      "text/plain": [
       "(Intercept)      Wr.Hnd     SexMale \n",
       " 137.686951    1.594446    9.489814 "
      ]
     },
     "metadata": {},
     "output_type": "display_data"
    }
   ],
   "source": [
    "survcoefs <- coef(survmult)\n",
    "survcoefs"
   ]
  },
  {
   "cell_type": "markdown",
   "metadata": {},
   "source": [
    "Here’s the equation for male students: <br>\n",
    "“Mean height” = (137.687 + 9.4898) + 1.594 × “handspan” = 147.177 + 1.594 × “handspan”"
   ]
  },
  {
   "cell_type": "code",
   "execution_count": 31,
   "metadata": {},
   "outputs": [
    {
     "data": {
      "image/png": "[encoded data removed]",
      "text/plain": [
       "plot without title"
      ]
     },
     "metadata": {},
     "output_type": "display_data"
    }
   ],
   "source": [
    "#First, a scatterplot of the height and handspan observations, split by sex, is drawn. \n",
    "plot(survey$Height~survey$Wr.Hnd, col=c(\"red\",\"blue\")[as.numeric(survey$Sex)], pch=16,xlab=\"Writing handspan\",ylab=\"Height\")\n",
    "\n",
    "#Then, abline adds the line corresponding to females and adds a second one corresponding to males, based on those two equations.\n",
    "abline(a=survcoefs[1],b=survcoefs[2],col=\"red\",lwd=2, lty = 2)\n",
    "abline(a=survcoefs[1]+survcoefs[3],b=survcoefs[2],col=\"blue\",lwd=2, lty = 3)\n",
    "\n",
    "legend(\"topleft\",legend=levels(survey$Sex),col=c(\"red\",\"blue\"),pch=16)"
   ]
  },
  {
   "cell_type": "markdown",
   "metadata": {},
   "source": [
    "### 21.3.4 Finding Confidence Intervals\n"
   ]
  },
  {
   "cell_type": "code",
   "execution_count": 32,
   "metadata": {},
   "outputs": [
    {
     "data": {
      "text/html": [
       "<table>\n",
       "<thead><tr><th></th><th scope=col>2.5 %</th><th scope=col>97.5 %</th></tr></thead>\n",
       "<tbody>\n",
       "\t<tr><th scope=row>(Intercept)</th><td>124.5010442</td><td>150.310074 </td></tr>\n",
       "\t<tr><th scope=row>Wr.Hnd</th><td>  0.9534078</td><td>  2.255053 </td></tr>\n",
       "\t<tr><th scope=row>SexMale</th><td>  6.9426040</td><td> 11.853129 </td></tr>\n",
       "\t<tr><th scope=row>SmokeNever</th><td> -4.6061148</td><td>  4.517705 </td></tr>\n",
       "\t<tr><th scope=row>SmokeOccas</th><td> -4.1312384</td><td>  7.184710 </td></tr>\n",
       "\t<tr><th scope=row>SmokeRegul</th><td> -4.8543683</td><td>  6.696525 </td></tr>\n",
       "</tbody>\n",
       "</table>\n"
      ],
      "text/latex": [
       "\\begin{tabular}{r|ll}\n",
       "  & 2.5 \\% & 97.5 \\%\\\\\n",
       "\\hline\n",
       "\t(Intercept) & 124.5010442 & 150.310074 \\\\\n",
       "\tWr.Hnd &   0.9534078 &   2.255053 \\\\\n",
       "\tSexMale &   6.9426040 &  11.853129 \\\\\n",
       "\tSmokeNever &  -4.6061148 &   4.517705 \\\\\n",
       "\tSmokeOccas &  -4.1312384 &   7.184710 \\\\\n",
       "\tSmokeRegul &  -4.8543683 &   6.696525 \\\\\n",
       "\\end{tabular}\n"
      ],
      "text/markdown": [
       "\n",
       "| <!--/--> | 2.5 % | 97.5 % | \n",
       "|---|---|---|---|---|---|\n",
       "| (Intercept) | 124.5010442 | 150.310074  | \n",
       "| Wr.Hnd |   0.9534078 |   2.255053  | \n",
       "| SexMale |   6.9426040 |  11.853129  | \n",
       "| SmokeNever |  -4.6061148 |   4.517705  | \n",
       "| SmokeOccas |  -4.1312384 |   7.184710  | \n",
       "| SmokeRegul |  -4.8543683 |   6.696525  | \n",
       "\n",
       "\n"
      ],
      "text/plain": [
       "            2.5 %       97.5 %    \n",
       "(Intercept) 124.5010442 150.310074\n",
       "Wr.Hnd        0.9534078   2.255053\n",
       "SexMale       6.9426040  11.853129\n",
       "SmokeNever   -4.6061148   4.517705\n",
       "SmokeOccas   -4.1312384   7.184710\n",
       "SmokeRegul   -4.8543683   6.696525"
      ]
     },
     "metadata": {},
     "output_type": "display_data"
    }
   ],
   "source": [
    "confint(survmult2)"
   ]
  },
  {
   "cell_type": "markdown",
   "metadata": {},
   "source": [
    "### 21.3.5 Omnibus F-Test\n",
    "\n",
    "First encountered in Section 20.5.2 in the context of multilevel predictors,\n",
    "you can think of the omnibus F-test more generally for multiple regression\n",
    "models as a test with the following hypotheses: <br>\n",
    " H0 : β1 = β2 = . . . = βp = 0 <br> \n",
    " HA : At least one of the βj != 0 (for j = 1, . . ., p) (21.5) <br> "
   ]
  },
  {
   "cell_type": "code",
   "execution_count": 33,
   "metadata": {},
   "outputs": [
    {
     "data": {
      "text/html": [
       "0"
      ],
      "text/latex": [
       "0"
      ],
      "text/markdown": [
       "0"
      ],
      "text/plain": [
       "[1] 0"
      ]
     },
     "metadata": {},
     "output_type": "display_data"
    }
   ],
   "source": [
    "R2 <- summary(survmult2)$r.squared\n",
    "n <- nrow(survey)-30\n",
    "p <- length(coef(survmult2))-1\n",
    "Fstat <- (R2*(n-p-1))/((1-R2)*p)\n",
    "1-pf(Fstat,df1=p,df2=n-p-1)"
   ]
  },
  {
   "cell_type": "markdown",
   "metadata": {},
   "source": [
    "### 21.3.6 Predicting from a Multiple Linear Model"
   ]
  },
  {
   "cell_type": "code",
   "execution_count": 34,
   "metadata": {},
   "outputs": [
    {
     "data": {
      "text/html": [
       "<table>\n",
       "<thead><tr><th></th><th scope=col>fit</th><th scope=col>lwr</th><th scope=col>upr</th></tr></thead>\n",
       "<tbody>\n",
       "\t<tr><th scope=row>1</th><td>173.4851</td><td>170.9419</td><td>176.0283</td></tr>\n",
       "</tbody>\n",
       "</table>\n"
      ],
      "text/latex": [
       "\\begin{tabular}{r|lll}\n",
       "  & fit & lwr & upr\\\\\n",
       "\\hline\n",
       "\t1 & 173.4851 & 170.9419 & 176.0283\\\\\n",
       "\\end{tabular}\n"
      ],
      "text/markdown": [
       "\n",
       "| <!--/--> | fit | lwr | upr | \n",
       "|---|\n",
       "| 1 | 173.4851 | 170.9419 | 176.0283 | \n",
       "\n",
       "\n"
      ],
      "text/plain": [
       "  fit      lwr      upr     \n",
       "1 173.4851 170.9419 176.0283"
      ]
     },
     "metadata": {},
     "output_type": "display_data"
    }
   ],
   "source": [
    "predict(survmult,newdata=data.frame(Wr.Hnd=16.5,Sex=\"Male\"), interval=\"confidence\",level=0.95)"
   ]
  },
  {
   "cell_type": "code",
   "execution_count": 35,
   "metadata": {},
   "outputs": [
    {
     "data": {
      "text/html": [
       "<table>\n",
       "<thead><tr><th></th><th scope=col>fit</th><th scope=col>lwr</th><th scope=col>upr</th></tr></thead>\n",
       "<tbody>\n",
       "\t<tr><th scope=row>1</th><td>158.4147</td><td>139.7611</td><td>177.0684</td></tr>\n",
       "</tbody>\n",
       "</table>\n"
      ],
      "text/latex": [
       "\\begin{tabular}{r|lll}\n",
       "  & fit & lwr & upr\\\\\n",
       "\\hline\n",
       "\t1 & 158.4147 & 139.7611 & 177.0684\\\\\n",
       "\\end{tabular}\n"
      ],
      "text/markdown": [
       "\n",
       "| <!--/--> | fit | lwr | upr | \n",
       "|---|\n",
       "| 1 | 158.4147 | 139.7611 | 177.0684 | \n",
       "\n",
       "\n"
      ],
      "text/plain": [
       "  fit      lwr      upr     \n",
       "1 158.4147 139.7611 177.0684"
      ]
     },
     "metadata": {},
     "output_type": "display_data"
    }
   ],
   "source": [
    "predict(survmult,newdata=data.frame(Wr.Hnd=13,Sex=\"Female\"), interval=\"prediction\",level=0.99)"
   ]
  },
  {
   "cell_type": "code",
   "execution_count": 37,
   "metadata": {},
   "outputs": [
    {
     "data": {
      "text/html": [
       "<table>\n",
       "<thead><tr><th></th><th scope=col>Sex</th><th scope=col>Wr.Hnd</th><th scope=col>Height</th></tr></thead>\n",
       "<tbody>\n",
       "\t<tr><th scope=row>45</th><td>Female</td><td>13    </td><td>180.34</td></tr>\n",
       "\t<tr><th scope=row>152</th><td>Female</td><td>13    </td><td>165.00</td></tr>\n",
       "</tbody>\n",
       "</table>\n"
      ],
      "text/latex": [
       "\\begin{tabular}{r|lll}\n",
       "  & Sex & Wr.Hnd & Height\\\\\n",
       "\\hline\n",
       "\t45 & Female & 13     & 180.34\\\\\n",
       "\t152 & Female & 13     & 165.00\\\\\n",
       "\\end{tabular}\n"
      ],
      "text/markdown": [
       "\n",
       "| <!--/--> | Sex | Wr.Hnd | Height | \n",
       "|---|---|\n",
       "| 45 | Female | 13     | 180.34 | \n",
       "| 152 | Female | 13     | 165.00 | \n",
       "\n",
       "\n"
      ],
      "text/plain": [
       "    Sex    Wr.Hnd Height\n",
       "45  Female 13     180.34\n",
       "152 Female 13     165.00"
      ]
     },
     "metadata": {},
     "output_type": "display_data"
    }
   ],
   "source": [
    "survey[survey$Sex==\"Female\" & survey$Wr.Hnd==13,c(\"Sex\",\"Wr.Hnd\",\"Height\")] "
   ]
  },
  {
   "cell_type": "markdown",
   "metadata": {},
   "source": [
    "## 21.4 Transforming Numeric Variables\n",
    "### 21.4.1 Polynomial"
   ]
  },
  {
   "cell_type": "code",
   "execution_count": 42,
   "metadata": {},
   "outputs": [
    {
     "data": {
      "image/png": "[encoded data removed]",
      "text/plain": [
       "plot without title"
      ]
     },
     "metadata": {},
     "output_type": "display_data"
    }
   ],
   "source": [
    "x <- seq(-4,4,length=50)\n",
    "y <- x\n",
    "y2 <- x + x^2\n",
    "y3 <- x + x^2 + x^3\n",
    "\n",
    "par(mfrow=c(2,2))\n",
    "plot(x,y,type=\"l\")\n",
    "plot(x,y2,type=\"l\")\n",
    "plot(x,y3,type=\"l\")"
   ]
  },
  {
   "cell_type": "markdown",
   "metadata": {},
   "source": [
    "#### Fitting a Polynomial Transformation\n"
   ]
  },
  {
   "cell_type": "code",
   "execution_count": 43,
   "metadata": {},
   "outputs": [
    {
     "data": {
      "image/png": "[encoded data removed]",
      "text/plain": [
       "plot without title"
      ]
     },
     "metadata": {},
     "output_type": "display_data"
    }
   ],
   "source": [
    "plot(mtcars$disp,mtcars$mpg,xlab=\"Displacement (cu. in.)\",ylab=\"MPG\")"
   ]
  },
  {
   "cell_type": "code",
   "execution_count": 44,
   "metadata": {},
   "outputs": [
    {
     "data": {
      "text/plain": [
       "\n",
       "Call:\n",
       "lm(formula = mpg ~ disp, data = mtcars)\n",
       "\n",
       "Residuals:\n",
       "    Min      1Q  Median      3Q     Max \n",
       "-4.8922 -2.2022 -0.9631  1.6272  7.2305 \n",
       "\n",
       "Coefficients:\n",
       "             Estimate Std. Error t value Pr(>|t|)    \n",
       "(Intercept) 29.599855   1.229720  24.070  < 2e-16 ***\n",
       "disp        -0.041215   0.004712  -8.747 9.38e-10 ***\n",
       "---\n",
       "Signif. codes:  0 '***' 0.001 '**' 0.01 '*' 0.05 '.' 0.1 ' ' 1\n",
       "\n",
       "Residual standard error: 3.251 on 30 degrees of freedom\n",
       "Multiple R-squared:  0.7183,\tAdjusted R-squared:  0.709 \n",
       "F-statistic: 76.51 on 1 and 30 DF,  p-value: 9.38e-10\n"
      ]
     },
     "metadata": {},
     "output_type": "display_data"
    }
   ],
   "source": [
    "car.order1 <- lm(mpg~disp,data=mtcars)\n",
    "summary(car.order1)"
   ]
  },
  {
   "cell_type": "code",
   "execution_count": 45,
   "metadata": {},
   "outputs": [
    {
     "data": {
      "text/plain": [
       "\n",
       "Call:\n",
       "lm(formula = mpg ~ disp + I(disp^2), data = mtcars)\n",
       "\n",
       "Residuals:\n",
       "    Min      1Q  Median      3Q     Max \n",
       "-3.9112 -1.5269 -0.3124  1.3489  5.3946 \n",
       "\n",
       "Coefficients:\n",
       "              Estimate Std. Error t value Pr(>|t|)    \n",
       "(Intercept)  3.583e+01  2.209e+00  16.221 4.39e-16 ***\n",
       "disp        -1.053e-01  2.028e-02  -5.192 1.49e-05 ***\n",
       "I(disp^2)    1.255e-04  3.891e-05   3.226   0.0031 ** \n",
       "---\n",
       "Signif. codes:  0 '***' 0.001 '**' 0.01 '*' 0.05 '.' 0.1 ' ' 1\n",
       "\n",
       "Residual standard error: 2.837 on 29 degrees of freedom\n",
       "Multiple R-squared:  0.7927,\tAdjusted R-squared:  0.7784 \n",
       "F-statistic: 55.46 on 2 and 29 DF,  p-value: 1.229e-10\n"
      ]
     },
     "metadata": {},
     "output_type": "display_data"
    }
   ],
   "source": [
    "car.order2 <- lm(mpg~disp+I(disp^2),data=mtcars)\n",
    "summary(car.order2)"
   ]
  },
  {
   "cell_type": "code",
   "execution_count": 46,
   "metadata": {},
   "outputs": [
    {
     "data": {
      "text/plain": [
       "\n",
       "Call:\n",
       "lm(formula = mpg ~ disp + I(disp^2) + I(disp^3), data = mtcars)\n",
       "\n",
       "Residuals:\n",
       "    Min      1Q  Median      3Q     Max \n",
       "-3.0896 -1.5653 -0.3619  1.4368  4.7617 \n",
       "\n",
       "Coefficients:\n",
       "              Estimate Std. Error t value Pr(>|t|)    \n",
       "(Intercept)  5.070e+01  3.809e+00  13.310 1.25e-13 ***\n",
       "disp        -3.372e-01  5.526e-02  -6.102 1.39e-06 ***\n",
       "I(disp^2)    1.109e-03  2.265e-04   4.897 3.68e-05 ***\n",
       "I(disp^3)   -1.217e-06  2.776e-07  -4.382  0.00015 ***\n",
       "---\n",
       "Signif. codes:  0 '***' 0.001 '**' 0.01 '*' 0.05 '.' 0.1 ' ' 1\n",
       "\n",
       "Residual standard error: 2.224 on 28 degrees of freedom\n",
       "Multiple R-squared:  0.8771,\tAdjusted R-squared:  0.8639 \n",
       "F-statistic: 66.58 on 3 and 28 DF,  p-value: 7.347e-13\n"
      ]
     },
     "metadata": {},
     "output_type": "display_data"
    }
   ],
   "source": [
    "car.order3 <- lm(mpg~disp+I(disp^2)+I(disp^3),data=mtcars)\n",
    "summary(car.order3)"
   ]
  },
  {
   "cell_type": "markdown",
   "metadata": {},
   "source": [
    "#### Plotting the Polynomial Fit"
   ]
  },
  {
   "cell_type": "code",
   "execution_count": 54,
   "metadata": {},
   "outputs": [
    {
     "data": {
      "image/png": "[encoded data removed]",
      "text/plain": [
       "plot without title"
      ]
     },
     "metadata": {},
     "output_type": "display_data"
    }
   ],
   "source": [
    "plot(mtcars$disp,mtcars$mpg,xlab=\"Displacement (cu. in.)\",ylab=\"MPG\", )\n",
    "abline(car.order1)\n",
    "\n",
    "disp.seq <- seq(min(mtcars$disp)-50,max(mtcars$disp)+50,length=30)\n",
    "car.order2.pred <- predict(car.order2,newdata=data.frame(disp=disp.seq))\n",
    "lines(disp.seq,car.order2.pred,lty=2, col = \"red\")\n",
    "\n",
    "car.order3.pred <- predict(car.order3,newdata=data.frame(disp=disp.seq))\n",
    "lines(disp.seq,car.order3.pred,lty=3, col = \"blue\")\n",
    "legend(\"topright\",lty=1:3, legend=c(\"order 1 (linear)\",\"order 2 (quadratic)\",\"order 3 (cubic)\"), col = c(\"black\", \"red\", \"blue\"))"
   ]
  },
  {
   "cell_type": "markdown",
   "metadata": {},
   "source": [
    "### 21.4.2 Logarithmic"
   ]
  },
  {
   "cell_type": "code",
   "execution_count": 56,
   "metadata": {},
   "outputs": [
    {
     "data": {
      "image/png": "[encoded data removed]",
      "text/plain": [
       "plot without title"
      ]
     },
     "metadata": {},
     "output_type": "display_data"
    }
   ],
   "source": [
    "plot(1:1000,log(1:1000),type=\"l\",xlab=\"x\",ylab=\"\",ylim=c(-8,8), col = \"red\")\n",
    "lines(1:1000,-log(1:1000),lty=2, col = \"blue\")\n",
    "legend(\"topleft\",legend=c(\"log(x)\",\"-log(x)\"),lty=c(1,2))"
   ]
  },
  {
   "cell_type": "code",
   "execution_count": 58,
   "metadata": {},
   "outputs": [
    {
     "data": {
      "image/png": "[encoded data removed]",
      "text/plain": [
       "plot without title"
      ]
     },
     "metadata": {},
     "output_type": "display_data"
    }
   ],
   "source": [
    "plot(mtcars$hp,mtcars$mpg,pch=19,col=c(\"blue\",\"red\")[factor(mtcars$am)], xlab=\"Horsepower\",ylab=\"MPG\")\n",
    "legend(\"topright\",legend=c(\"auto\",\"man\"),col=c(\"blue\",\"red\"),pch=19)"
   ]
  },
  {
   "cell_type": "code",
   "execution_count": 59,
   "metadata": {},
   "outputs": [
    {
     "data": {
      "text/plain": [
       "\n",
       "Call:\n",
       "lm(formula = mpg ~ log(hp) + am, data = mtcars)\n",
       "\n",
       "Residuals:\n",
       "    Min      1Q  Median      3Q     Max \n",
       "-3.9084 -1.7692 -0.1432  1.4032  6.3865 \n",
       "\n",
       "Coefficients:\n",
       "            Estimate Std. Error t value Pr(>|t|)    \n",
       "(Intercept)  63.4842     5.2697  12.047 8.24e-13 ***\n",
       "log(hp)      -9.2383     1.0439  -8.850 9.78e-10 ***\n",
       "am            4.2025     0.9942   4.227 0.000215 ***\n",
       "---\n",
       "Signif. codes:  0 '***' 0.001 '**' 0.01 '*' 0.05 '.' 0.1 ' ' 1\n",
       "\n",
       "Residual standard error: 2.592 on 29 degrees of freedom\n",
       "Multiple R-squared:  0.827,\tAdjusted R-squared:  0.8151 \n",
       "F-statistic: 69.31 on 2 and 29 DF,  p-value: 8.949e-12\n"
      ]
     },
     "metadata": {},
     "output_type": "display_data"
    }
   ],
   "source": [
    "car.log <- lm(mpg~log(hp)+am,data=mtcars)\n",
    "summary(car.log)"
   ]
  },
  {
   "cell_type": "code",
   "execution_count": 63,
   "metadata": {},
   "outputs": [
    {
     "data": {
      "image/png": "[encoded data removed]",
      "text/plain": [
       "plot without title"
      ]
     },
     "metadata": {},
     "output_type": "display_data"
    }
   ],
   "source": [
    "hp.seq <- seq(min(mtcars$hp)-20,max(mtcars$hp)+20,length=30)\n",
    "n <- length(hp.seq)\n",
    "car.log.pred <- predict(car.log,newdata=data.frame(hp=rep(hp.seq,2), am=rep(c(0,1),each=n)))\n",
    "\n",
    "plot(mtcars$hp,mtcars$mpg,pch=19,col=c(\"blue\",\"red\")[factor(mtcars$am)], xlab=\"Horsepower\",ylab=\"MPG\")\n",
    "legend(\"topright\",legend=c(\"auto\",\"man\"),col=c(\"blue\",\"red\"),pch=19)\n",
    "\n",
    "lines(hp.seq,car.log.pred[1:n], col = \"blue\")\n",
    "lines(hp.seq,car.log.pred[(n+1):(2*n)],col=\"red\")"
   ]
  },
  {
   "cell_type": "markdown",
   "metadata": {},
   "source": [
    "## 21.5 Interactive Terms"
   ]
  },
  {
   "cell_type": "markdown",
   "metadata": {},
   "source": [
    "### 21.5.2 One Categorical, One Continuous"
   ]
  },
  {
   "cell_type": "code",
   "execution_count": 86,
   "metadata": {},
   "outputs": [
    {
     "data": {
      "text/plain": [
       "\n",
       "Call:\n",
       "lm(formula = chol ~ age + frame + age:frame, data = diabetes)\n",
       "\n",
       "Residuals:\n",
       "    Min      1Q  Median      3Q     Max \n",
       "-131.90  -26.24   -5.33   22.17  226.11 \n",
       "\n",
       "Coefficients:\n",
       "                Estimate Std. Error t value Pr(>|t|)    \n",
       "(Intercept)     155.9636    12.0697  12.922  < 2e-16 ***\n",
       "age               0.9852     0.2687   3.667  0.00028 ***\n",
       "framemedium      28.6051    15.5503   1.840  0.06661 .  \n",
       "framelarge       44.9474    18.9842   2.368  0.01840 *  \n",
       "age:framemedium  -0.3514     0.3370  -1.043  0.29768    \n",
       "age:framelarge   -0.8511     0.3779  -2.252  0.02490 *  \n",
       "---\n",
       "Signif. codes:  0 '***' 0.001 '**' 0.01 '*' 0.05 '.' 0.1 ' ' 1\n",
       "\n",
       "Residual standard error: 42.34 on 384 degrees of freedom\n",
       "  (13 observations deleted due to missingness)\n",
       "Multiple R-squared:  0.07891,\tAdjusted R-squared:  0.06692 \n",
       "F-statistic:  6.58 on 5 and 384 DF,  p-value: 6.849e-06\n"
      ]
     },
     "metadata": {},
     "output_type": "display_data"
    }
   ],
   "source": [
    "library(faraway)\n",
    "dia.fit <- lm(chol~age+frame+age:frame,data=diabetes)\n",
    "summary(dia.fit)"
   ]
  },
  {
   "cell_type": "markdown",
   "metadata": {},
   "source": [
    "“Mean total cholesterol” = 155.9636 + 0.9852 × “age” + 28.6051 × “medium frame” + 44.9474 × “large frame” − 0.3514 × “age : medium frame” − 0.8511 × “age : large frame”"
   ]
  },
  {
   "cell_type": "code",
   "execution_count": 87,
   "metadata": {},
   "outputs": [
    {
     "data": {
      "text/html": [
       "<dl class=dl-horizontal>\n",
       "\t<dt>(Intercept)</dt>\n",
       "\t\t<dd>155.963586829452</dd>\n",
       "\t<dt>age</dt>\n",
       "\t\t<dd>0.985202799761968</dd>\n",
       "\t<dt>framemedium</dt>\n",
       "\t\t<dd>28.6051035460113</dd>\n",
       "\t<dt>framelarge</dt>\n",
       "\t\t<dd>44.9474104937818</dd>\n",
       "\t<dt>age:framemedium</dt>\n",
       "\t\t<dd>-0.351390555895763</dd>\n",
       "\t<dt>age:framelarge</dt>\n",
       "\t\t<dd>-0.851054852727806</dd>\n",
       "</dl>\n"
      ],
      "text/latex": [
       "\\begin{description*}\n",
       "\\item[(Intercept)] 155.963586829452\n",
       "\\item[age] 0.985202799761968\n",
       "\\item[framemedium] 28.6051035460113\n",
       "\\item[framelarge] 44.9474104937818\n",
       "\\item[age:framemedium] -0.351390555895763\n",
       "\\item[age:framelarge] -0.851054852727806\n",
       "\\end{description*}\n"
      ],
      "text/markdown": [
       "(Intercept)\n",
       ":   155.963586829452age\n",
       ":   0.985202799761968framemedium\n",
       ":   28.6051035460113framelarge\n",
       ":   44.9474104937818age:framemedium\n",
       ":   -0.351390555895763age:framelarge\n",
       ":   -0.851054852727806\n",
       "\n"
      ],
      "text/plain": [
       "    (Intercept)             age     framemedium      framelarge age:framemedium \n",
       "    155.9635868       0.9852028      28.6051035      44.9474105      -0.3513906 \n",
       " age:framelarge \n",
       "     -0.8510549 "
      ]
     },
     "metadata": {},
     "output_type": "display_data"
    }
   ],
   "source": [
    "dia.coef <- coef(dia.fit)\n",
    "dia.coef"
   ]
  },
  {
   "cell_type": "code",
   "execution_count": 88,
   "metadata": {},
   "outputs": [],
   "source": [
    "dia.small <- c(dia.coef[1],dia.coef[2])\n",
    "dia.medium <- c(dia.coef[1]+dia.coef[3],dia.coef[2]+dia.coef[5])\n",
    "dia.large <- c(dia.coef[1]+dia.coef[4],dia.coef[2]+dia.coef[6])"
   ]
  },
  {
   "cell_type": "code",
   "execution_count": 99,
   "metadata": {},
   "outputs": [
    {
     "data": {
      "image/png": "[encoded data removed]",
      "text/plain": [
       "plot without title"
      ]
     },
     "metadata": {},
     "output_type": "display_data"
    }
   ],
   "source": [
    "cols <- c(\"darkgreen\",\"blue\",\"red\")\n",
    "plot(diabetes$chol~diabetes$age,col=cols[diabetes$frame], cex= 1.0 ,xlab=\"age\",ylab=\"cholesterol\", pch = 18)\n",
    "\n",
    "abline(coef=dia.small,  lwd=2, col = \"darkgreen\")\n",
    "abline(coef=dia.medium, lwd=2, col=\"blue\")\n",
    "abline(coef=dia.large,  lwd=2, col=\"red\")\n",
    "\n",
    "legend(\"topright\",legend=c(\"small frame\",\"medium frame\",\"large frame\"), lty=1,lwd=2,col=cols)"
   ]
  },
  {
   "cell_type": "markdown",
   "metadata": {},
   "source": [
    "### 21.5.3 Two Categorical"
   ]
  },
  {
   "cell_type": "code",
   "execution_count": 101,
   "metadata": {},
   "outputs": [
    {
     "data": {
      "text/plain": [
       "\n",
       "Call:\n",
       "lm(formula = breaks ~ wool * tension, data = warpbreaks)\n",
       "\n",
       "Residuals:\n",
       "     Min       1Q   Median       3Q      Max \n",
       "-19.5556  -6.8889  -0.6667   7.1944  25.4444 \n",
       "\n",
       "Coefficients:\n",
       "               Estimate Std. Error t value Pr(>|t|)    \n",
       "(Intercept)      44.556      3.647  12.218 2.43e-16 ***\n",
       "woolB           -16.333      5.157  -3.167 0.002677 ** \n",
       "tensionM        -20.556      5.157  -3.986 0.000228 ***\n",
       "tensionH        -20.000      5.157  -3.878 0.000320 ***\n",
       "woolB:tensionM   21.111      7.294   2.895 0.005698 ** \n",
       "woolB:tensionH   10.556      7.294   1.447 0.154327    \n",
       "---\n",
       "Signif. codes:  0 '***' 0.001 '**' 0.01 '*' 0.05 '.' 0.1 ' ' 1\n",
       "\n",
       "Residual standard error: 10.94 on 48 degrees of freedom\n",
       "Multiple R-squared:  0.3778,\tAdjusted R-squared:  0.3129 \n",
       "F-statistic: 5.828 on 5 and 48 DF,  p-value: 0.0002772\n"
      ]
     },
     "metadata": {},
     "output_type": "display_data"
    }
   ],
   "source": [
    "warp.fit <- lm(breaks~wool*tension,data=warpbreaks)\n",
    "summary(warp.fit)"
   ]
  },
  {
   "cell_type": "code",
   "execution_count": 102,
   "metadata": {},
   "outputs": [
    {
     "data": {
      "text/html": [
       "<table>\n",
       "<thead><tr><th></th><th scope=col>fit</th><th scope=col>lwr</th><th scope=col>upr</th></tr></thead>\n",
       "<tbody>\n",
       "\t<tr><th scope=row>1</th><td>44.55556</td><td>38.43912</td><td>50.67199</td></tr>\n",
       "\t<tr><th scope=row>2</th><td>24.55556</td><td>18.43912</td><td>30.67199</td></tr>\n",
       "\t<tr><th scope=row>3</th><td>28.22222</td><td>22.10579</td><td>34.33866</td></tr>\n",
       "\t<tr><th scope=row>4</th><td>28.77778</td><td>22.66134</td><td>34.89421</td></tr>\n",
       "</tbody>\n",
       "</table>\n"
      ],
      "text/latex": [
       "\\begin{tabular}{r|lll}\n",
       "  & fit & lwr & upr\\\\\n",
       "\\hline\n",
       "\t1 & 44.55556 & 38.43912 & 50.67199\\\\\n",
       "\t2 & 24.55556 & 18.43912 & 30.67199\\\\\n",
       "\t3 & 28.22222 & 22.10579 & 34.33866\\\\\n",
       "\t4 & 28.77778 & 22.66134 & 34.89421\\\\\n",
       "\\end{tabular}\n"
      ],
      "text/markdown": [
       "\n",
       "| <!--/--> | fit | lwr | upr | \n",
       "|---|---|---|---|\n",
       "| 1 | 44.55556 | 38.43912 | 50.67199 | \n",
       "| 2 | 24.55556 | 18.43912 | 30.67199 | \n",
       "| 3 | 28.22222 | 22.10579 | 34.33866 | \n",
       "| 4 | 28.77778 | 22.66134 | 34.89421 | \n",
       "\n",
       "\n"
      ],
      "text/plain": [
       "  fit      lwr      upr     \n",
       "1 44.55556 38.43912 50.67199\n",
       "2 24.55556 18.43912 30.67199\n",
       "3 28.22222 22.10579 34.33866\n",
       "4 28.77778 22.66134 34.89421"
      ]
     },
     "metadata": {},
     "output_type": "display_data"
    }
   ],
   "source": [
    "nd <- data.frame(wool=c(\"A\",\"A\",\"B\",\"B\"),tension=c(\"L\",\"H\",\"L\",\"M\"))\n",
    "predict(warp.fit,newdata=nd,interval=\"confidence\",level=0.9)"
   ]
  },
  {
   "cell_type": "markdown",
   "metadata": {},
   "source": [
    "### 21.5.4 Two Continuous\n"
   ]
  },
  {
   "cell_type": "code",
   "execution_count": 103,
   "metadata": {},
   "outputs": [
    {
     "data": {
      "text/plain": [
       "\n",
       "Call:\n",
       "lm(formula = mpg ~ hp * wt, data = mtcars)\n",
       "\n",
       "Residuals:\n",
       "    Min      1Q  Median      3Q     Max \n",
       "-3.0632 -1.6491 -0.7362  1.4211  4.5513 \n",
       "\n",
       "Coefficients:\n",
       "            Estimate Std. Error t value Pr(>|t|)    \n",
       "(Intercept) 49.80842    3.60516  13.816 5.01e-14 ***\n",
       "hp          -0.12010    0.02470  -4.863 4.04e-05 ***\n",
       "wt          -8.21662    1.26971  -6.471 5.20e-07 ***\n",
       "hp:wt        0.02785    0.00742   3.753 0.000811 ***\n",
       "---\n",
       "Signif. codes:  0 '***' 0.001 '**' 0.01 '*' 0.05 '.' 0.1 ' ' 1\n",
       "\n",
       "Residual standard error: 2.153 on 28 degrees of freedom\n",
       "Multiple R-squared:  0.8848,\tAdjusted R-squared:  0.8724 \n",
       "F-statistic: 71.66 on 3 and 28 DF,  p-value: 2.981e-13\n"
      ]
     },
     "metadata": {},
     "output_type": "display_data"
    }
   ],
   "source": [
    "car.fit <- lm(mpg~hp*wt,data=mtcars)\n",
    "summary(car.fit)"
   ]
  },
  {
   "cell_type": "markdown",
   "metadata": {},
   "source": [
    "### 21.5.5 Higher-Order Interactions"
   ]
  },
  {
   "cell_type": "code",
   "execution_count": 106,
   "metadata": {},
   "outputs": [
    {
     "data": {
      "text/plain": [
       "\n",
       "Call:\n",
       "lm(formula = cost ~ cap + cum.n * ne * ct, data = nuclear)\n",
       "\n",
       "Residuals:\n",
       "     Min       1Q   Median       3Q      Max \n",
       "-162.475  -50.368   -8.833   43.370  213.131 \n",
       "\n",
       "Coefficients:\n",
       "             Estimate Std. Error t value Pr(>|t|)    \n",
       "(Intercept)  138.0336    99.9599   1.381 0.180585    \n",
       "cap            0.5085     0.1127   4.513 0.000157 ***\n",
       "cum.n        -24.2433     6.7874  -3.572 0.001618 ** \n",
       "ne          -260.1036   164.7650  -1.579 0.128076    \n",
       "ct          -187.4904    76.6316  -2.447 0.022480 *  \n",
       "cum.n:ne      44.0196    12.2880   3.582 0.001577 ** \n",
       "cum.n:ct      35.1687     8.0660   4.360 0.000229 ***\n",
       "ne:ct        524.1194   200.9567   2.608 0.015721 *  \n",
       "cum.n:ne:ct  -64.4444    18.0213  -3.576 0.001601 ** \n",
       "---\n",
       "Signif. codes:  0 '***' 0.001 '**' 0.01 '*' 0.05 '.' 0.1 ' ' 1\n",
       "\n",
       "Residual standard error: 107.3 on 23 degrees of freedom\n",
       "Multiple R-squared:  0.705,\tAdjusted R-squared:  0.6024 \n",
       "F-statistic: 6.872 on 8 and 23 DF,  p-value: 0.0001264\n"
      ]
     },
     "metadata": {},
     "output_type": "display_data"
    }
   ],
   "source": [
    "library(boot)\n",
    "nuc.fit <- lm(cost~cap+cum.n*ne*ct,data=nuclear)\n",
    "summary(nuc.fit)"
   ]
  },
  {
   "cell_type": "code",
   "execution_count": null,
   "metadata": {},
   "outputs": [],
   "source": []
  }
 ],
 "metadata": {
  "kernelspec": {
   "display_name": "R",
   "language": "R",
   "name": "ir"
  },
  "language_info": {
   "codemirror_mode": "r",
   "file_extension": ".r",
   "mimetype": "text/x-r-source",
   "name": "R",
   "pygments_lexer": "r",
   "version": "3.4.3"
  }
 },
 "nbformat": 4,
 "nbformat_minor": 2
}
