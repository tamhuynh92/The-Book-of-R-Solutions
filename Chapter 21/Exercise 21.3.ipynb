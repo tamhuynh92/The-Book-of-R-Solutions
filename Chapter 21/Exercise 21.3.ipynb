{
 "cells": [
  {
   "cell_type": "markdown",
   "metadata": {},
   "source": [
    "__Return your attention to the cats data frame in package MASS. In the\n",
    "first few problems in Exercise 21.1, you fitted the main-effect-only\n",
    "model to predict the heart weights of domestic cats by total body\n",
    "weight and sex.__ <br>\n",
    "__a.__ Fit the model again, and this time include an interaction\n",
    "between the two predictors. Inspect the model summary.\n",
    "What do you notice in terms of the parameter estimates and\n",
    "their significance when compared to the earlier main-effect-only\n",
    "version?"
   ]
  },
  {
   "cell_type": "code",
   "execution_count": 1,
   "metadata": {},
   "outputs": [
    {
     "data": {
      "text/html": [
       "<ol class=list-inline>\n",
       "\t<li>'Sex'</li>\n",
       "\t<li>'Bwt'</li>\n",
       "\t<li>'Hwt'</li>\n",
       "</ol>\n"
      ],
      "text/latex": [
       "\\begin{enumerate*}\n",
       "\\item 'Sex'\n",
       "\\item 'Bwt'\n",
       "\\item 'Hwt'\n",
       "\\end{enumerate*}\n"
      ],
      "text/markdown": [
       "1. 'Sex'\n",
       "2. 'Bwt'\n",
       "3. 'Hwt'\n",
       "\n",
       "\n"
      ],
      "text/plain": [
       "[1] \"Sex\" \"Bwt\" \"Hwt\""
      ]
     },
     "metadata": {},
     "output_type": "display_data"
    }
   ],
   "source": [
    "library(MASS)\n",
    "names(cats)"
   ]
  },
  {
   "cell_type": "code",
   "execution_count": 11,
   "metadata": {},
   "outputs": [
    {
     "data": {
      "text/plain": [
       "\n",
       "Call:\n",
       "lm(formula = Hwt ~ Bwt + Sex + Bwt:Sex, data = cats)\n",
       "\n",
       "Residuals:\n",
       "    Min      1Q  Median      3Q     Max \n",
       "-3.7728 -1.0118 -0.1196  0.9272  4.8646 \n",
       "\n",
       "Coefficients:\n",
       "            Estimate Std. Error t value Pr(>|t|)    \n",
       "(Intercept)   2.9813     1.8428   1.618 0.107960    \n",
       "Bwt           2.6364     0.7759   3.398 0.000885 ***\n",
       "SexM         -4.1654     2.0618  -2.020 0.045258 *  \n",
       "Bwt:SexM      1.6763     0.8373   2.002 0.047225 *  \n",
       "---\n",
       "Signif. codes:  0 '***' 0.001 '**' 0.01 '*' 0.05 '.' 0.1 ' ' 1\n",
       "\n",
       "Residual standard error: 1.442 on 140 degrees of freedom\n",
       "Multiple R-squared:  0.6566,\tAdjusted R-squared:  0.6493 \n",
       "F-statistic: 89.24 on 3 and 140 DF,  p-value: < 2.2e-16\n"
      ]
     },
     "metadata": {},
     "output_type": "display_data"
    }
   ],
   "source": [
    "cat.MLR = lm(Hwt ~ Bwt + Sex + Bwt:Sex, data = cats)\n",
    "summary(cat.MLR)"
   ]
  },
  {
   "cell_type": "markdown",
   "metadata": {},
   "source": [
    "__b.__ Produce a scatterplot of heart weight on body weight, using\n",
    "different point characters or colors to distinguish the observations according to sex. Use abline to add two lines denoting\n",
    "the fitted model. How does this plot differ from the one in\n",
    "Exercise 21.1 (d)"
   ]
  },
  {
   "cell_type": "code",
   "execution_count": 23,
   "metadata": {},
   "outputs": [
    {
     "data": {
      "image/png": "[encoded data removed]",
      "text/plain": [
       "plot without title"
      ]
     },
     "metadata": {},
     "output_type": "display_data"
    }
   ],
   "source": [
    "cat.coeff = coef(cat.MLR)\n",
    "\n",
    "cat.female = c(cat.coeff[1], cat.coeff[2])\n",
    "cat.male = c(cat.coeff[1] + cat.coeff[3], cat.coeff[2] + cat.coeff[4])\n",
    "\n",
    "\n",
    "plot(cats$Hwt ~ cats$Bwt, col = c(\"red\", \"blue\")[as.numeric(cats$Sex)], pch = 16, xlab = \"Body Weight\",  ylab = \"Heart Weight\")\n",
    "abline(cat.female, lwd = 2, col = \"red\")\n",
    "abline(cat.male, lwd = 2, col = \"blue\")\n",
    "\n",
    "legend(\"topleft\", legend = levels(cats$Sex), col =  c(\"red\", \"blue\"), pch = 16)\n"
   ]
  },
  {
   "cell_type": "markdown",
   "metadata": {},
   "source": [
    "__c.__ Predict the heart weight of Tilman’s cat using the new model\n",
    "(remember that Sigma is a 3.4 kg female) accompanied by a\n",
    "95 percent prediction interval. Compare it to the main-effectsonly model from the earlier exercise."
   ]
  },
  {
   "cell_type": "code",
   "execution_count": 25,
   "metadata": {},
   "outputs": [
    {
     "data": {
      "text/html": [
       "<table>\n",
       "<thead><tr><th></th><th scope=col>fit</th><th scope=col>lwr</th><th scope=col>upr</th></tr></thead>\n",
       "<tbody>\n",
       "\t<tr><th scope=row>1</th><td>11.94512</td><td>8.651786</td><td>15.23845</td></tr>\n",
       "</tbody>\n",
       "</table>\n"
      ],
      "text/latex": [
       "\\begin{tabular}{r|lll}\n",
       "  & fit & lwr & upr\\\\\n",
       "\\hline\n",
       "\t1 & 11.94512 & 8.651786 & 15.23845\\\\\n",
       "\\end{tabular}\n"
      ],
      "text/markdown": [
       "\n",
       "| <!--/--> | fit | lwr | upr | \n",
       "|---|\n",
       "| 1 | 11.94512 | 8.651786 | 15.23845 | \n",
       "\n",
       "\n"
      ],
      "text/plain": [
       "  fit      lwr      upr     \n",
       "1 11.94512 8.651786 15.23845"
      ]
     },
     "metadata": {},
     "output_type": "display_data"
    }
   ],
   "source": [
    "predict(cat.MLR, newdata = data.frame(Bwt = 3.4, Sex = \"F\"), data = cats, interval = \"prediction\", level = 0.95)\n"
   ]
  },
  {
   "cell_type": "markdown",
   "metadata": {},
   "source": [
    "__In Exercise 21.2, you accessed the trees data frame in the contributed\n",
    "faraway package. After loading the package, access the ?trees help\n",
    "file; you’ll find the volume and girth measurements you used earlier,\n",
    "as well as data on the height of each tree.__ <br>\n",
    "__d.__ Without using any transformations of the data, fit and inspect a\n",
    "main-effects-only model for predicting volume from girth and\n",
    "height. Then, fit and inspect a second version of this model\n",
    "including an interaction."
   ]
  },
  {
   "cell_type": "code",
   "execution_count": 33,
   "metadata": {},
   "outputs": [
    {
     "data": {
      "text/plain": [
       "\n",
       "Call:\n",
       "lm(formula = Volume ~ Girth + Height, data = trees)\n",
       "\n",
       "Residuals:\n",
       "    Min      1Q  Median      3Q     Max \n",
       "-6.4065 -2.6493 -0.2876  2.2003  8.4847 \n",
       "\n",
       "Coefficients:\n",
       "            Estimate Std. Error t value Pr(>|t|)    \n",
       "(Intercept) -57.9877     8.6382  -6.713 2.75e-07 ***\n",
       "Girth         4.7082     0.2643  17.816  < 2e-16 ***\n",
       "Height        0.3393     0.1302   2.607   0.0145 *  \n",
       "---\n",
       "Signif. codes:  0 '***' 0.001 '**' 0.01 '*' 0.05 '.' 0.1 ' ' 1\n",
       "\n",
       "Residual standard error: 3.882 on 28 degrees of freedom\n",
       "Multiple R-squared:  0.948,\tAdjusted R-squared:  0.9442 \n",
       "F-statistic:   255 on 2 and 28 DF,  p-value: < 2.2e-16\n"
      ]
     },
     "metadata": {},
     "output_type": "display_data"
    }
   ],
   "source": [
    "trees.MLR = lm(Volume ~ Girth + Height, data = trees)\n",
    "summary(trees.MLR)"
   ]
  },
  {
   "cell_type": "code",
   "execution_count": 30,
   "metadata": {},
   "outputs": [
    {
     "data": {
      "text/html": [
       "<table>\n",
       "<thead><tr><th scope=col>Girth</th><th scope=col>Height</th><th scope=col>Volume</th></tr></thead>\n",
       "<tbody>\n",
       "\t<tr><td> 8.3</td><td>70  </td><td>10.3</td></tr>\n",
       "\t<tr><td> 8.6</td><td>65  </td><td>10.3</td></tr>\n",
       "\t<tr><td> 8.8</td><td>63  </td><td>10.2</td></tr>\n",
       "\t<tr><td>10.5</td><td>72  </td><td>16.4</td></tr>\n",
       "\t<tr><td>10.7</td><td>81  </td><td>18.8</td></tr>\n",
       "\t<tr><td>10.8</td><td>83  </td><td>19.7</td></tr>\n",
       "</tbody>\n",
       "</table>\n"
      ],
      "text/latex": [
       "\\begin{tabular}{r|lll}\n",
       " Girth & Height & Volume\\\\\n",
       "\\hline\n",
       "\t  8.3 & 70   & 10.3\\\\\n",
       "\t  8.6 & 65   & 10.3\\\\\n",
       "\t  8.8 & 63   & 10.2\\\\\n",
       "\t 10.5 & 72   & 16.4\\\\\n",
       "\t 10.7 & 81   & 18.8\\\\\n",
       "\t 10.8 & 83   & 19.7\\\\\n",
       "\\end{tabular}\n"
      ],
      "text/markdown": [
       "\n",
       "Girth | Height | Volume | \n",
       "|---|---|---|---|---|---|\n",
       "|  8.3 | 70   | 10.3 | \n",
       "|  8.6 | 65   | 10.3 | \n",
       "|  8.8 | 63   | 10.2 | \n",
       "| 10.5 | 72   | 16.4 | \n",
       "| 10.7 | 81   | 18.8 | \n",
       "| 10.8 | 83   | 19.7 | \n",
       "\n",
       "\n"
      ],
      "text/plain": [
       "  Girth Height Volume\n",
       "1  8.3  70     10.3  \n",
       "2  8.6  65     10.3  \n",
       "3  8.8  63     10.2  \n",
       "4 10.5  72     16.4  \n",
       "5 10.7  81     18.8  \n",
       "6 10.8  83     19.7  "
      ]
     },
     "metadata": {},
     "output_type": "display_data"
    }
   ],
   "source": [
    "head(trees)"
   ]
  },
  {
   "cell_type": "code",
   "execution_count": 34,
   "metadata": {},
   "outputs": [
    {
     "data": {
      "text/plain": [
       "\n",
       "Call:\n",
       "lm(formula = Volume ~ Girth * Height, data = trees)\n",
       "\n",
       "Residuals:\n",
       "    Min      1Q  Median      3Q     Max \n",
       "-6.5821 -1.0673  0.3026  1.5641  4.6649 \n",
       "\n",
       "Coefficients:\n",
       "             Estimate Std. Error t value Pr(>|t|)    \n",
       "(Intercept)  69.39632   23.83575   2.911  0.00713 ** \n",
       "Girth        -5.85585    1.92134  -3.048  0.00511 ** \n",
       "Height       -1.29708    0.30984  -4.186  0.00027 ***\n",
       "Girth:Height  0.13465    0.02438   5.524 7.48e-06 ***\n",
       "---\n",
       "Signif. codes:  0 '***' 0.001 '**' 0.01 '*' 0.05 '.' 0.1 ' ' 1\n",
       "\n",
       "Residual standard error: 2.709 on 27 degrees of freedom\n",
       "Multiple R-squared:  0.9756,\tAdjusted R-squared:  0.9728 \n",
       "F-statistic: 359.3 on 3 and 27 DF,  p-value: < 2.2e-16\n"
      ]
     },
     "metadata": {},
     "output_type": "display_data"
    }
   ],
   "source": [
    "trees.MLR2 = lm(Volume ~ Girth * Height, data = trees)\n",
    "summary(trees.MLR2)"
   ]
  },
  {
   "cell_type": "markdown",
   "metadata": {},
   "source": [
    "__e.__ Repeat (d), but this time use the log transformation of all variables. What do you notice about the significance of the interaction between the untransformed and transformed models? What\n",
    "does this suggest about the relationships in the data?"
   ]
  },
  {
   "cell_type": "code",
   "execution_count": 35,
   "metadata": {},
   "outputs": [
    {
     "data": {
      "text/plain": [
       "\n",
       "Call:\n",
       "lm(formula = log(Volume) ~ log(Girth) + log(Height), data = trees)\n",
       "\n",
       "Residuals:\n",
       "      Min        1Q    Median        3Q       Max \n",
       "-0.168561 -0.048488  0.002431  0.063637  0.129223 \n",
       "\n",
       "Coefficients:\n",
       "            Estimate Std. Error t value Pr(>|t|)    \n",
       "(Intercept) -6.63162    0.79979  -8.292 5.06e-09 ***\n",
       "log(Girth)   1.98265    0.07501  26.432  < 2e-16 ***\n",
       "log(Height)  1.11712    0.20444   5.464 7.81e-06 ***\n",
       "---\n",
       "Signif. codes:  0 '***' 0.001 '**' 0.01 '*' 0.05 '.' 0.1 ' ' 1\n",
       "\n",
       "Residual standard error: 0.08139 on 28 degrees of freedom\n",
       "Multiple R-squared:  0.9777,\tAdjusted R-squared:  0.9761 \n",
       "F-statistic: 613.2 on 2 and 28 DF,  p-value: < 2.2e-16\n"
      ]
     },
     "metadata": {},
     "output_type": "display_data"
    }
   ],
   "source": [
    "trees.MLR.log = lm(log(Volume) ~ log(Girth) + log(Height), data = trees)\n",
    "summary(trees.MLR.log)"
   ]
  },
  {
   "cell_type": "code",
   "execution_count": 36,
   "metadata": {},
   "outputs": [
    {
     "data": {
      "text/plain": [
       "\n",
       "Call:\n",
       "lm(formula = log(Volume) ~ log(Girth) * log(Height), data = trees)\n",
       "\n",
       "Residuals:\n",
       "      Min        1Q    Median        3Q       Max \n",
       "-0.165941 -0.048613  0.006384  0.062204  0.132295 \n",
       "\n",
       "Coefficients:\n",
       "                       Estimate Std. Error t value Pr(>|t|)\n",
       "(Intercept)             -3.6869     7.6996  -0.479    0.636\n",
       "log(Girth)               0.7942     3.0910   0.257    0.799\n",
       "log(Height)              0.4377     1.7788   0.246    0.808\n",
       "log(Girth):log(Height)   0.2740     0.7124   0.385    0.704\n",
       "\n",
       "Residual standard error: 0.08265 on 27 degrees of freedom\n",
       "Multiple R-squared:  0.9778,\tAdjusted R-squared:  0.9753 \n",
       "F-statistic: 396.4 on 3 and 27 DF,  p-value: < 2.2e-16\n"
      ]
     },
     "metadata": {},
     "output_type": "display_data"
    }
   ],
   "source": [
    "trees.MLR.log2 = lm(log(Volume) ~ log(Girth) * log(Height), data = trees)\n",
    "summary(trees.MLR.log2)"
   ]
  },
  {
   "cell_type": "code",
   "execution_count": null,
   "metadata": {},
   "outputs": [],
   "source": []
  }
 ],
 "metadata": {
  "kernelspec": {
   "display_name": "R",
   "language": "R",
   "name": "ir"
  },
  "language_info": {
   "codemirror_mode": "r",
   "file_extension": ".r",
   "mimetype": "text/x-r-source",
   "name": "R",
   "pygments_lexer": "r",
   "version": "3.4.3"
  }
 },
 "nbformat": 4,
 "nbformat_minor": 2
}
