{
 "cells": [
  {
   "cell_type": "markdown",
   "metadata": {},
   "source": [
    "In the MASS package, you’ll find the data frame cats, which provides\n",
    "data on sex, body weight (in kilograms), and heart weight (in grams)\n",
    "for 144 household cats (see Venables and Ripley, 2002, for further\n",
    "details); you can read the documentation with a call to ?cats. Load\n",
    "the MASS package with a call to library(\"MASS\"), and access the object\n",
    "directly by entering cats at the console prompt"
   ]
  },
  {
   "cell_type": "markdown",
   "metadata": {},
   "source": [
    "__a.__ Plot heart weight on the vertical axis and body weight on the\n",
    "horizontal axis, using different colors or point characters to\n",
    "distinguish between male and female cats. Annotate your plot\n",
    "with a legend and appropriate axis labels."
   ]
  },
  {
   "cell_type": "code",
   "execution_count": 6,
   "metadata": {},
   "outputs": [
    {
     "data": {
      "image/png": "[encoded data removed]",
      "text/plain": [
       "plot without title"
      ]
     },
     "metadata": {},
     "output_type": "display_data"
    }
   ],
   "source": [
    "library(MASS)\n",
    "plot(cats$Hwt ~ cats$Bwt, col = c(\"red\", \"blue\")[as.numeric(cats$Sex)], pch = 16, xlab = \"Body Weight\", \n",
    "                            ylab = \"Heart Weight\")\n",
    "legend(\"topleft\", legend = levels(cats$Sex), col =  c(\"red\", \"blue\"), pch = 16)\n"
   ]
  },
  {
   "cell_type": "markdown",
   "metadata": {},
   "source": [
    "__b.__ Fit a least-squares multiple linear regression model using heart\n",
    "weight as the response variable and the other two variables as\n",
    "predictors, and view a model summary. <br>\n",
    "i. Write down the equation for the fitted model and interpret\n",
    "the estimated regression coefficients for body weight and\n",
    "sex. Are both statistically significant? What does this say\n",
    "about the relationship between the response and predictors? <br>\n",
    "ii. Report and interpret the coefficient of determination and\n",
    "the outcome of the omnibus F -test."
   ]
  },
  {
   "cell_type": "code",
   "execution_count": 24,
   "metadata": {},
   "outputs": [
    {
     "data": {
      "text/plain": [
       "\n",
       "Call:\n",
       "lm(formula = Hwt ~ Bwt + Sex, data = cats)\n",
       "\n",
       "Residuals:\n",
       "    Min      1Q  Median      3Q     Max \n",
       "-3.5833 -0.9700 -0.0948  1.0432  5.1016 \n",
       "\n",
       "Coefficients:\n",
       "            Estimate Std. Error t value Pr(>|t|)    \n",
       "(Intercept)  -0.4149     0.7273  -0.571    0.569    \n",
       "Bwt           4.0758     0.2948  13.826   <2e-16 ***\n",
       "SexM         -0.0821     0.3040  -0.270    0.788    \n",
       "---\n",
       "Signif. codes:  0 '***' 0.001 '**' 0.01 '*' 0.05 '.' 0.1 ' ' 1\n",
       "\n",
       "Residual standard error: 1.457 on 141 degrees of freedom\n",
       "Multiple R-squared:  0.6468,\tAdjusted R-squared:  0.6418 \n",
       "F-statistic: 129.1 on 2 and 141 DF,  p-value: < 2.2e-16\n"
      ]
     },
     "metadata": {},
     "output_type": "display_data"
    },
    {
     "name": "stdout",
     "output_type": "stream",
     "text": [
      "(Intercept)         Bwt        SexM \n",
      "-0.41495263  4.07576892 -0.08209684 \n"
     ]
    }
   ],
   "source": [
    "fit = lm(Hwt ~ Bwt + Sex, data = cats)\n",
    "summary(fit)\n",
    "print(coef(fit))"
   ]
  },
  {
   "cell_type": "markdown",
   "metadata": {},
   "source": [
    "__Equation: \"Heart Weight\" = -0.4149 + 4.0758 \\* Bwt - 0.0821 \\* Sex __\n",
    "\n",
    "If Female, sex = 0. \n",
    "If Male, sex = 1"
   ]
  },
  {
   "cell_type": "code",
   "execution_count": 28,
   "metadata": {},
   "outputs": [
    {
     "data": {
      "text/html": [
       "129.105625339686"
      ],
      "text/latex": [
       "129.105625339686"
      ],
      "text/markdown": [
       "129.105625339686"
      ],
      "text/plain": [
       "[1] 129.1056"
      ]
     },
     "metadata": {},
     "output_type": "display_data"
    }
   ],
   "source": [
    "R2 = summary(fit)$r.squared\n",
    "n = nrow(cats)\n",
    "p = length(coef(fit))-1\n",
    "Fstat = (R2*(n-p-1))/((1-R2)*p)\n",
    "Fstat"
   ]
  },
  {
   "cell_type": "code",
   "execution_count": 31,
   "metadata": {},
   "outputs": [
    {
     "data": {
      "text/html": [
       "0"
      ],
      "text/latex": [
       "0"
      ],
      "text/markdown": [
       "0"
      ],
      "text/plain": [
       "[1] 0"
      ]
     },
     "metadata": {},
     "output_type": "display_data"
    }
   ],
   "source": [
    "1-pf(Fstat,df1=p,df2=n-p-1)"
   ]
  },
  {
   "cell_type": "markdown",
   "metadata": {},
   "source": [
    "You can see that the omnibus F-test for this example gives a p-value\n",
    "that’s so small, it’s effectively zero. These calculations match the relevant\n",
    "results reported in the output of summary(fit) completely"
   ]
  },
  {
   "cell_type": "markdown",
   "metadata": {},
   "source": [
    "__c.__ <br> Tilman’s cat, Sigma, is a 3.4 kg female. Use your model to estimate her mean heart weight and provide a 95 percent prediction\n",
    "interval."
   ]
  },
  {
   "cell_type": "code",
   "execution_count": 48,
   "metadata": {},
   "outputs": [
    {
     "data": {
      "text/html": [
       "<table>\n",
       "<thead><tr><th></th><th scope=col>fit</th><th scope=col>lwr</th><th scope=col>upr</th></tr></thead>\n",
       "<tbody>\n",
       "\t<tr><th scope=row>1</th><td>13.44266</td><td>10.46904</td><td>16.41628</td></tr>\n",
       "</tbody>\n",
       "</table>\n"
      ],
      "text/latex": [
       "\\begin{tabular}{r|lll}\n",
       "  & fit & lwr & upr\\\\\n",
       "\\hline\n",
       "\t1 & 13.44266 & 10.46904 & 16.41628\\\\\n",
       "\\end{tabular}\n"
      ],
      "text/markdown": [
       "\n",
       "| <!--/--> | fit | lwr | upr | \n",
       "|---|\n",
       "| 1 | 13.44266 | 10.46904 | 16.41628 | \n",
       "\n",
       "\n"
      ],
      "text/plain": [
       "  fit      lwr      upr     \n",
       "1 13.44266 10.46904 16.41628"
      ]
     },
     "metadata": {},
     "output_type": "display_data"
    },
    {
     "data": {
      "text/html": [
       "<table>\n",
       "<thead><tr><th></th><th scope=col>Bwt</th><th scope=col>Hwt</th><th scope=col>Sex</th></tr></thead>\n",
       "<tbody>\n",
       "\t<tr><th scope=row>126</th><td>3.4 </td><td>11.2</td><td>M   </td></tr>\n",
       "\t<tr><th scope=row>127</th><td>3.4 </td><td>12.2</td><td>M   </td></tr>\n",
       "\t<tr><th scope=row>128</th><td>3.4 </td><td>12.4</td><td>M   </td></tr>\n",
       "\t<tr><th scope=row>129</th><td>3.4 </td><td>12.8</td><td>M   </td></tr>\n",
       "\t<tr><th scope=row>130</th><td>3.4 </td><td>14.4</td><td>M   </td></tr>\n",
       "</tbody>\n",
       "</table>\n"
      ],
      "text/latex": [
       "\\begin{tabular}{r|lll}\n",
       "  & Bwt & Hwt & Sex\\\\\n",
       "\\hline\n",
       "\t126 & 3.4  & 11.2 & M   \\\\\n",
       "\t127 & 3.4  & 12.2 & M   \\\\\n",
       "\t128 & 3.4  & 12.4 & M   \\\\\n",
       "\t129 & 3.4  & 12.8 & M   \\\\\n",
       "\t130 & 3.4  & 14.4 & M   \\\\\n",
       "\\end{tabular}\n"
      ],
      "text/markdown": [
       "\n",
       "| <!--/--> | Bwt | Hwt | Sex | \n",
       "|---|---|---|---|---|\n",
       "| 126 | 3.4  | 11.2 | M    | \n",
       "| 127 | 3.4  | 12.2 | M    | \n",
       "| 128 | 3.4  | 12.4 | M    | \n",
       "| 129 | 3.4  | 12.8 | M    | \n",
       "| 130 | 3.4  | 14.4 | M    | \n",
       "\n",
       "\n"
      ],
      "text/plain": [
       "    Bwt Hwt  Sex\n",
       "126 3.4 11.2 M  \n",
       "127 3.4 12.2 M  \n",
       "128 3.4 12.4 M  \n",
       "129 3.4 12.8 M  \n",
       "130 3.4 14.4 M  "
      ]
     },
     "metadata": {},
     "output_type": "display_data"
    }
   ],
   "source": [
    "predict(fit, newdata = data.frame(Bwt = 3.4, Sex = \"F\"), data = cats, interval = \"prediction\", level = 0.95)\n",
    "cats[cats$Bwt == 3.4, c(\"Bwt\", \"Hwt\", \"Sex\")]"
   ]
  },
  {
   "cell_type": "markdown",
   "metadata": {},
   "source": [
    "__d.__\n",
    "Use predict to superimpose continuous lines based on the fitted\n",
    "linear model on your plot from (a), one for male cats and one\n",
    "for female. What do you notice? Does this reflect the statistical\n",
    "significance (or lack thereof) of the parameter estimates?"
   ]
  },
  {
   "cell_type": "code",
   "execution_count": 98,
   "metadata": {},
   "outputs": [
    {
     "data": {
      "text/html": [
       "<dl class=dl-horizontal>\n",
       "\t<dt>(Intercept)</dt>\n",
       "\t\t<dd>-0.414952628095717</dd>\n",
       "\t<dt>Bwt</dt>\n",
       "\t\t<dd>4.0757689226375</dd>\n",
       "\t<dt>SexM</dt>\n",
       "\t\t<dd>-0.0820968351818987</dd>\n",
       "</dl>\n"
      ],
      "text/latex": [
       "\\begin{description*}\n",
       "\\item[(Intercept)] -0.414952628095717\n",
       "\\item[Bwt] 4.0757689226375\n",
       "\\item[SexM] -0.0820968351818987\n",
       "\\end{description*}\n"
      ],
      "text/markdown": [
       "(Intercept)\n",
       ":   -0.414952628095717Bwt\n",
       ":   4.0757689226375SexM\n",
       ":   -0.0820968351818987\n",
       "\n"
      ],
      "text/plain": [
       "(Intercept)         Bwt        SexM \n",
       "-0.41495263  4.07576892 -0.08209684 "
      ]
     },
     "metadata": {},
     "output_type": "display_data"
    },
    {
     "data": {
      "image/png": "[encoded data removed]",
      "text/plain": [
       "plot without title"
      ]
     },
     "metadata": {},
     "output_type": "display_data"
    }
   ],
   "source": [
    "fit.coefs =  coef(fit)\n",
    "fit.coefs\n",
    "\n",
    "plot(cats$Hwt ~ cats$Bwt, col = c(\"red\", \"blue\")[as.numeric(cats$Sex)], pch = 16, xlab = \"Body Weight\",  ylab = \"Heart Weight\")\n",
    "\n",
    "abline(a=fit.coefs[1],b=fit.coefs[2],col=\"red\",lwd=2)\n",
    "abline(a=fit.coefs[1]+fit.coefs[3],b=fit.coefs[2],col=\"blue\",lwd=2)\n",
    "\n",
    "#Construct PI interval for Female Cat\n",
    "xval = data.frame(Bwt = seq(2,4, length = 200), Sex = rep(\"F\", 200))\n",
    "pi.band = predict(fit, xval, interval = \"predict\", confidence = 0.95 )\n",
    "lines(xval[,1], pi.band[,2], lty = 2, col = \"red\", lwd = 2)\n",
    "lines(xval[,1], pi.band[,3], lty = 2, col = \"red\", lwd = 2)\n",
    "\n",
    "#Construct PI interval for Male Cat\n",
    "xval = data.frame(Bwt = seq(2,4, length = 200), Sex = rep(\"M\", 200))\n",
    "pi.band = predict(fit, xval, interval = \"predict\", confidence = 0.95 )\n",
    "lines(xval[,1], pi.band[,2], lty = 2, col = \"blue\", lwd = 2)\n",
    "lines(xval[,1], pi.band[,3], lty = 2, col = \"blue\", lwd = 2)\n",
    "\n",
    "legend(\"topleft\", legend = levels(cats$Sex), col =  c(\"red\", \"blue\"), pch = 16)\n",
    "legend(\"top\", legend = c(\"95% PI Female\", \"95% PI Male\"), col =  c(\"red\", \"blue\"),  lwd = 2, lty = c(2,3))\n"
   ]
  },
  {
   "cell_type": "markdown",
   "metadata": {},
   "source": [
    "__The boot package (Davison and Hinkley, 1997; Canty and Ripley,\n",
    "2015) is another library of R code that’s included with the standard\n",
    "installation but isn’t automatically loaded. Load boot with a call to\n",
    "library(\"boot\"). You’ll find a data frame called nuclear, which contains\n",
    "data on the construction of nuclear power plants in the United States\n",
    "in the late 1960s (Cox and Snell, 1981)__\n"
   ]
  },
  {
   "cell_type": "markdown",
   "metadata": {},
   "source": [
    "__e.__ Access the documentation by entering ?nuclear at the prompt\n",
    "and examine the details of the variables. (Note there is a mistake\n",
    "for date, which provides the date that the construction permits\n",
    "were issued—it should read “measured in years since January\n",
    "1 1900 to the nearest month.”) Use pairs to produce a quick\n",
    "scatterplot matrix of the data."
   ]
  },
  {
   "cell_type": "code",
   "execution_count": 102,
   "metadata": {},
   "outputs": [
    {
     "data": {
      "text/html": [
       "<table>\n",
       "<thead><tr><th scope=col>cost</th><th scope=col>date</th><th scope=col>t1</th><th scope=col>t2</th><th scope=col>cap</th><th scope=col>pr</th><th scope=col>ne</th><th scope=col>ct</th><th scope=col>bw</th><th scope=col>cum.n</th><th scope=col>pt</th></tr></thead>\n",
       "<tbody>\n",
       "\t<tr><td>460.05</td><td>68.58 </td><td>14    </td><td>46    </td><td> 687  </td><td>0     </td><td>1     </td><td>0     </td><td>0     </td><td>14    </td><td>0     </td></tr>\n",
       "\t<tr><td>452.99</td><td>67.33 </td><td>10    </td><td>73    </td><td>1065  </td><td>0     </td><td>0     </td><td>1     </td><td>0     </td><td> 1    </td><td>0     </td></tr>\n",
       "\t<tr><td>443.22</td><td>67.33 </td><td>10    </td><td>85    </td><td>1065  </td><td>1     </td><td>0     </td><td>1     </td><td>0     </td><td> 1    </td><td>0     </td></tr>\n",
       "\t<tr><td>652.32</td><td>68.00 </td><td>11    </td><td>67    </td><td>1065  </td><td>0     </td><td>1     </td><td>1     </td><td>0     </td><td>12    </td><td>0     </td></tr>\n",
       "\t<tr><td>642.23</td><td>68.00 </td><td>11    </td><td>78    </td><td>1065  </td><td>1     </td><td>1     </td><td>1     </td><td>0     </td><td>12    </td><td>0     </td></tr>\n",
       "\t<tr><td>345.39</td><td>67.92 </td><td>13    </td><td>51    </td><td> 514  </td><td>0     </td><td>1     </td><td>1     </td><td>0     </td><td> 3    </td><td>0     </td></tr>\n",
       "</tbody>\n",
       "</table>\n"
      ],
      "text/latex": [
       "\\begin{tabular}{r|lllllllllll}\n",
       " cost & date & t1 & t2 & cap & pr & ne & ct & bw & cum.n & pt\\\\\n",
       "\\hline\n",
       "\t 460.05 & 68.58  & 14     & 46     &  687   & 0      & 1      & 0      & 0      & 14     & 0     \\\\\n",
       "\t 452.99 & 67.33  & 10     & 73     & 1065   & 0      & 0      & 1      & 0      &  1     & 0     \\\\\n",
       "\t 443.22 & 67.33  & 10     & 85     & 1065   & 1      & 0      & 1      & 0      &  1     & 0     \\\\\n",
       "\t 652.32 & 68.00  & 11     & 67     & 1065   & 0      & 1      & 1      & 0      & 12     & 0     \\\\\n",
       "\t 642.23 & 68.00  & 11     & 78     & 1065   & 1      & 1      & 1      & 0      & 12     & 0     \\\\\n",
       "\t 345.39 & 67.92  & 13     & 51     &  514   & 0      & 1      & 1      & 0      &  3     & 0     \\\\\n",
       "\\end{tabular}\n"
      ],
      "text/markdown": [
       "\n",
       "cost | date | t1 | t2 | cap | pr | ne | ct | bw | cum.n | pt | \n",
       "|---|---|---|---|---|---|\n",
       "| 460.05 | 68.58  | 14     | 46     |  687   | 0      | 1      | 0      | 0      | 14     | 0      | \n",
       "| 452.99 | 67.33  | 10     | 73     | 1065   | 0      | 0      | 1      | 0      |  1     | 0      | \n",
       "| 443.22 | 67.33  | 10     | 85     | 1065   | 1      | 0      | 1      | 0      |  1     | 0      | \n",
       "| 652.32 | 68.00  | 11     | 67     | 1065   | 0      | 1      | 1      | 0      | 12     | 0      | \n",
       "| 642.23 | 68.00  | 11     | 78     | 1065   | 1      | 1      | 1      | 0      | 12     | 0      | \n",
       "| 345.39 | 67.92  | 13     | 51     |  514   | 0      | 1      | 1      | 0      |  3     | 0      | \n",
       "\n",
       "\n"
      ],
      "text/plain": [
       "  cost   date  t1 t2 cap  pr ne ct bw cum.n pt\n",
       "1 460.05 68.58 14 46  687 0  1  0  0  14    0 \n",
       "2 452.99 67.33 10 73 1065 0  0  1  0   1    0 \n",
       "3 443.22 67.33 10 85 1065 1  0  1  0   1    0 \n",
       "4 652.32 68.00 11 67 1065 0  1  1  0  12    0 \n",
       "5 642.23 68.00 11 78 1065 1  1  1  0  12    0 \n",
       "6 345.39 67.92 13 51  514 0  1  1  0   3    0 "
      ]
     },
     "metadata": {},
     "output_type": "display_data"
    }
   ],
   "source": [
    "library(\"boot\")\n",
    "head(nuclear)"
   ]
  },
  {
   "cell_type": "code",
   "execution_count": 103,
   "metadata": {},
   "outputs": [
    {
     "data": {
      "image/png": "[encoded data removed]",
      "text/plain": [
       "plot without title"
      ]
     },
     "metadata": {},
     "output_type": "display_data"
    }
   ],
   "source": [
    "pairs(nuclear)"
   ]
  },
  {
   "cell_type": "markdown",
   "metadata": {},
   "source": [
    "__f.__ One of the original objectives was to predict the cost of further\n",
    "construction of these power plants. Create a fit and summary of\n",
    "a linear regression model that aims to model cost by t1 and t2,\n",
    "two variables that describe different elapsed times associated with\n",
    "the application for and issue of various permits. Take note of the\n",
    "estimated regression coefficients and their significance in the\n",
    "fitted model"
   ]
  },
  {
   "cell_type": "code",
   "execution_count": 106,
   "metadata": {},
   "outputs": [
    {
     "data": {
      "text/plain": [
       "\n",
       "Call:\n",
       "lm(formula = cost ~ t1 + t2, data = nuclear)\n",
       "\n",
       "Residuals:\n",
       "    Min      1Q  Median      3Q     Max \n",
       "-273.17  -73.42  -13.40   69.31  360.61 \n",
       "\n",
       "Coefficients:\n",
       "            Estimate Std. Error t value Pr(>|t|)   \n",
       "(Intercept) -242.146    268.020  -0.903  0.37373   \n",
       "t1            29.908      9.086   3.292  0.00262 **\n",
       "t2             4.689      2.945   1.592  0.12224   \n",
       "---\n",
       "Signif. codes:  0 '***' 0.001 '**' 0.01 '*' 0.05 '.' 0.1 ' ' 1\n",
       "\n",
       "Residual standard error: 150.1 on 29 degrees of freedom\n",
       "Multiple R-squared:  0.272,\tAdjusted R-squared:  0.2218 \n",
       "F-statistic: 5.418 on 2 and 29 DF,  p-value: 0.01001\n"
      ]
     },
     "metadata": {},
     "output_type": "display_data"
    },
    {
     "name": "stdout",
     "output_type": "stream",
     "text": [
      "(Intercept)          t1          t2 \n",
      "-242.145862   29.908040    4.688908 \n"
     ]
    }
   ],
   "source": [
    "fit = lm(cost ~ t1 + t2, data = nuclear)\n",
    "summary(fit)\n",
    "print(coef(fit))"
   ]
  },
  {
   "cell_type": "markdown",
   "metadata": {},
   "source": [
    "__g.__ Refit the model, but this time also include an effect for the date\n",
    "the construction permit was issued. Contrast the output for this\n",
    "new model against the previous one. What do you notice, and\n",
    "what does this information suggest about the relationships in the\n",
    "data with respect to these predictors?"
   ]
  },
  {
   "cell_type": "code",
   "execution_count": 114,
   "metadata": {},
   "outputs": [
    {
     "data": {
      "text/plain": [
       "\n",
       "Call:\n",
       "lm(formula = cost ~ t1 + t2 + date, data = nuclear)\n",
       "\n",
       "Residuals:\n",
       "    Min      1Q  Median      3Q     Max \n",
       "-208.63  -90.74  -12.07   59.78  324.19 \n",
       "\n",
       "Coefficients:\n",
       "             Estimate Std. Error t value Pr(>|t|)   \n",
       "(Intercept) -9232.833   2974.432  -3.104  0.00434 **\n",
       "t1             -5.918     14.281  -0.414  0.68176   \n",
       "t2              4.639      2.601   1.784  0.08535 . \n",
       "date          138.324     45.617   3.032  0.00519 **\n",
       "---\n",
       "Signif. codes:  0 '***' 0.001 '**' 0.01 '*' 0.05 '.' 0.1 ' ' 1\n",
       "\n",
       "Residual standard error: 132.5 on 28 degrees of freedom\n",
       "Multiple R-squared:  0.452,\tAdjusted R-squared:  0.3933 \n",
       "F-statistic: 7.698 on 3 and 28 DF,  p-value: 0.000667\n"
      ]
     },
     "metadata": {},
     "output_type": "display_data"
    },
    {
     "name": "stdout",
     "output_type": "stream",
     "text": [
      " (Intercept)           t1           t2         date \n",
      "-9232.832721    -5.917655     4.638558   138.323969 \n"
     ]
    }
   ],
   "source": [
    "fit2 = lm(cost ~ t1 + t2 + date, data = nuclear)\n",
    "summary(fit2)\n",
    "print(coef(fit2))"
   ]
  },
  {
   "cell_type": "markdown",
   "metadata": {},
   "source": [
    "__h.__ Fit a third model for power plant cost, using the predictors for\n",
    "“date of permit issue,” “power plant capacity,” and the binary\n",
    "variable describing whether the plant was sited in the northeastern United States. Write down the fitted model equation\n",
    "and provide 95 percent confidence intervals for each estimated\n",
    "coefficient"
   ]
  },
  {
   "cell_type": "code",
   "execution_count": 115,
   "metadata": {},
   "outputs": [
    {
     "data": {
      "text/plain": [
       "\n",
       "Call:\n",
       "lm(formula = cost ~ date + cap + ne, data = nuclear)\n",
       "\n",
       "Residuals:\n",
       "     Min       1Q   Median       3Q      Max \n",
       "-154.966  -68.202   -3.614   45.919  285.014 \n",
       "\n",
       "Coefficients:\n",
       "              Estimate Std. Error t value Pr(>|t|)    \n",
       "(Intercept) -6.458e+03  1.216e+03  -5.310 1.19e-05 ***\n",
       "date         9.544e+01  1.773e+01   5.382 9.77e-06 ***\n",
       "cap          4.157e-01  9.463e-02   4.393 0.000145 ***\n",
       "ne           1.261e+02  4.092e+01   3.083 0.004575 ** \n",
       "---\n",
       "Signif. codes:  0 '***' 0.001 '**' 0.01 '*' 0.05 '.' 0.1 ' ' 1\n",
       "\n",
       "Residual standard error: 99.74 on 28 degrees of freedom\n",
       "Multiple R-squared:  0.6895,\tAdjusted R-squared:  0.6562 \n",
       "F-statistic: 20.73 on 3 and 28 DF,  p-value: 2.827e-07\n"
      ]
     },
     "metadata": {},
     "output_type": "display_data"
    },
    {
     "name": "stdout",
     "output_type": "stream",
     "text": [
      "  (Intercept)          date           cap            ne \n",
      "-6458.3889006    95.4385587     0.4157157   126.1287688 \n"
     ]
    }
   ],
   "source": [
    "fit3 = lm(cost ~ date + cap + ne , data = nuclear)\n",
    "summary(fit3)\n",
    "print(coef(fit3))"
   ]
  },
  {
   "cell_type": "code",
   "execution_count": 116,
   "metadata": {},
   "outputs": [
    {
     "data": {
      "text/html": [
       "<table>\n",
       "<thead><tr><th></th><th scope=col>2.5 %</th><th scope=col>97.5 %</th></tr></thead>\n",
       "<tbody>\n",
       "\t<tr><th scope=row>(Intercept)</th><td>-790.308934</td><td>306.01721  </td></tr>\n",
       "\t<tr><th scope=row>t1</th><td>  11.325636</td><td> 48.49044  </td></tr>\n",
       "\t<tr><th scope=row>t2</th><td>  -1.335068</td><td> 10.71288  </td></tr>\n",
       "</tbody>\n",
       "</table>\n"
      ],
      "text/latex": [
       "\\begin{tabular}{r|ll}\n",
       "  & 2.5 \\% & 97.5 \\%\\\\\n",
       "\\hline\n",
       "\t(Intercept) & -790.308934 & 306.01721  \\\\\n",
       "\tt1 &   11.325636 &  48.49044  \\\\\n",
       "\tt2 &   -1.335068 &  10.71288  \\\\\n",
       "\\end{tabular}\n"
      ],
      "text/markdown": [
       "\n",
       "| <!--/--> | 2.5 % | 97.5 % | \n",
       "|---|---|---|\n",
       "| (Intercept) | -790.308934 | 306.01721   | \n",
       "| t1 |   11.325636 |  48.49044   | \n",
       "| t2 |   -1.335068 |  10.71288   | \n",
       "\n",
       "\n"
      ],
      "text/plain": [
       "            2.5 %       97.5 %   \n",
       "(Intercept) -790.308934 306.01721\n",
       "t1            11.325636  48.49044\n",
       "t2            -1.335068  10.71288"
      ]
     },
     "metadata": {},
     "output_type": "display_data"
    }
   ],
   "source": [
    "confint(fit)"
   ]
  },
  {
   "cell_type": "code",
   "execution_count": 117,
   "metadata": {},
   "outputs": [
    {
     "data": {
      "text/html": [
       "<table>\n",
       "<thead><tr><th></th><th scope=col>2.5 %</th><th scope=col>97.5 %</th></tr></thead>\n",
       "<tbody>\n",
       "\t<tr><th scope=row>(Intercept)</th><td>-1.532568e+04</td><td>-3139.985663 </td></tr>\n",
       "\t<tr><th scope=row>t1</th><td>-3.517138e+01</td><td>   23.336067 </td></tr>\n",
       "\t<tr><th scope=row>t2</th><td>-6.889603e-01</td><td>    9.966077 </td></tr>\n",
       "\t<tr><th scope=row>date</th><td> 4.488118e+01</td><td>  231.766761 </td></tr>\n",
       "</tbody>\n",
       "</table>\n"
      ],
      "text/latex": [
       "\\begin{tabular}{r|ll}\n",
       "  & 2.5 \\% & 97.5 \\%\\\\\n",
       "\\hline\n",
       "\t(Intercept) & -1.532568e+04 & -3139.985663 \\\\\n",
       "\tt1 & -3.517138e+01 &    23.336067 \\\\\n",
       "\tt2 & -6.889603e-01 &     9.966077 \\\\\n",
       "\tdate &  4.488118e+01 &   231.766761 \\\\\n",
       "\\end{tabular}\n"
      ],
      "text/markdown": [
       "\n",
       "| <!--/--> | 2.5 % | 97.5 % | \n",
       "|---|---|---|---|\n",
       "| (Intercept) | -1.532568e+04 | -3139.985663  | \n",
       "| t1 | -3.517138e+01 |    23.336067  | \n",
       "| t2 | -6.889603e-01 |     9.966077  | \n",
       "| date |  4.488118e+01 |   231.766761  | \n",
       "\n",
       "\n"
      ],
      "text/plain": [
       "            2.5 %         97.5 %      \n",
       "(Intercept) -1.532568e+04 -3139.985663\n",
       "t1          -3.517138e+01    23.336067\n",
       "t2          -6.889603e-01     9.966077\n",
       "date         4.488118e+01   231.766761"
      ]
     },
     "metadata": {},
     "output_type": "display_data"
    }
   ],
   "source": [
    "confint(fit2)"
   ]
  },
  {
   "cell_type": "code",
   "execution_count": 118,
   "metadata": {},
   "outputs": [
    {
     "data": {
      "text/html": [
       "<table>\n",
       "<thead><tr><th></th><th scope=col>2.5 %</th><th scope=col>97.5 %</th></tr></thead>\n",
       "<tbody>\n",
       "\t<tr><th scope=row>(Intercept)</th><td>-8949.8032112</td><td>-3966.9745900</td></tr>\n",
       "\t<tr><th scope=row>date</th><td>   59.1134640</td><td>  131.7636535</td></tr>\n",
       "\t<tr><th scope=row>cap</th><td>    0.2218791</td><td>    0.6095524</td></tr>\n",
       "\t<tr><th scope=row>ne</th><td>   42.3145363</td><td>  209.9430014</td></tr>\n",
       "</tbody>\n",
       "</table>\n"
      ],
      "text/latex": [
       "\\begin{tabular}{r|ll}\n",
       "  & 2.5 \\% & 97.5 \\%\\\\\n",
       "\\hline\n",
       "\t(Intercept) & -8949.8032112 & -3966.9745900\\\\\n",
       "\tdate &    59.1134640 &   131.7636535\\\\\n",
       "\tcap &     0.2218791 &     0.6095524\\\\\n",
       "\tne &    42.3145363 &   209.9430014\\\\\n",
       "\\end{tabular}\n"
      ],
      "text/markdown": [
       "\n",
       "| <!--/--> | 2.5 % | 97.5 % | \n",
       "|---|---|---|---|\n",
       "| (Intercept) | -8949.8032112 | -3966.9745900 | \n",
       "| date |    59.1134640 |   131.7636535 | \n",
       "| cap |     0.2218791 |     0.6095524 | \n",
       "| ne |    42.3145363 |   209.9430014 | \n",
       "\n",
       "\n"
      ],
      "text/plain": [
       "            2.5 %         97.5 %       \n",
       "(Intercept) -8949.8032112 -3966.9745900\n",
       "date           59.1134640   131.7636535\n",
       "cap             0.2218791     0.6095524\n",
       "ne             42.3145363   209.9430014"
      ]
     },
     "metadata": {},
     "output_type": "display_data"
    }
   ],
   "source": [
    "confint(fit3)"
   ]
  },
  {
   "cell_type": "markdown",
   "metadata": {},
   "source": [
    "__The following table gives an excerpt of a historical data set compiled between 1961 and 1973. It concerns the annual murder rate in\n",
    "Detroit, Michigan; the data were originally presented and analyzed\n",
    "by Fisher (1976) and are reproduced here from Harraway (1995).\n",
    "In the data set you’ll find the number of murders, police officers,\n",
    "and gun licenses issued per 100,000 population, as well as the overall\n",
    "unemployment rate as a percentage of the overall population__"
   ]
  },
  {
   "cell_type": "markdown",
   "metadata": {},
   "source": [
    "__i.__ Create your own data frame in your R workspace and produce\n",
    "a scatterplot matrix. Which of the variables appears to be most\n",
    "strongly related to the murder rate?"
   ]
  },
  {
   "cell_type": "code",
   "execution_count": 122,
   "metadata": {},
   "outputs": [
    {
     "data": {
      "image/png": "[encoded data removed]",
      "text/plain": [
       "plot without title"
      ]
     },
     "metadata": {},
     "output_type": "display_data"
    }
   ],
   "source": [
    "Murders = c(8.60, 8.90, 8.52, 8.89, 13.07, 14.57, 21.36, 28.03, 31.49, 37.39, 46.26, 47.24, 52.33)\n",
    "Police = c(260.35,269.8 ,272.04,272.96,272.51,261.34,268.89,295.99,319.87,341.43,356.59,376.69,390.19)\n",
    "Unemployment = c(11,7,5.2,4.3,3.5,3.2,4.1,3.9,3.6,7.1,8.4,7.7,6.3)\n",
    "Guns = c(178.15,156.41,98.02,222.1,301.92,391.22,665.56,1131.21,837.6,794.9,817.74,583.17,709.59)\n",
    "table = data.frame(Murders, Police, Unemployment, Guns)\n",
    "pairs(table)"
   ]
  },
  {
   "cell_type": "markdown",
   "metadata": {},
   "source": [
    "Police appears to be most strongly related to the murder rates"
   ]
  },
  {
   "cell_type": "markdown",
   "metadata": {},
   "source": [
    "__j.__ <br> Fit a multiple linear regression model using the number of\n",
    "murders as the response and all other variables as predictors.\n",
    "Write down the model equation and interpret the coefficients. Is\n",
    "it reasonable to state that all relationships between the response\n",
    "and the predictors are causal?"
   ]
  },
  {
   "cell_type": "code",
   "execution_count": 125,
   "metadata": {},
   "outputs": [
    {
     "data": {
      "text/plain": [
       "\n",
       "Call:\n",
       "lm(formula = Murders ~ Police + Unemployment + Guns, data = table)\n",
       "\n",
       "Residuals:\n",
       "    Min      1Q  Median      3Q     Max \n",
       "-2.9108 -1.9376  0.0573  0.8892  4.5495 \n",
       "\n",
       "Coefficients:\n",
       "               Estimate Std. Error t value Pr(>|t|)    \n",
       "(Intercept)  -68.359320   5.666327 -12.064 7.36e-07 ***\n",
       "Police         0.280249   0.023598  11.876 8.41e-07 ***\n",
       "Unemployment   0.132532   0.389850   0.340  0.74169    \n",
       "Guns           0.013929   0.003276   4.252  0.00214 ** \n",
       "---\n",
       "Signif. codes:  0 '***' 0.001 '**' 0.01 '*' 0.05 '.' 0.1 ' ' 1\n",
       "\n",
       "Residual standard error: 2.78 on 9 degrees of freedom\n",
       "Multiple R-squared:  0.9784,\tAdjusted R-squared:  0.9712 \n",
       "F-statistic:   136 on 3 and 9 DF,  p-value: 8.174e-08\n"
      ]
     },
     "metadata": {},
     "output_type": "display_data"
    }
   ],
   "source": [
    "fit = lm(Murders ~ Police + Unemployment + Guns, data = table)\n",
    "summary(fit)"
   ]
  },
  {
   "cell_type": "markdown",
   "metadata": {},
   "source": [
    "Murders = -68.359320 + 0.280249 \\* Police + 0.132532 \\* Unemployment + 0.013929 \\* Guns"
   ]
  },
  {
   "cell_type": "markdown",
   "metadata": {},
   "source": [
    "__k__. <br>\n",
    "Identify the amount of variation in the response attributed to\n",
    "the joint effect of the three explanatory variables. Then refit the\n",
    "model excluding the predictor associated with the largest (in\n",
    "other words, “most nonsignificant”) p-value. Compare the new\n",
    "coefficient of determination with that of the previous model. Is\n",
    "there much difference"
   ]
  },
  {
   "cell_type": "code",
   "execution_count": 126,
   "metadata": {},
   "outputs": [
    {
     "data": {
      "text/plain": [
       "\n",
       "Call:\n",
       "lm(formula = Murders ~ Police + Unemployment + Guns, data = table)\n",
       "\n",
       "Residuals:\n",
       "    Min      1Q  Median      3Q     Max \n",
       "-2.9108 -1.9376  0.0573  0.8892  4.5495 \n",
       "\n",
       "Coefficients:\n",
       "               Estimate Std. Error t value Pr(>|t|)    \n",
       "(Intercept)  -68.359320   5.666327 -12.064 7.36e-07 ***\n",
       "Police         0.280249   0.023598  11.876 8.41e-07 ***\n",
       "Unemployment   0.132532   0.389850   0.340  0.74169    \n",
       "Guns           0.013929   0.003276   4.252  0.00214 ** \n",
       "---\n",
       "Signif. codes:  0 '***' 0.001 '**' 0.01 '*' 0.05 '.' 0.1 ' ' 1\n",
       "\n",
       "Residual standard error: 2.78 on 9 degrees of freedom\n",
       "Multiple R-squared:  0.9784,\tAdjusted R-squared:  0.9712 \n",
       "F-statistic:   136 on 3 and 9 DF,  p-value: 8.174e-08\n"
      ]
     },
     "metadata": {},
     "output_type": "display_data"
    }
   ],
   "source": [
    "fit1 = lm(Murders ~ Police + Unemployment + Guns, data = table)\n",
    "summary(fit1)"
   ]
  },
  {
   "cell_type": "code",
   "execution_count": 127,
   "metadata": {},
   "outputs": [
    {
     "data": {
      "text/plain": [
       "\n",
       "Call:\n",
       "lm(formula = cost ~ t1 + t2 + date, data = nuclear)\n",
       "\n",
       "Residuals:\n",
       "    Min      1Q  Median      3Q     Max \n",
       "-208.63  -90.74  -12.07   59.78  324.19 \n",
       "\n",
       "Coefficients:\n",
       "             Estimate Std. Error t value Pr(>|t|)   \n",
       "(Intercept) -9232.833   2974.432  -3.104  0.00434 **\n",
       "t1             -5.918     14.281  -0.414  0.68176   \n",
       "t2              4.639      2.601   1.784  0.08535 . \n",
       "date          138.324     45.617   3.032  0.00519 **\n",
       "---\n",
       "Signif. codes:  0 '***' 0.001 '**' 0.01 '*' 0.05 '.' 0.1 ' ' 1\n",
       "\n",
       "Residual standard error: 132.5 on 28 degrees of freedom\n",
       "Multiple R-squared:  0.452,\tAdjusted R-squared:  0.3933 \n",
       "F-statistic: 7.698 on 3 and 28 DF,  p-value: 0.000667\n"
      ]
     },
     "metadata": {},
     "output_type": "display_data"
    }
   ],
   "source": [
    "fi2 = lm(Murders ~ Police + Unemployment, data = table)\n",
    "summary(fit2)"
   ]
  },
  {
   "cell_type": "code",
   "execution_count": 128,
   "metadata": {},
   "outputs": [
    {
     "data": {
      "text/plain": [
       "\n",
       "Call:\n",
       "lm(formula = Murders ~ Police + Guns, data = table)\n",
       "\n",
       "Residuals:\n",
       "    Min      1Q  Median      3Q     Max \n",
       "-3.1302 -1.7936  0.1022  0.8947  4.5211 \n",
       "\n",
       "Coefficients:\n",
       "              Estimate Std. Error t value Pr(>|t|)    \n",
       "(Intercept) -68.495811   5.396355 -12.693 1.72e-07 ***\n",
       "Police        0.284011   0.019898  14.273 5.63e-08 ***\n",
       "Guns          0.013473   0.002854   4.721 0.000815 ***\n",
       "---\n",
       "Signif. codes:  0 '***' 0.001 '**' 0.01 '*' 0.05 '.' 0.1 ' ' 1\n",
       "\n",
       "Residual standard error: 2.654 on 10 degrees of freedom\n",
       "Multiple R-squared:  0.9781,\tAdjusted R-squared:  0.9738 \n",
       "F-statistic: 223.7 on 2 and 10 DF,  p-value: 4.992e-09\n"
      ]
     },
     "metadata": {},
     "output_type": "display_data"
    }
   ],
   "source": [
    "fit3 = lm(Murders ~ Police + Guns, data = table)\n",
    "summary(fit3)"
   ]
  },
  {
   "cell_type": "code",
   "execution_count": 129,
   "metadata": {},
   "outputs": [
    {
     "data": {
      "text/plain": [
       "\n",
       "Call:\n",
       "lm(formula = Murders ~ Unemployment + Guns, data = table)\n",
       "\n",
       "Residuals:\n",
       "     Min       1Q   Median       3Q      Max \n",
       "-16.3311  -4.3600  -0.6609   2.1653  18.9804 \n",
       "\n",
       "Coefficients:\n",
       "              Estimate Std. Error t value Pr(>|t|)   \n",
       "(Intercept)  -9.004279  10.341856  -0.871  0.40435   \n",
       "Unemployment  2.303994   1.333694   1.728  0.11477   \n",
       "Guns          0.039232   0.009639   4.070  0.00225 **\n",
       "---\n",
       "Signif. codes:  0 '***' 0.001 '**' 0.01 '*' 0.05 '.' 0.1 ' ' 1\n",
       "\n",
       "Residual standard error: 10.77 on 10 degrees of freedom\n",
       "Multiple R-squared:  0.6402,\tAdjusted R-squared:  0.5682 \n",
       "F-statistic: 8.896 on 2 and 10 DF,  p-value: 0.006031\n"
      ]
     },
     "metadata": {},
     "output_type": "display_data"
    }
   ],
   "source": [
    "fit4 = lm(Murders ~ Unemployment + Guns, data = table)\n",
    "summary(fit4)"
   ]
  },
  {
   "cell_type": "markdown",
   "metadata": {},
   "source": [
    "__l__ <br>\n",
    "Use your model from (k) to predict the mean number of murders per 100,000 residents, with 300 police officers and 500\n",
    "issued gun licenses. Compare this to the mean response if there\n",
    "were no gun licenses issued and provide 99 percent confidence\n",
    "intervals for both predictions."
   ]
  },
  {
   "cell_type": "code",
   "execution_count": 130,
   "metadata": {},
   "outputs": [
    {
     "data": {
      "text/html": [
       "<dl class=dl-horizontal>\n",
       "\t<dt>(Intercept)</dt>\n",
       "\t\t<dd>-68.4958114656066</dd>\n",
       "\t<dt>Police</dt>\n",
       "\t\t<dd>0.284011121254588</dd>\n",
       "\t<dt>Guns</dt>\n",
       "\t\t<dd>0.0134727711577508</dd>\n",
       "</dl>\n"
      ],
      "text/latex": [
       "\\begin{description*}\n",
       "\\item[(Intercept)] -68.4958114656066\n",
       "\\item[Police] 0.284011121254588\n",
       "\\item[Guns] 0.0134727711577508\n",
       "\\end{description*}\n"
      ],
      "text/markdown": [
       "(Intercept)\n",
       ":   -68.4958114656066Police\n",
       ":   0.284011121254588Guns\n",
       ":   0.0134727711577508\n",
       "\n"
      ],
      "text/plain": [
       " (Intercept)       Police         Guns \n",
       "-68.49581147   0.28401112   0.01347277 "
      ]
     },
     "metadata": {},
     "output_type": "display_data"
    }
   ],
   "source": [
    "fit3 = lm(Murders ~ Police + Guns, data = table)\n",
    "fit3.coefs = coef(fit3)\n",
    "fit3.coefs\n"
   ]
  },
  {
   "cell_type": "code",
   "execution_count": 137,
   "metadata": {},
   "outputs": [
    {
     "name": "stdout",
     "output_type": "stream",
     "text": [
      "Muder rate:  23.44391"
     ]
    },
    {
     "data": {
      "text/html": [
       "<table>\n",
       "<thead><tr><th></th><th scope=col>fit</th><th scope=col>lwr</th><th scope=col>upr</th></tr></thead>\n",
       "<tbody>\n",
       "\t<tr><th scope=row>1</th><td>23.44391</td><td>21.09699</td><td>25.79083</td></tr>\n",
       "</tbody>\n",
       "</table>\n"
      ],
      "text/latex": [
       "\\begin{tabular}{r|lll}\n",
       "  & fit & lwr & upr\\\\\n",
       "\\hline\n",
       "\t1 & 23.44391 & 21.09699 & 25.79083\\\\\n",
       "\\end{tabular}\n"
      ],
      "text/markdown": [
       "\n",
       "| <!--/--> | fit | lwr | upr | \n",
       "|---|\n",
       "| 1 | 23.44391 | 21.09699 | 25.79083 | \n",
       "\n",
       "\n"
      ],
      "text/plain": [
       "  fit      lwr      upr     \n",
       "1 23.44391 21.09699 25.79083"
      ]
     },
     "metadata": {},
     "output_type": "display_data"
    }
   ],
   "source": [
    "police = 300\n",
    "guns = 500\n",
    "cat(\"Muder rate: \", fit3.coefs[1] + police * fit3.coefs[2] + guns * fit3.coefs[3])\n",
    "predict(fit3, newdata = data.frame(Police = police, Guns = guns), interval = \"confidence\", level = .99)"
   ]
  },
  {
   "cell_type": "code",
   "execution_count": 134,
   "metadata": {},
   "outputs": [
    {
     "name": "stdout",
     "output_type": "stream",
     "text": [
      "Muder rate:  16.70752"
     ]
    },
    {
     "data": {
      "text/html": [
       "<table>\n",
       "<thead><tr><th></th><th scope=col>fit</th><th scope=col>lwr</th><th scope=col>upr</th></tr></thead>\n",
       "<tbody>\n",
       "\t<tr><th scope=row>1</th><td>16.70752</td><td>11.51793</td><td>21.89712</td></tr>\n",
       "</tbody>\n",
       "</table>\n"
      ],
      "text/latex": [
       "\\begin{tabular}{r|lll}\n",
       "  & fit & lwr & upr\\\\\n",
       "\\hline\n",
       "\t1 & 16.70752 & 11.51793 & 21.89712\\\\\n",
       "\\end{tabular}\n"
      ],
      "text/markdown": [
       "\n",
       "| <!--/--> | fit | lwr | upr | \n",
       "|---|\n",
       "| 1 | 16.70752 | 11.51793 | 21.89712 | \n",
       "\n",
       "\n"
      ],
      "text/plain": [
       "  fit      lwr      upr     \n",
       "1 16.70752 11.51793 21.89712"
      ]
     },
     "metadata": {},
     "output_type": "display_data"
    }
   ],
   "source": [
    "police = 300\n",
    "guns = 500\n",
    "cat(\"Muder rate: \", fit3.coefs[1] + police * fit3.coefs[2])\n",
    "predict(fit3, newdata = data.frame(Police = police, Guns = 0), interval = \"confidence\", level = .99)"
   ]
  },
  {
   "cell_type": "code",
   "execution_count": null,
   "metadata": {},
   "outputs": [],
   "source": []
  }
 ],
 "metadata": {
  "kernelspec": {
   "display_name": "R",
   "language": "R",
   "name": "ir"
  },
  "language_info": {
   "codemirror_mode": "r",
   "file_extension": ".r",
   "mimetype": "text/x-r-source",
   "name": "R",
   "pygments_lexer": "r",
   "version": "3.4.3"
  }
 },
 "nbformat": 4,
 "nbformat_minor": 2
}
